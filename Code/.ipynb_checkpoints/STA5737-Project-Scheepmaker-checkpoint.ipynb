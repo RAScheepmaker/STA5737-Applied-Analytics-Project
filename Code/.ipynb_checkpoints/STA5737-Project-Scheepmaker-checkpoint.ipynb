{
 "cells": [
  {
   "cell_type": "code",
   "execution_count": null,
   "id": "f69e0ef2-ad99-4fa5-9f58-524b1fde68ab",
   "metadata": {},
   "outputs": [],
   "source": []
  },
  {
   "cell_type": "code",
   "execution_count": null,
   "id": "2689c3eb-085f-4dc1-92a5-6c4e71865460",
   "metadata": {},
   "outputs": [],
   "source": []
  },
  {
   "cell_type": "code",
   "execution_count": null,
   "id": "408a3cc5-9f98-40cd-b605-c918d33aa9be",
   "metadata": {},
   "outputs": [],
   "source": []
  },
  {
   "cell_type": "code",
   "execution_count": null,
   "id": "beb2c692-8c83-4e12-b2f7-fd43d3e556be",
   "metadata": {},
   "outputs": [],
   "source": []
  },
  {
   "cell_type": "code",
   "execution_count": 2,
   "id": "5cf912e4-6698-4cb8-b74d-6eab94673ed1",
   "metadata": {},
   "outputs": [
    {
     "data": {
      "text/html": [
       "<style>\n",
       ".list-inline {list-style: none; margin:0; padding: 0}\n",
       ".list-inline>li {display: inline-block}\n",
       ".list-inline>li:not(:last-child)::after {content: \"\\00b7\"; padding: 0 .5ex}\n",
       "</style>\n",
       "<ol class=list-inline><li>405624</li><li>10</li></ol>\n"
      ],
      "text/latex": [
       "\\begin{enumerate*}\n",
       "\\item 405624\n",
       "\\item 10\n",
       "\\end{enumerate*}\n"
      ],
      "text/markdown": [
       "1. 405624\n",
       "2. 10\n",
       "\n",
       "\n"
      ],
      "text/plain": [
       "[1] 405624     10"
      ]
     },
     "metadata": {},
     "output_type": "display_data"
    },
    {
     "data": {
      "text/html": [
       "0"
      ],
      "text/latex": [
       "0"
      ],
      "text/markdown": [
       "0"
      ],
      "text/plain": [
       "[1] 0"
      ]
     },
     "metadata": {},
     "output_type": "display_data"
    }
   ],
   "source": [
    "# Load the data into a dataframe\n",
    "data_flights <- read.csv('../Data/CustomerFlightActivity.csv')\n",
    "dim(data_flights)\n",
    "\n",
    "# Print the total amount of 'NA's in the data\n",
    "sum(is.na(data_flights))"
   ]
  },
  {
   "cell_type": "code",
   "execution_count": 3,
   "id": "f15390a3-4aae-4733-a089-7d6e67ec8638",
   "metadata": {},
   "outputs": [
    {
     "data": {
      "text/html": [
       "<table class=\"dataframe\">\n",
       "<caption>A data.frame: 6 × 10</caption>\n",
       "<thead>\n",
       "\t<tr><th></th><th scope=col>Loyalty.Number</th><th scope=col>Year</th><th scope=col>Month</th><th scope=col>Flights.Booked</th><th scope=col>Flights.with.Companions</th><th scope=col>Total.Flights</th><th scope=col>Distance</th><th scope=col>Points.Accumulated</th><th scope=col>Points.Redeemed</th><th scope=col>Dollar.Cost.Points.Redeemed</th></tr>\n",
       "\t<tr><th></th><th scope=col>&lt;int&gt;</th><th scope=col>&lt;int&gt;</th><th scope=col>&lt;int&gt;</th><th scope=col>&lt;int&gt;</th><th scope=col>&lt;int&gt;</th><th scope=col>&lt;int&gt;</th><th scope=col>&lt;int&gt;</th><th scope=col>&lt;dbl&gt;</th><th scope=col>&lt;int&gt;</th><th scope=col>&lt;int&gt;</th></tr>\n",
       "</thead>\n",
       "<tbody>\n",
       "\t<tr><th scope=row>1</th><td>100018</td><td>2017</td><td>1</td><td> 3</td><td>0</td><td> 3</td><td>1521</td><td>152</td><td>0</td><td>0</td></tr>\n",
       "\t<tr><th scope=row>2</th><td>100102</td><td>2017</td><td>1</td><td>10</td><td>4</td><td>14</td><td>2030</td><td>203</td><td>0</td><td>0</td></tr>\n",
       "\t<tr><th scope=row>3</th><td>100140</td><td>2017</td><td>1</td><td> 6</td><td>0</td><td> 6</td><td>1200</td><td>120</td><td>0</td><td>0</td></tr>\n",
       "\t<tr><th scope=row>4</th><td>100214</td><td>2017</td><td>1</td><td> 0</td><td>0</td><td> 0</td><td>   0</td><td>  0</td><td>0</td><td>0</td></tr>\n",
       "\t<tr><th scope=row>5</th><td>100272</td><td>2017</td><td>1</td><td> 0</td><td>0</td><td> 0</td><td>   0</td><td>  0</td><td>0</td><td>0</td></tr>\n",
       "\t<tr><th scope=row>6</th><td>100301</td><td>2017</td><td>1</td><td> 0</td><td>0</td><td> 0</td><td>   0</td><td>  0</td><td>0</td><td>0</td></tr>\n",
       "</tbody>\n",
       "</table>\n"
      ],
      "text/latex": [
       "A data.frame: 6 × 10\n",
       "\\begin{tabular}{r|llllllllll}\n",
       "  & Loyalty.Number & Year & Month & Flights.Booked & Flights.with.Companions & Total.Flights & Distance & Points.Accumulated & Points.Redeemed & Dollar.Cost.Points.Redeemed\\\\\n",
       "  & <int> & <int> & <int> & <int> & <int> & <int> & <int> & <dbl> & <int> & <int>\\\\\n",
       "\\hline\n",
       "\t1 & 100018 & 2017 & 1 &  3 & 0 &  3 & 1521 & 152 & 0 & 0\\\\\n",
       "\t2 & 100102 & 2017 & 1 & 10 & 4 & 14 & 2030 & 203 & 0 & 0\\\\\n",
       "\t3 & 100140 & 2017 & 1 &  6 & 0 &  6 & 1200 & 120 & 0 & 0\\\\\n",
       "\t4 & 100214 & 2017 & 1 &  0 & 0 &  0 &    0 &   0 & 0 & 0\\\\\n",
       "\t5 & 100272 & 2017 & 1 &  0 & 0 &  0 &    0 &   0 & 0 & 0\\\\\n",
       "\t6 & 100301 & 2017 & 1 &  0 & 0 &  0 &    0 &   0 & 0 & 0\\\\\n",
       "\\end{tabular}\n"
      ],
      "text/markdown": [
       "\n",
       "A data.frame: 6 × 10\n",
       "\n",
       "| <!--/--> | Loyalty.Number &lt;int&gt; | Year &lt;int&gt; | Month &lt;int&gt; | Flights.Booked &lt;int&gt; | Flights.with.Companions &lt;int&gt; | Total.Flights &lt;int&gt; | Distance &lt;int&gt; | Points.Accumulated &lt;dbl&gt; | Points.Redeemed &lt;int&gt; | Dollar.Cost.Points.Redeemed &lt;int&gt; |\n",
       "|---|---|---|---|---|---|---|---|---|---|---|\n",
       "| 1 | 100018 | 2017 | 1 |  3 | 0 |  3 | 1521 | 152 | 0 | 0 |\n",
       "| 2 | 100102 | 2017 | 1 | 10 | 4 | 14 | 2030 | 203 | 0 | 0 |\n",
       "| 3 | 100140 | 2017 | 1 |  6 | 0 |  6 | 1200 | 120 | 0 | 0 |\n",
       "| 4 | 100214 | 2017 | 1 |  0 | 0 |  0 |    0 |   0 | 0 | 0 |\n",
       "| 5 | 100272 | 2017 | 1 |  0 | 0 |  0 |    0 |   0 | 0 | 0 |\n",
       "| 6 | 100301 | 2017 | 1 |  0 | 0 |  0 |    0 |   0 | 0 | 0 |\n",
       "\n"
      ],
      "text/plain": [
       "  Loyalty.Number Year Month Flights.Booked Flights.with.Companions\n",
       "1 100018         2017 1      3             0                      \n",
       "2 100102         2017 1     10             4                      \n",
       "3 100140         2017 1      6             0                      \n",
       "4 100214         2017 1      0             0                      \n",
       "5 100272         2017 1      0             0                      \n",
       "6 100301         2017 1      0             0                      \n",
       "  Total.Flights Distance Points.Accumulated Points.Redeemed\n",
       "1  3            1521     152                0              \n",
       "2 14            2030     203                0              \n",
       "3  6            1200     120                0              \n",
       "4  0               0       0                0              \n",
       "5  0               0       0                0              \n",
       "6  0               0       0                0              \n",
       "  Dollar.Cost.Points.Redeemed\n",
       "1 0                          \n",
       "2 0                          \n",
       "3 0                          \n",
       "4 0                          \n",
       "5 0                          \n",
       "6 0                          "
      ]
     },
     "metadata": {},
     "output_type": "display_data"
    }
   ],
   "source": [
    "head(data_flights)"
   ]
  },
  {
   "cell_type": "code",
   "execution_count": null,
   "id": "e23dc7f4-50c2-46d7-bc88-edc18c8cdec0",
   "metadata": {},
   "outputs": [],
   "source": [
    "data_loyalty <- read.csv('../Data/CustomerLoyaltyHistory.csv')\n",
    "dim(data_loyalty)\n",
    "sum(is.na(data_loyalty))"
   ]
  }
 ],
 "metadata": {
  "kernelspec": {
   "display_name": "R",
   "language": "R",
   "name": "ir"
  },
  "language_info": {
   "codemirror_mode": "r",
   "file_extension": ".r",
   "mimetype": "text/x-r-source",
   "name": "R",
   "pygments_lexer": "r",
   "version": "4.3.1"
  }
 },
 "nbformat": 4,
 "nbformat_minor": 5
}
