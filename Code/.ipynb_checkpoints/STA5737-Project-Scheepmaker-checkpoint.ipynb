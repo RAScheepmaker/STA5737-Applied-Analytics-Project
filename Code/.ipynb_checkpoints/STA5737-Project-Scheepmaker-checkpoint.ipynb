{
 "cells": [
  {
   "cell_type": "markdown",
   "id": "2f63227f-3713-48b6-bdcf-42c7b14e2c1f",
   "metadata": {},
   "source": [
    "# STA5737 Applied Analytics for Businesss - Individual Project\n",
    "\n",
    "## Kaggle Dataset \"Airline Loyalty Campaign Program Impact on Flights\"\n",
    "https://www.kaggle.com/datasets/agungpambudi/airline-loyalty-campaign-program-impact-on-flights/  \n",
    "\n",
    "**GitHub:** https://github.com/RAScheepmaker/STA5737-Applied-Analytics-Project \n",
    "\n",
    "This dataset contains customer demographics and flight booking activity between 2017-2018 from Canadian members of an airline loyalty program. \n",
    "\n",
    "The dataset consists of two separate csv files: \n",
    "\n",
    "1. The demographics file (\"CustomerLoyaltyHistory.csv\") contains information on customer's location, sex, marital status, education, salary, and loyalty status with the airline (type of status, customer lifetime value, enrollment and cancellation dates and whether they enrolled as part of a 2018 promotion).\n",
    "  \n",
    "2. The flights booking file (\"CustomerFlightActivity.csv\") contains monthly data on the number and distances of flights booked, either for themselves or with a companions. It also contains data on the number of points earned and redeemed. \n",
    "\n",
    "The original goal of this dataset was to study the impact of the Airline Loyalty Campaign. For example, how did the bookings of customers who enrolled as part of the promotional campaign differ from regular loyal customers? "
   ]
  },
  {
   "cell_type": "markdown",
   "id": "fbf814f8-1c77-43e0-b9d1-2f2cf26b423d",
   "metadata": {},
   "source": [
    "## Reading, Joining, and Cleaning the Data"
   ]
  },
  {
   "cell_type": "code",
   "execution_count": 1,
   "id": "beb2c692-8c83-4e12-b2f7-fd43d3e556be",
   "metadata": {},
   "outputs": [
    {
     "name": "stderr",
     "output_type": "stream",
     "text": [
      "Loading required package: gsubfn\n",
      "\n",
      "Loading required package: proto\n",
      "\n",
      "Loading required package: RSQLite\n",
      "\n"
     ]
    }
   ],
   "source": [
    "# Clear workspace.\n",
    "rm(list=ls(all=TRUE))\n",
    "\n",
    "# install.packages('sqldf')\n",
    "library(sqldf)"
   ]
  },
  {
   "cell_type": "code",
   "execution_count": 2,
   "id": "5cf912e4-6698-4cb8-b74d-6eab94673ed1",
   "metadata": {},
   "outputs": [
    {
     "data": {
      "text/html": [
       "<style>\n",
       ".list-inline {list-style: none; margin:0; padding: 0}\n",
       ".list-inline>li {display: inline-block}\n",
       ".list-inline>li:not(:last-child)::after {content: \"\\00b7\"; padding: 0 .5ex}\n",
       "</style>\n",
       "<ol class=list-inline><li>405624</li><li>10</li></ol>\n"
      ],
      "text/latex": [
       "\\begin{enumerate*}\n",
       "\\item 405624\n",
       "\\item 10\n",
       "\\end{enumerate*}\n"
      ],
      "text/markdown": [
       "1. 405624\n",
       "2. 10\n",
       "\n",
       "\n"
      ],
      "text/plain": [
       "[1] 405624     10"
      ]
     },
     "metadata": {},
     "output_type": "display_data"
    },
    {
     "data": {
      "text/html": [
       "0"
      ],
      "text/latex": [
       "0"
      ],
      "text/markdown": [
       "0"
      ],
      "text/plain": [
       "[1] 0"
      ]
     },
     "metadata": {},
     "output_type": "display_data"
    }
   ],
   "source": [
    "# Load the flights data into a dataframe\n",
    "flights <- read.csv('../Data/CustomerFlightActivity.csv', header=TRUE)\n",
    "dim(flights)\n",
    "\n",
    "# Print the total amount of 'NA's in the data\n",
    "sum(is.na(flights))"
   ]
  },
  {
   "cell_type": "code",
   "execution_count": 3,
   "id": "f15390a3-4aae-4733-a089-7d6e67ec8638",
   "metadata": {},
   "outputs": [
    {
     "data": {
      "text/html": [
       "<table class=\"dataframe\">\n",
       "<caption>A data.frame: 6 × 10</caption>\n",
       "<thead>\n",
       "\t<tr><th></th><th scope=col>Loyalty.Number</th><th scope=col>Year</th><th scope=col>Month</th><th scope=col>Flights.Booked</th><th scope=col>Flights.with.Companions</th><th scope=col>Total.Flights</th><th scope=col>Distance</th><th scope=col>Points.Accumulated</th><th scope=col>Points.Redeemed</th><th scope=col>Dollar.Cost.Points.Redeemed</th></tr>\n",
       "\t<tr><th></th><th scope=col>&lt;int&gt;</th><th scope=col>&lt;int&gt;</th><th scope=col>&lt;int&gt;</th><th scope=col>&lt;int&gt;</th><th scope=col>&lt;int&gt;</th><th scope=col>&lt;int&gt;</th><th scope=col>&lt;int&gt;</th><th scope=col>&lt;dbl&gt;</th><th scope=col>&lt;int&gt;</th><th scope=col>&lt;int&gt;</th></tr>\n",
       "</thead>\n",
       "<tbody>\n",
       "\t<tr><th scope=row>1</th><td>100018</td><td>2017</td><td>1</td><td> 3</td><td>0</td><td> 3</td><td>1521</td><td>152</td><td>0</td><td>0</td></tr>\n",
       "\t<tr><th scope=row>2</th><td>100102</td><td>2017</td><td>1</td><td>10</td><td>4</td><td>14</td><td>2030</td><td>203</td><td>0</td><td>0</td></tr>\n",
       "\t<tr><th scope=row>3</th><td>100140</td><td>2017</td><td>1</td><td> 6</td><td>0</td><td> 6</td><td>1200</td><td>120</td><td>0</td><td>0</td></tr>\n",
       "\t<tr><th scope=row>4</th><td>100214</td><td>2017</td><td>1</td><td> 0</td><td>0</td><td> 0</td><td>   0</td><td>  0</td><td>0</td><td>0</td></tr>\n",
       "\t<tr><th scope=row>5</th><td>100272</td><td>2017</td><td>1</td><td> 0</td><td>0</td><td> 0</td><td>   0</td><td>  0</td><td>0</td><td>0</td></tr>\n",
       "\t<tr><th scope=row>6</th><td>100301</td><td>2017</td><td>1</td><td> 0</td><td>0</td><td> 0</td><td>   0</td><td>  0</td><td>0</td><td>0</td></tr>\n",
       "</tbody>\n",
       "</table>\n"
      ],
      "text/latex": [
       "A data.frame: 6 × 10\n",
       "\\begin{tabular}{r|llllllllll}\n",
       "  & Loyalty.Number & Year & Month & Flights.Booked & Flights.with.Companions & Total.Flights & Distance & Points.Accumulated & Points.Redeemed & Dollar.Cost.Points.Redeemed\\\\\n",
       "  & <int> & <int> & <int> & <int> & <int> & <int> & <int> & <dbl> & <int> & <int>\\\\\n",
       "\\hline\n",
       "\t1 & 100018 & 2017 & 1 &  3 & 0 &  3 & 1521 & 152 & 0 & 0\\\\\n",
       "\t2 & 100102 & 2017 & 1 & 10 & 4 & 14 & 2030 & 203 & 0 & 0\\\\\n",
       "\t3 & 100140 & 2017 & 1 &  6 & 0 &  6 & 1200 & 120 & 0 & 0\\\\\n",
       "\t4 & 100214 & 2017 & 1 &  0 & 0 &  0 &    0 &   0 & 0 & 0\\\\\n",
       "\t5 & 100272 & 2017 & 1 &  0 & 0 &  0 &    0 &   0 & 0 & 0\\\\\n",
       "\t6 & 100301 & 2017 & 1 &  0 & 0 &  0 &    0 &   0 & 0 & 0\\\\\n",
       "\\end{tabular}\n"
      ],
      "text/markdown": [
       "\n",
       "A data.frame: 6 × 10\n",
       "\n",
       "| <!--/--> | Loyalty.Number &lt;int&gt; | Year &lt;int&gt; | Month &lt;int&gt; | Flights.Booked &lt;int&gt; | Flights.with.Companions &lt;int&gt; | Total.Flights &lt;int&gt; | Distance &lt;int&gt; | Points.Accumulated &lt;dbl&gt; | Points.Redeemed &lt;int&gt; | Dollar.Cost.Points.Redeemed &lt;int&gt; |\n",
       "|---|---|---|---|---|---|---|---|---|---|---|\n",
       "| 1 | 100018 | 2017 | 1 |  3 | 0 |  3 | 1521 | 152 | 0 | 0 |\n",
       "| 2 | 100102 | 2017 | 1 | 10 | 4 | 14 | 2030 | 203 | 0 | 0 |\n",
       "| 3 | 100140 | 2017 | 1 |  6 | 0 |  6 | 1200 | 120 | 0 | 0 |\n",
       "| 4 | 100214 | 2017 | 1 |  0 | 0 |  0 |    0 |   0 | 0 | 0 |\n",
       "| 5 | 100272 | 2017 | 1 |  0 | 0 |  0 |    0 |   0 | 0 | 0 |\n",
       "| 6 | 100301 | 2017 | 1 |  0 | 0 |  0 |    0 |   0 | 0 | 0 |\n",
       "\n"
      ],
      "text/plain": [
       "  Loyalty.Number Year Month Flights.Booked Flights.with.Companions\n",
       "1 100018         2017 1      3             0                      \n",
       "2 100102         2017 1     10             4                      \n",
       "3 100140         2017 1      6             0                      \n",
       "4 100214         2017 1      0             0                      \n",
       "5 100272         2017 1      0             0                      \n",
       "6 100301         2017 1      0             0                      \n",
       "  Total.Flights Distance Points.Accumulated Points.Redeemed\n",
       "1  3            1521     152                0              \n",
       "2 14            2030     203                0              \n",
       "3  6            1200     120                0              \n",
       "4  0               0       0                0              \n",
       "5  0               0       0                0              \n",
       "6  0               0       0                0              \n",
       "  Dollar.Cost.Points.Redeemed\n",
       "1 0                          \n",
       "2 0                          \n",
       "3 0                          \n",
       "4 0                          \n",
       "5 0                          \n",
       "6 0                          "
      ]
     },
     "metadata": {},
     "output_type": "display_data"
    },
    {
     "name": "stdout",
     "output_type": "stream",
     "text": [
      "'data.frame':\t405624 obs. of  10 variables:\n",
      " $ Loyalty.Number             : int  100018 100102 100140 100214 100272 100301 100364 100380 100428 100504 ...\n",
      " $ Year                       : int  2017 2017 2017 2017 2017 2017 2017 2017 2017 2017 ...\n",
      " $ Month                      : int  1 1 1 1 1 1 1 1 1 1 ...\n",
      " $ Flights.Booked             : int  3 10 6 0 0 0 0 0 6 0 ...\n",
      " $ Flights.with.Companions    : int  0 4 0 0 0 0 0 0 0 0 ...\n",
      " $ Total.Flights              : int  3 14 6 0 0 0 0 0 6 0 ...\n",
      " $ Distance                   : int  1521 2030 1200 0 0 0 0 0 606 0 ...\n",
      " $ Points.Accumulated         : num  152 203 120 0 0 0 0 0 60 0 ...\n",
      " $ Points.Redeemed            : int  0 0 0 0 0 0 0 0 0 0 ...\n",
      " $ Dollar.Cost.Points.Redeemed: int  0 0 0 0 0 0 0 0 0 0 ...\n"
     ]
    }
   ],
   "source": [
    "head(flights)\n",
    "str(flights)"
   ]
  },
  {
   "cell_type": "code",
   "execution_count": 4,
   "id": "10fe0db0-3bed-4b98-a329-e396cf356d98",
   "metadata": {},
   "outputs": [
    {
     "data": {
      "text/html": [
       "<table class=\"dataframe\">\n",
       "<caption>A data.frame: 6 × 10</caption>\n",
       "<thead>\n",
       "\t<tr><th></th><th scope=col>Loyalty.Number</th><th scope=col>Year</th><th scope=col>Month</th><th scope=col>Flights.Booked</th><th scope=col>Flights.with.Companions</th><th scope=col>Total.Flights</th><th scope=col>Distance</th><th scope=col>Points.Accumulated</th><th scope=col>Points.Redeemed</th><th scope=col>Dollar.Cost.Points.Redeemed</th></tr>\n",
       "\t<tr><th></th><th scope=col>&lt;int&gt;</th><th scope=col>&lt;int&gt;</th><th scope=col>&lt;int&gt;</th><th scope=col>&lt;int&gt;</th><th scope=col>&lt;int&gt;</th><th scope=col>&lt;int&gt;</th><th scope=col>&lt;int&gt;</th><th scope=col>&lt;dbl&gt;</th><th scope=col>&lt;int&gt;</th><th scope=col>&lt;int&gt;</th></tr>\n",
       "</thead>\n",
       "<tbody>\n",
       "\t<tr><th scope=row>405619</th><td>999891</td><td>2018</td><td>12</td><td>0</td><td>0</td><td>0</td><td>   0</td><td>  0</td><td>0</td><td>0</td></tr>\n",
       "\t<tr><th scope=row>405620</th><td>999902</td><td>2018</td><td>12</td><td>0</td><td>0</td><td>0</td><td>   0</td><td>  0</td><td>0</td><td>0</td></tr>\n",
       "\t<tr><th scope=row>405621</th><td>999911</td><td>2018</td><td>12</td><td>0</td><td>0</td><td>0</td><td>   0</td><td>  0</td><td>0</td><td>0</td></tr>\n",
       "\t<tr><th scope=row>405622</th><td>999940</td><td>2018</td><td>12</td><td>3</td><td>0</td><td>3</td><td>1233</td><td>123</td><td>0</td><td>0</td></tr>\n",
       "\t<tr><th scope=row>405623</th><td>999982</td><td>2018</td><td>12</td><td>0</td><td>0</td><td>0</td><td>   0</td><td>  0</td><td>0</td><td>0</td></tr>\n",
       "\t<tr><th scope=row>405624</th><td>999986</td><td>2018</td><td>12</td><td>0</td><td>0</td><td>0</td><td>   0</td><td>  0</td><td>0</td><td>0</td></tr>\n",
       "</tbody>\n",
       "</table>\n"
      ],
      "text/latex": [
       "A data.frame: 6 × 10\n",
       "\\begin{tabular}{r|llllllllll}\n",
       "  & Loyalty.Number & Year & Month & Flights.Booked & Flights.with.Companions & Total.Flights & Distance & Points.Accumulated & Points.Redeemed & Dollar.Cost.Points.Redeemed\\\\\n",
       "  & <int> & <int> & <int> & <int> & <int> & <int> & <int> & <dbl> & <int> & <int>\\\\\n",
       "\\hline\n",
       "\t405619 & 999891 & 2018 & 12 & 0 & 0 & 0 &    0 &   0 & 0 & 0\\\\\n",
       "\t405620 & 999902 & 2018 & 12 & 0 & 0 & 0 &    0 &   0 & 0 & 0\\\\\n",
       "\t405621 & 999911 & 2018 & 12 & 0 & 0 & 0 &    0 &   0 & 0 & 0\\\\\n",
       "\t405622 & 999940 & 2018 & 12 & 3 & 0 & 3 & 1233 & 123 & 0 & 0\\\\\n",
       "\t405623 & 999982 & 2018 & 12 & 0 & 0 & 0 &    0 &   0 & 0 & 0\\\\\n",
       "\t405624 & 999986 & 2018 & 12 & 0 & 0 & 0 &    0 &   0 & 0 & 0\\\\\n",
       "\\end{tabular}\n"
      ],
      "text/markdown": [
       "\n",
       "A data.frame: 6 × 10\n",
       "\n",
       "| <!--/--> | Loyalty.Number &lt;int&gt; | Year &lt;int&gt; | Month &lt;int&gt; | Flights.Booked &lt;int&gt; | Flights.with.Companions &lt;int&gt; | Total.Flights &lt;int&gt; | Distance &lt;int&gt; | Points.Accumulated &lt;dbl&gt; | Points.Redeemed &lt;int&gt; | Dollar.Cost.Points.Redeemed &lt;int&gt; |\n",
       "|---|---|---|---|---|---|---|---|---|---|---|\n",
       "| 405619 | 999891 | 2018 | 12 | 0 | 0 | 0 |    0 |   0 | 0 | 0 |\n",
       "| 405620 | 999902 | 2018 | 12 | 0 | 0 | 0 |    0 |   0 | 0 | 0 |\n",
       "| 405621 | 999911 | 2018 | 12 | 0 | 0 | 0 |    0 |   0 | 0 | 0 |\n",
       "| 405622 | 999940 | 2018 | 12 | 3 | 0 | 3 | 1233 | 123 | 0 | 0 |\n",
       "| 405623 | 999982 | 2018 | 12 | 0 | 0 | 0 |    0 |   0 | 0 | 0 |\n",
       "| 405624 | 999986 | 2018 | 12 | 0 | 0 | 0 |    0 |   0 | 0 | 0 |\n",
       "\n"
      ],
      "text/plain": [
       "       Loyalty.Number Year Month Flights.Booked Flights.with.Companions\n",
       "405619 999891         2018 12    0              0                      \n",
       "405620 999902         2018 12    0              0                      \n",
       "405621 999911         2018 12    0              0                      \n",
       "405622 999940         2018 12    3              0                      \n",
       "405623 999982         2018 12    0              0                      \n",
       "405624 999986         2018 12    0              0                      \n",
       "       Total.Flights Distance Points.Accumulated Points.Redeemed\n",
       "405619 0                0       0                0              \n",
       "405620 0                0       0                0              \n",
       "405621 0                0       0                0              \n",
       "405622 3             1233     123                0              \n",
       "405623 0                0       0                0              \n",
       "405624 0                0       0                0              \n",
       "       Dollar.Cost.Points.Redeemed\n",
       "405619 0                          \n",
       "405620 0                          \n",
       "405621 0                          \n",
       "405622 0                          \n",
       "405623 0                          \n",
       "405624 0                          "
      ]
     },
     "metadata": {},
     "output_type": "display_data"
    }
   ],
   "source": [
    "tail(flights)"
   ]
  },
  {
   "cell_type": "markdown",
   "id": "c7f61ae2-8c4a-48d5-b3bb-f7e65150655b",
   "metadata": {},
   "source": [
    "The flights data contains monthly booking data for every customer between January 2017 and December 2018, without any NAs. I will later aggregate this data into total numbers for each customer and then join those totals to the Customer Loyalty dataset. "
   ]
  },
  {
   "cell_type": "code",
   "execution_count": 5,
   "id": "e23dc7f4-50c2-46d7-bc88-edc18c8cdec0",
   "metadata": {},
   "outputs": [
    {
     "data": {
      "text/html": [
       "<style>\n",
       ".list-inline {list-style: none; margin:0; padding: 0}\n",
       ".list-inline>li {display: inline-block}\n",
       ".list-inline>li:not(:last-child)::after {content: \"\\00b7\"; padding: 0 .5ex}\n",
       "</style>\n",
       "<ol class=list-inline><li>16737</li><li>16</li></ol>\n"
      ],
      "text/latex": [
       "\\begin{enumerate*}\n",
       "\\item 16737\n",
       "\\item 16\n",
       "\\end{enumerate*}\n"
      ],
      "text/markdown": [
       "1. 16737\n",
       "2. 16\n",
       "\n",
       "\n"
      ],
      "text/plain": [
       "[1] 16737    16"
      ]
     },
     "metadata": {},
     "output_type": "display_data"
    },
    {
     "data": {
      "text/html": [
       "33578"
      ],
      "text/latex": [
       "33578"
      ],
      "text/markdown": [
       "33578"
      ],
      "text/plain": [
       "[1] 33578"
      ]
     },
     "metadata": {},
     "output_type": "display_data"
    }
   ],
   "source": [
    "loyalty <- read.csv('../Data/CustomerLoyaltyHistory.csv', header=TRUE)\n",
    "dim(loyalty)\n",
    "sum(is.na(loyalty))"
   ]
  },
  {
   "cell_type": "code",
   "execution_count": 6,
   "id": "ceba8eb2-4161-4956-9235-a06f98b544f2",
   "metadata": {},
   "outputs": [
    {
     "data": {
      "text/html": [
       "<table class=\"dataframe\">\n",
       "<caption>A data.frame: 6 × 16</caption>\n",
       "<thead>\n",
       "\t<tr><th></th><th scope=col>Loyalty.Number</th><th scope=col>Country</th><th scope=col>Province</th><th scope=col>City</th><th scope=col>Postal.Code</th><th scope=col>Gender</th><th scope=col>Education</th><th scope=col>Salary</th><th scope=col>Marital.Status</th><th scope=col>Loyalty.Card</th><th scope=col>CLV</th><th scope=col>Enrollment.Type</th><th scope=col>Enrollment.Year</th><th scope=col>Enrollment.Month</th><th scope=col>Cancellation.Year</th><th scope=col>Cancellation.Month</th></tr>\n",
       "\t<tr><th></th><th scope=col>&lt;int&gt;</th><th scope=col>&lt;chr&gt;</th><th scope=col>&lt;chr&gt;</th><th scope=col>&lt;chr&gt;</th><th scope=col>&lt;chr&gt;</th><th scope=col>&lt;chr&gt;</th><th scope=col>&lt;chr&gt;</th><th scope=col>&lt;int&gt;</th><th scope=col>&lt;chr&gt;</th><th scope=col>&lt;chr&gt;</th><th scope=col>&lt;dbl&gt;</th><th scope=col>&lt;chr&gt;</th><th scope=col>&lt;int&gt;</th><th scope=col>&lt;int&gt;</th><th scope=col>&lt;int&gt;</th><th scope=col>&lt;int&gt;</th></tr>\n",
       "</thead>\n",
       "<tbody>\n",
       "\t<tr><th scope=row>1</th><td>480934</td><td>Canada</td><td>Ontario         </td><td>Toronto   </td><td>M2Z 4K1</td><td>Female</td><td>Bachelor</td><td> 83236</td><td>Married </td><td>Star</td><td>3839.14</td><td>Standard</td><td>2016</td><td> 2</td><td>  NA</td><td>NA</td></tr>\n",
       "\t<tr><th scope=row>2</th><td>549612</td><td>Canada</td><td>Alberta         </td><td>Edmonton  </td><td>T3G 6Y6</td><td>Male  </td><td>College </td><td>    NA</td><td>Divorced</td><td>Star</td><td>3839.61</td><td>Standard</td><td>2016</td><td> 3</td><td>  NA</td><td>NA</td></tr>\n",
       "\t<tr><th scope=row>3</th><td>429460</td><td>Canada</td><td>British Columbia</td><td>Vancouver </td><td>V6E 3D9</td><td>Male  </td><td>College </td><td>    NA</td><td>Single  </td><td>Star</td><td>3839.75</td><td>Standard</td><td>2014</td><td> 7</td><td>2018</td><td> 1</td></tr>\n",
       "\t<tr><th scope=row>4</th><td>608370</td><td>Canada</td><td>Ontario         </td><td>Toronto   </td><td>P1W 1K4</td><td>Male  </td><td>College </td><td>    NA</td><td>Single  </td><td>Star</td><td>3839.75</td><td>Standard</td><td>2013</td><td> 2</td><td>  NA</td><td>NA</td></tr>\n",
       "\t<tr><th scope=row>5</th><td>530508</td><td>Canada</td><td>Quebec          </td><td>Hull      </td><td>J8Y 3Z5</td><td>Male  </td><td>Bachelor</td><td>103495</td><td>Married </td><td>Star</td><td>3842.79</td><td>Standard</td><td>2014</td><td>10</td><td>  NA</td><td>NA</td></tr>\n",
       "\t<tr><th scope=row>6</th><td>193662</td><td>Canada</td><td>Yukon           </td><td>Whitehorse</td><td>Y2K 6R0</td><td>Male  </td><td>Bachelor</td><td> 51124</td><td>Married </td><td>Star</td><td>3844.57</td><td>Standard</td><td>2012</td><td> 5</td><td>  NA</td><td>NA</td></tr>\n",
       "</tbody>\n",
       "</table>\n"
      ],
      "text/latex": [
       "A data.frame: 6 × 16\n",
       "\\begin{tabular}{r|llllllllllllllll}\n",
       "  & Loyalty.Number & Country & Province & City & Postal.Code & Gender & Education & Salary & Marital.Status & Loyalty.Card & CLV & Enrollment.Type & Enrollment.Year & Enrollment.Month & Cancellation.Year & Cancellation.Month\\\\\n",
       "  & <int> & <chr> & <chr> & <chr> & <chr> & <chr> & <chr> & <int> & <chr> & <chr> & <dbl> & <chr> & <int> & <int> & <int> & <int>\\\\\n",
       "\\hline\n",
       "\t1 & 480934 & Canada & Ontario          & Toronto    & M2Z 4K1 & Female & Bachelor &  83236 & Married  & Star & 3839.14 & Standard & 2016 &  2 &   NA & NA\\\\\n",
       "\t2 & 549612 & Canada & Alberta          & Edmonton   & T3G 6Y6 & Male   & College  &     NA & Divorced & Star & 3839.61 & Standard & 2016 &  3 &   NA & NA\\\\\n",
       "\t3 & 429460 & Canada & British Columbia & Vancouver  & V6E 3D9 & Male   & College  &     NA & Single   & Star & 3839.75 & Standard & 2014 &  7 & 2018 &  1\\\\\n",
       "\t4 & 608370 & Canada & Ontario          & Toronto    & P1W 1K4 & Male   & College  &     NA & Single   & Star & 3839.75 & Standard & 2013 &  2 &   NA & NA\\\\\n",
       "\t5 & 530508 & Canada & Quebec           & Hull       & J8Y 3Z5 & Male   & Bachelor & 103495 & Married  & Star & 3842.79 & Standard & 2014 & 10 &   NA & NA\\\\\n",
       "\t6 & 193662 & Canada & Yukon            & Whitehorse & Y2K 6R0 & Male   & Bachelor &  51124 & Married  & Star & 3844.57 & Standard & 2012 &  5 &   NA & NA\\\\\n",
       "\\end{tabular}\n"
      ],
      "text/markdown": [
       "\n",
       "A data.frame: 6 × 16\n",
       "\n",
       "| <!--/--> | Loyalty.Number &lt;int&gt; | Country &lt;chr&gt; | Province &lt;chr&gt; | City &lt;chr&gt; | Postal.Code &lt;chr&gt; | Gender &lt;chr&gt; | Education &lt;chr&gt; | Salary &lt;int&gt; | Marital.Status &lt;chr&gt; | Loyalty.Card &lt;chr&gt; | CLV &lt;dbl&gt; | Enrollment.Type &lt;chr&gt; | Enrollment.Year &lt;int&gt; | Enrollment.Month &lt;int&gt; | Cancellation.Year &lt;int&gt; | Cancellation.Month &lt;int&gt; |\n",
       "|---|---|---|---|---|---|---|---|---|---|---|---|---|---|---|---|---|\n",
       "| 1 | 480934 | Canada | Ontario          | Toronto    | M2Z 4K1 | Female | Bachelor |  83236 | Married  | Star | 3839.14 | Standard | 2016 |  2 |   NA | NA |\n",
       "| 2 | 549612 | Canada | Alberta          | Edmonton   | T3G 6Y6 | Male   | College  |     NA | Divorced | Star | 3839.61 | Standard | 2016 |  3 |   NA | NA |\n",
       "| 3 | 429460 | Canada | British Columbia | Vancouver  | V6E 3D9 | Male   | College  |     NA | Single   | Star | 3839.75 | Standard | 2014 |  7 | 2018 |  1 |\n",
       "| 4 | 608370 | Canada | Ontario          | Toronto    | P1W 1K4 | Male   | College  |     NA | Single   | Star | 3839.75 | Standard | 2013 |  2 |   NA | NA |\n",
       "| 5 | 530508 | Canada | Quebec           | Hull       | J8Y 3Z5 | Male   | Bachelor | 103495 | Married  | Star | 3842.79 | Standard | 2014 | 10 |   NA | NA |\n",
       "| 6 | 193662 | Canada | Yukon            | Whitehorse | Y2K 6R0 | Male   | Bachelor |  51124 | Married  | Star | 3844.57 | Standard | 2012 |  5 |   NA | NA |\n",
       "\n"
      ],
      "text/plain": [
       "  Loyalty.Number Country Province         City       Postal.Code Gender\n",
       "1 480934         Canada  Ontario          Toronto    M2Z 4K1     Female\n",
       "2 549612         Canada  Alberta          Edmonton   T3G 6Y6     Male  \n",
       "3 429460         Canada  British Columbia Vancouver  V6E 3D9     Male  \n",
       "4 608370         Canada  Ontario          Toronto    P1W 1K4     Male  \n",
       "5 530508         Canada  Quebec           Hull       J8Y 3Z5     Male  \n",
       "6 193662         Canada  Yukon            Whitehorse Y2K 6R0     Male  \n",
       "  Education Salary Marital.Status Loyalty.Card CLV     Enrollment.Type\n",
       "1 Bachelor   83236 Married        Star         3839.14 Standard       \n",
       "2 College       NA Divorced       Star         3839.61 Standard       \n",
       "3 College       NA Single         Star         3839.75 Standard       \n",
       "4 College       NA Single         Star         3839.75 Standard       \n",
       "5 Bachelor  103495 Married        Star         3842.79 Standard       \n",
       "6 Bachelor   51124 Married        Star         3844.57 Standard       \n",
       "  Enrollment.Year Enrollment.Month Cancellation.Year Cancellation.Month\n",
       "1 2016             2                 NA              NA                \n",
       "2 2016             3                 NA              NA                \n",
       "3 2014             7               2018               1                \n",
       "4 2013             2                 NA              NA                \n",
       "5 2014            10                 NA              NA                \n",
       "6 2012             5                 NA              NA                "
      ]
     },
     "metadata": {},
     "output_type": "display_data"
    },
    {
     "name": "stdout",
     "output_type": "stream",
     "text": [
      "'data.frame':\t16737 obs. of  16 variables:\n",
      " $ Loyalty.Number    : int  480934 549612 429460 608370 530508 193662 927943 188893 852392 866307 ...\n",
      " $ Country           : chr  \"Canada\" \"Canada\" \"Canada\" \"Canada\" ...\n",
      " $ Province          : chr  \"Ontario\" \"Alberta\" \"British Columbia\" \"Ontario\" ...\n",
      " $ City              : chr  \"Toronto\" \"Edmonton\" \"Vancouver\" \"Toronto\" ...\n",
      " $ Postal.Code       : chr  \"M2Z 4K1\" \"T3G 6Y6\" \"V6E 3D9\" \"P1W 1K4\" ...\n",
      " $ Gender            : chr  \"Female\" \"Male\" \"Male\" \"Male\" ...\n",
      " $ Education         : chr  \"Bachelor\" \"College\" \"College\" \"College\" ...\n",
      " $ Salary            : int  83236 NA NA NA 103495 51124 NA 100159 100159 100159 ...\n",
      " $ Marital.Status    : chr  \"Married\" \"Divorced\" \"Single\" \"Single\" ...\n",
      " $ Loyalty.Card      : chr  \"Star\" \"Star\" \"Star\" \"Star\" ...\n",
      " $ CLV               : num  3839 3840 3840 3840 3843 ...\n",
      " $ Enrollment.Type   : chr  \"Standard\" \"Standard\" \"Standard\" \"Standard\" ...\n",
      " $ Enrollment.Year   : int  2016 2016 2014 2013 2014 2012 2014 2016 2015 2016 ...\n",
      " $ Enrollment.Month  : int  2 3 7 2 10 5 6 12 5 10 ...\n",
      " $ Cancellation.Year : int  NA NA 2018 NA NA NA NA NA NA NA ...\n",
      " $ Cancellation.Month: int  NA NA 1 NA NA NA NA NA NA NA ...\n"
     ]
    }
   ],
   "source": [
    "head(loyalty)\n",
    "str(loyalty)"
   ]
  },
  {
   "cell_type": "markdown",
   "id": "c5f0133a-444d-4862-b1eb-702faedb1336",
   "metadata": {},
   "source": [
    "This Customer Loyalty data contains more NAs, specifically for Salary and when the customer did not cancel yet. This cancelation data is important though, so we cannot just remove all rows with NAs. I will look into NAs later in more detail. I also notice that some column names include a period \".\" in the name, which might give problems, so let's first rename all column names and then merge the two files into a single dataframe."
   ]
  },
  {
   "cell_type": "code",
   "execution_count": 7,
   "id": "57ec0228-2a9f-4a37-89f7-b39ec47ee3a7",
   "metadata": {},
   "outputs": [
    {
     "data": {
      "text/html": [
       "<style>\n",
       ".list-inline {list-style: none; margin:0; padding: 0}\n",
       ".list-inline>li {display: inline-block}\n",
       ".list-inline>li:not(:last-child)::after {content: \"\\00b7\"; padding: 0 .5ex}\n",
       "</style>\n",
       "<ol class=list-inline><li>'Loyalty.Number'</li><li>'Year'</li><li>'Month'</li><li>'Flights.Booked'</li><li>'Flights.with.Companions'</li><li>'Total.Flights'</li><li>'Distance'</li><li>'Points.Accumulated'</li><li>'Points.Redeemed'</li><li>'Dollar.Cost.Points.Redeemed'</li></ol>\n"
      ],
      "text/latex": [
       "\\begin{enumerate*}\n",
       "\\item 'Loyalty.Number'\n",
       "\\item 'Year'\n",
       "\\item 'Month'\n",
       "\\item 'Flights.Booked'\n",
       "\\item 'Flights.with.Companions'\n",
       "\\item 'Total.Flights'\n",
       "\\item 'Distance'\n",
       "\\item 'Points.Accumulated'\n",
       "\\item 'Points.Redeemed'\n",
       "\\item 'Dollar.Cost.Points.Redeemed'\n",
       "\\end{enumerate*}\n"
      ],
      "text/markdown": [
       "1. 'Loyalty.Number'\n",
       "2. 'Year'\n",
       "3. 'Month'\n",
       "4. 'Flights.Booked'\n",
       "5. 'Flights.with.Companions'\n",
       "6. 'Total.Flights'\n",
       "7. 'Distance'\n",
       "8. 'Points.Accumulated'\n",
       "9. 'Points.Redeemed'\n",
       "10. 'Dollar.Cost.Points.Redeemed'\n",
       "\n",
       "\n"
      ],
      "text/plain": [
       " [1] \"Loyalty.Number\"              \"Year\"                       \n",
       " [3] \"Month\"                       \"Flights.Booked\"             \n",
       " [5] \"Flights.with.Companions\"     \"Total.Flights\"              \n",
       " [7] \"Distance\"                    \"Points.Accumulated\"         \n",
       " [9] \"Points.Redeemed\"             \"Dollar.Cost.Points.Redeemed\""
      ]
     },
     "metadata": {},
     "output_type": "display_data"
    },
    {
     "data": {
      "text/html": [
       "<style>\n",
       ".list-inline {list-style: none; margin:0; padding: 0}\n",
       ".list-inline>li {display: inline-block}\n",
       ".list-inline>li:not(:last-child)::after {content: \"\\00b7\"; padding: 0 .5ex}\n",
       "</style>\n",
       "<ol class=list-inline><li>'Loyalty.Number'</li><li>'Country'</li><li>'Province'</li><li>'City'</li><li>'Postal.Code'</li><li>'Gender'</li><li>'Education'</li><li>'Salary'</li><li>'Marital.Status'</li><li>'Loyalty.Card'</li><li>'CLV'</li><li>'Enrollment.Type'</li><li>'Enrollment.Year'</li><li>'Enrollment.Month'</li><li>'Cancellation.Year'</li><li>'Cancellation.Month'</li></ol>\n"
      ],
      "text/latex": [
       "\\begin{enumerate*}\n",
       "\\item 'Loyalty.Number'\n",
       "\\item 'Country'\n",
       "\\item 'Province'\n",
       "\\item 'City'\n",
       "\\item 'Postal.Code'\n",
       "\\item 'Gender'\n",
       "\\item 'Education'\n",
       "\\item 'Salary'\n",
       "\\item 'Marital.Status'\n",
       "\\item 'Loyalty.Card'\n",
       "\\item 'CLV'\n",
       "\\item 'Enrollment.Type'\n",
       "\\item 'Enrollment.Year'\n",
       "\\item 'Enrollment.Month'\n",
       "\\item 'Cancellation.Year'\n",
       "\\item 'Cancellation.Month'\n",
       "\\end{enumerate*}\n"
      ],
      "text/markdown": [
       "1. 'Loyalty.Number'\n",
       "2. 'Country'\n",
       "3. 'Province'\n",
       "4. 'City'\n",
       "5. 'Postal.Code'\n",
       "6. 'Gender'\n",
       "7. 'Education'\n",
       "8. 'Salary'\n",
       "9. 'Marital.Status'\n",
       "10. 'Loyalty.Card'\n",
       "11. 'CLV'\n",
       "12. 'Enrollment.Type'\n",
       "13. 'Enrollment.Year'\n",
       "14. 'Enrollment.Month'\n",
       "15. 'Cancellation.Year'\n",
       "16. 'Cancellation.Month'\n",
       "\n",
       "\n"
      ],
      "text/plain": [
       " [1] \"Loyalty.Number\"     \"Country\"            \"Province\"          \n",
       " [4] \"City\"               \"Postal.Code\"        \"Gender\"            \n",
       " [7] \"Education\"          \"Salary\"             \"Marital.Status\"    \n",
       "[10] \"Loyalty.Card\"       \"CLV\"                \"Enrollment.Type\"   \n",
       "[13] \"Enrollment.Year\"    \"Enrollment.Month\"   \"Cancellation.Year\" \n",
       "[16] \"Cancellation.Month\""
      ]
     },
     "metadata": {},
     "output_type": "display_data"
    }
   ],
   "source": [
    "# Original Names\n",
    "colnames(flights)\n",
    "colnames(loyalty)"
   ]
  },
  {
   "cell_type": "code",
   "execution_count": 8,
   "id": "f8d6e758-9721-45b6-b8b4-03318a253e88",
   "metadata": {},
   "outputs": [],
   "source": [
    "# Remove the \".\" from all column names\n",
    "colnames(flights) <- c(\"LoyaltyNumber\", \"Year\", \"Month\", \"FlightsBooked\",\"FlightsWithCompanions\",\"TotalFlights\",\"Distance\",\"PointsAccumulated\",\"PointsRedeemed\",\"DollarCostPointsRedeemed\")\n",
    "colnames(loyalty) <- c(\"LoyaltyNumber\",\"Country\",\"Province\",\"City\",\"PostalCode\",\"Gender\",\"Education\",\"Salary\",\"MaritalStatus\",\"LoyaltyCard\",\"CLV\",\"EnrollmentType\",\"EnrollmentYear\",\"EnrollmentMonth\",\"CancellationYear\",\"CancellationMonth\")"
   ]
  },
  {
   "cell_type": "code",
   "execution_count": 9,
   "id": "eb618024-eaf4-4f4a-9f6d-ff5d66d7f85e",
   "metadata": {},
   "outputs": [
    {
     "data": {
      "text/html": [
       "<style>\n",
       ".list-inline {list-style: none; margin:0; padding: 0}\n",
       ".list-inline>li {display: inline-block}\n",
       ".list-inline>li:not(:last-child)::after {content: \"\\00b7\"; padding: 0 .5ex}\n",
       "</style>\n",
       "<ol class=list-inline><li>'LoyaltyNumber'</li><li>'Year'</li><li>'Month'</li><li>'FlightsBooked'</li><li>'FlightsWithCompanions'</li><li>'TotalFlights'</li><li>'Distance'</li><li>'PointsAccumulated'</li><li>'PointsRedeemed'</li><li>'DollarCostPointsRedeemed'</li></ol>\n"
      ],
      "text/latex": [
       "\\begin{enumerate*}\n",
       "\\item 'LoyaltyNumber'\n",
       "\\item 'Year'\n",
       "\\item 'Month'\n",
       "\\item 'FlightsBooked'\n",
       "\\item 'FlightsWithCompanions'\n",
       "\\item 'TotalFlights'\n",
       "\\item 'Distance'\n",
       "\\item 'PointsAccumulated'\n",
       "\\item 'PointsRedeemed'\n",
       "\\item 'DollarCostPointsRedeemed'\n",
       "\\end{enumerate*}\n"
      ],
      "text/markdown": [
       "1. 'LoyaltyNumber'\n",
       "2. 'Year'\n",
       "3. 'Month'\n",
       "4. 'FlightsBooked'\n",
       "5. 'FlightsWithCompanions'\n",
       "6. 'TotalFlights'\n",
       "7. 'Distance'\n",
       "8. 'PointsAccumulated'\n",
       "9. 'PointsRedeemed'\n",
       "10. 'DollarCostPointsRedeemed'\n",
       "\n",
       "\n"
      ],
      "text/plain": [
       " [1] \"LoyaltyNumber\"            \"Year\"                    \n",
       " [3] \"Month\"                    \"FlightsBooked\"           \n",
       " [5] \"FlightsWithCompanions\"    \"TotalFlights\"            \n",
       " [7] \"Distance\"                 \"PointsAccumulated\"       \n",
       " [9] \"PointsRedeemed\"           \"DollarCostPointsRedeemed\""
      ]
     },
     "metadata": {},
     "output_type": "display_data"
    },
    {
     "data": {
      "text/html": [
       "<style>\n",
       ".list-inline {list-style: none; margin:0; padding: 0}\n",
       ".list-inline>li {display: inline-block}\n",
       ".list-inline>li:not(:last-child)::after {content: \"\\00b7\"; padding: 0 .5ex}\n",
       "</style>\n",
       "<ol class=list-inline><li>'LoyaltyNumber'</li><li>'Country'</li><li>'Province'</li><li>'City'</li><li>'PostalCode'</li><li>'Gender'</li><li>'Education'</li><li>'Salary'</li><li>'MaritalStatus'</li><li>'LoyaltyCard'</li><li>'CLV'</li><li>'EnrollmentType'</li><li>'EnrollmentYear'</li><li>'EnrollmentMonth'</li><li>'CancellationYear'</li><li>'CancellationMonth'</li></ol>\n"
      ],
      "text/latex": [
       "\\begin{enumerate*}\n",
       "\\item 'LoyaltyNumber'\n",
       "\\item 'Country'\n",
       "\\item 'Province'\n",
       "\\item 'City'\n",
       "\\item 'PostalCode'\n",
       "\\item 'Gender'\n",
       "\\item 'Education'\n",
       "\\item 'Salary'\n",
       "\\item 'MaritalStatus'\n",
       "\\item 'LoyaltyCard'\n",
       "\\item 'CLV'\n",
       "\\item 'EnrollmentType'\n",
       "\\item 'EnrollmentYear'\n",
       "\\item 'EnrollmentMonth'\n",
       "\\item 'CancellationYear'\n",
       "\\item 'CancellationMonth'\n",
       "\\end{enumerate*}\n"
      ],
      "text/markdown": [
       "1. 'LoyaltyNumber'\n",
       "2. 'Country'\n",
       "3. 'Province'\n",
       "4. 'City'\n",
       "5. 'PostalCode'\n",
       "6. 'Gender'\n",
       "7. 'Education'\n",
       "8. 'Salary'\n",
       "9. 'MaritalStatus'\n",
       "10. 'LoyaltyCard'\n",
       "11. 'CLV'\n",
       "12. 'EnrollmentType'\n",
       "13. 'EnrollmentYear'\n",
       "14. 'EnrollmentMonth'\n",
       "15. 'CancellationYear'\n",
       "16. 'CancellationMonth'\n",
       "\n",
       "\n"
      ],
      "text/plain": [
       " [1] \"LoyaltyNumber\"     \"Country\"           \"Province\"         \n",
       " [4] \"City\"              \"PostalCode\"        \"Gender\"           \n",
       " [7] \"Education\"         \"Salary\"            \"MaritalStatus\"    \n",
       "[10] \"LoyaltyCard\"       \"CLV\"               \"EnrollmentType\"   \n",
       "[13] \"EnrollmentYear\"    \"EnrollmentMonth\"   \"CancellationYear\" \n",
       "[16] \"CancellationMonth\""
      ]
     },
     "metadata": {},
     "output_type": "display_data"
    }
   ],
   "source": [
    "# Checking the result\n",
    "colnames(flights)\n",
    "colnames(loyalty)"
   ]
  },
  {
   "cell_type": "code",
   "execution_count": 10,
   "id": "39e6e65f-0ca6-442f-a34b-8a1ab6c21e60",
   "metadata": {},
   "outputs": [
    {
     "data": {
      "text/html": [
       "16737"
      ],
      "text/latex": [
       "16737"
      ],
      "text/markdown": [
       "16737"
      ],
      "text/plain": [
       "[1] 16737"
      ]
     },
     "metadata": {},
     "output_type": "display_data"
    },
    {
     "data": {
      "text/html": [
       "16737"
      ],
      "text/latex": [
       "16737"
      ],
      "text/markdown": [
       "16737"
      ],
      "text/plain": [
       "[1] 16737"
      ]
     },
     "metadata": {},
     "output_type": "display_data"
    }
   ],
   "source": [
    "length(unique(flights$LoyaltyNumber))\n",
    "length(unique(loyalty$LoyaltyNumber))"
   ]
  },
  {
   "cell_type": "markdown",
   "id": "849bef53-24e8-4134-a063-541c8f3c87e2",
   "metadata": {},
   "source": [
    "Both files have 16737 unique Loyalty Numbers. \n",
    "\n",
    "To limit the amount of data and make our analysis a bit simpler, let's join only aggregate data from the Flights data with the Loyalty data using an SQL inner join. We will also remove some columns we will not use, such as \"Country\" (which is Canada for all customers) and \"PostalCode\"."
   ]
  },
  {
   "cell_type": "code",
   "execution_count": 11,
   "id": "792aaf2d-ca63-4cff-98a5-e9fc4011938e",
   "metadata": {},
   "outputs": [],
   "source": [
    "data <- sqldf('\n",
    "SELECT \n",
    "  loyalty.LoyaltyNumber as Customer,\n",
    "  loyalty.Province as Province,\n",
    "  loyalty.City as City,\n",
    "  loyalty.Gender as Gender,\n",
    "  loyalty.Education as Education,\n",
    "  loyalty.Salary as Salary,\n",
    "  loyalty.MaritalStatus as MaritalStatus,\n",
    "  loyalty.LoyaltyCard as LoyaltyCard,\n",
    "  loyalty.CLV as CLV,\n",
    "  loyalty.EnrollmentType as EnrollmentType,\n",
    "  loyalty.EnrollmentYear as EnrollmentYear,\n",
    "  loyalty.EnrollmentMonth as EnrollmentMonth,\n",
    "  loyalty.CancellationYear as CancellationYear,\n",
    "  loyalty.CancellationMonth as CancellationMonth,\n",
    "  SUM(flights.FlightsBooked) as TotalSoloFlights,\n",
    "  SUM(flights.FlightsWithCompanions) as TotalCompanionFlights,\n",
    "  SUM(flights.TotalFlights) as TotalFlights,\n",
    "  SUM(flights.Distance) as TotalDistance,\n",
    "  SUM(flights.PointsAccumulated) as TotalPointsAccumulated,\n",
    "  SUM(flights.PointsRedeemed) as TotalPointsRedeemed,\n",
    "  SUM(flights.DollarCostPointsRedeemed) as TotalDollarCostPointsRedeemed\n",
    "FROM \n",
    "  flights\n",
    "INNER JOIN \n",
    "  loyalty\n",
    "ON \n",
    "  loyalty.LoyaltyNumber = flights.LoyaltyNumber\n",
    "GROUP BY\n",
    "  Customer\n",
    ";')\n",
    "\n",
    "# In case you need a full join:\n",
    "#\n",
    "# all_df <- sqldf('\n",
    "# SELECT \n",
    "#   * \n",
    "# FROM \n",
    "#   flights\n",
    "# INNER JOIN \n",
    "#   loyalty\n",
    "# ON \n",
    "#   flights.LoyaltyNumber = loyalty.LoyaltyNumber\n",
    "# ;')\n",
    "#\n",
    "# Write the resulting dataframe to output .csv file\n",
    "# write.csv(head(all_df, n=100), file = '../Data/All_Output_Sample.csv')"
   ]
  },
  {
   "cell_type": "code",
   "execution_count": 12,
   "id": "6331cfb0-34e8-41d8-8044-8ff7f29dec6d",
   "metadata": {},
   "outputs": [
    {
     "name": "stdout",
     "output_type": "stream",
     "text": [
      "'data.frame':\t16737 obs. of  21 variables:\n",
      " $ Customer                     : int  100018 100102 100140 100214 100272 100301 100364 100380 100428 100504 ...\n",
      " $ Province                     : chr  \"Alberta\" \"Ontario\" \"British Columbia\" \"British Columbia\" ...\n",
      " $ City                         : chr  \"Edmonton\" \"Toronto\" \"Dawson Creek\" \"Vancouver\" ...\n",
      " $ Gender                       : chr  \"Female\" \"Male\" \"Female\" \"Male\" ...\n",
      " $ Education                    : chr  \"Bachelor\" \"College\" \"College\" \"Bachelor\" ...\n",
      " $ Salary                       : int  92552 NA NA 63253 91163 70323 76849 69695 63478 75638 ...\n",
      " $ MaritalStatus                : chr  \"Married\" \"Single\" \"Divorced\" \"Married\" ...\n",
      " $ LoyaltyCard                  : chr  \"Aurora\" \"Nova\" \"Nova\" \"Star\" ...\n",
      " $ CLV                          : num  7919 2888 2838 4171 6622 ...\n",
      " $ EnrollmentType               : chr  \"Standard\" \"Standard\" \"Standard\" \"Standard\" ...\n",
      " $ EnrollmentYear               : int  2016 2013 2016 2015 2014 2013 2015 2012 2012 2017 ...\n",
      " $ EnrollmentMonth              : int  8 3 7 8 1 9 5 10 8 7 ...\n",
      " $ CancellationYear             : int  NA NA NA NA NA NA NA NA NA 2018 ...\n",
      " $ CancellationMonth            : int  NA NA NA NA NA NA NA NA NA 3 ...\n",
      " $ TotalSoloFlights             : int  157 173 152 79 127 145 111 116 121 67 ...\n",
      " $ TotalCompanionFlights        : int  35 42 38 17 36 46 28 43 22 6 ...\n",
      " $ TotalFlights                 : int  192 215 190 96 163 191 139 159 143 73 ...\n",
      " $ TotalDistance                : int  50682 40222 41252 33982 40872 42594 32211 35812 34495 15911 ...\n",
      " $ TotalPointsAccumulated       : num  5376 4115 4184 3426 4108 ...\n",
      " $ TotalPointsRedeemed          : int  1513 1195 593 861 1007 1381 559 1142 1658 0 ...\n",
      " $ TotalDollarCostPointsRedeemed: int  123 96 48 70 82 112 45 92 134 0 ...\n"
     ]
    }
   ],
   "source": [
    "str(data)"
   ]
  },
  {
   "cell_type": "markdown",
   "id": "68feb656-37d8-4404-8cac-12aae9a7b5f9",
   "metadata": {},
   "source": [
    "Let's first convert the categorical data to factors:"
   ]
  },
  {
   "cell_type": "code",
   "execution_count": 15,
   "id": "3b49dcd8-0c7b-43a4-8636-323628ab552e",
   "metadata": {},
   "outputs": [],
   "source": [
    "data$Gender = as.factor(data$Gender)\n",
    "data$Education = as.factor(data$Education)\n",
    "data$MaritalStatus = as.factor(data$MaritalStatus)\n",
    "data$LoyaltyCard = as.factor(data$LoyaltyCard)\n",
    "data$EnrollmentType = as.factor(data$EnrollmentType)\n",
    "data$EnrollmentYear = as.factor(data$EnrollmentYear)\n",
    "data$EnrollmentMonth = as.factor(data$EnrollmentMonth)"
   ]
  },
  {
   "cell_type": "code",
   "execution_count": 16,
   "id": "2c1d8622-6c92-40ad-923e-094bf5ca4d51",
   "metadata": {},
   "outputs": [
    {
     "name": "stdout",
     "output_type": "stream",
     "text": [
      "[1] \"Customer 0\"\n",
      "[1] \"Province 0\"\n",
      "[1] \"City 0\"\n",
      "[1] \"Gender 0\"\n",
      "[1] \"Education 0\"\n",
      "[1] \"Salary 4238\"\n",
      "[1] \"MaritalStatus 0\"\n",
      "[1] \"LoyaltyCard 0\"\n",
      "[1] \"CLV 0\"\n",
      "[1] \"EnrollmentType 0\"\n",
      "[1] \"EnrollmentYear 0\"\n",
      "[1] \"EnrollmentMonth 0\"\n",
      "[1] \"CancellationYear 14670\"\n",
      "[1] \"CancellationMonth 14670\"\n",
      "[1] \"TotalSoloFlights 0\"\n",
      "[1] \"TotalCompanionFlights 0\"\n",
      "[1] \"TotalFlights 0\"\n",
      "[1] \"TotalDistance 0\"\n",
      "[1] \"TotalPointsAccumulated 0\"\n",
      "[1] \"TotalPointsRedeemed 0\"\n",
      "[1] \"TotalDollarCostPointsRedeemed 0\"\n"
     ]
    }
   ],
   "source": [
    "# Checking if there are more columns with NAs\n",
    "for (name in colnames(data)){\n",
    "        print(paste(name,sum(is.na(data[name]))))\n",
    "    }"
   ]
  },
  {
   "cell_type": "markdown",
   "id": "4e259bb2-92f1-4a14-8dfc-f7edca4f31bd",
   "metadata": {},
   "source": [
    "Only Salary, CancellationYear and CancellationMonth contain NAs. Let's first deal with the Cancellations and then remove all rows with missing Salary (this is about a quarter of all the data, but we should still have more than 10000 rows left, which should be okay for this project)."
   ]
  },
  {
   "cell_type": "code",
   "execution_count": 17,
   "id": "81e2006f-d632-4fac-8aaf-e2c8be8df6b5",
   "metadata": {},
   "outputs": [],
   "source": [
    "# Add a \"Canceled\" column if at any point in time a membership was canceled\n",
    "data$Canceled = as.integer(!is.na(data$CancellationYear))"
   ]
  },
  {
   "cell_type": "code",
   "execution_count": 18,
   "id": "568b6a1f-9b60-4432-975c-a11bdce5df63",
   "metadata": {},
   "outputs": [
    {
     "name": "stdout",
     "output_type": "stream",
     "text": [
      "'data.frame':\t16737 obs. of  22 variables:\n",
      " $ Customer                     : int  100018 100102 100140 100214 100272 100301 100364 100380 100428 100504 ...\n",
      " $ Province                     : chr  \"Alberta\" \"Ontario\" \"British Columbia\" \"British Columbia\" ...\n",
      " $ City                         : chr  \"Edmonton\" \"Toronto\" \"Dawson Creek\" \"Vancouver\" ...\n",
      " $ Gender                       : Factor w/ 2 levels \"Female\",\"Male\": 1 2 1 2 1 2 2 1 2 1 ...\n",
      " $ Education                    : Factor w/ 5 levels \"Bachelor\",\"College\",..: 1 2 2 1 1 1 1 1 1 1 ...\n",
      " $ Salary                       : int  92552 NA NA 63253 91163 70323 76849 69695 63478 75638 ...\n",
      " $ MaritalStatus                : Factor w/ 3 levels \"Divorced\",\"Married\",..: 2 3 1 2 1 1 2 3 2 1 ...\n",
      " $ LoyaltyCard                  : Factor w/ 3 levels \"Aurora\",\"Nova\",..: 1 2 2 3 3 2 2 3 1 2 ...\n",
      " $ CLV                          : num  7919 2888 2838 4171 6622 ...\n",
      " $ EnrollmentType               : Factor w/ 2 levels \"2018 Promotion\",..: 2 2 2 2 2 2 2 2 2 2 ...\n",
      " $ EnrollmentYear               : Factor w/ 7 levels \"2012\",\"2013\",..: 5 2 5 4 3 2 4 1 1 6 ...\n",
      " $ EnrollmentMonth              : Factor w/ 12 levels \"1\",\"2\",\"3\",\"4\",..: 8 3 7 8 1 9 5 10 8 7 ...\n",
      " $ CancellationYear             : int  NA NA NA NA NA NA NA NA NA 2018 ...\n",
      " $ CancellationMonth            : int  NA NA NA NA NA NA NA NA NA 3 ...\n",
      " $ TotalSoloFlights             : int  157 173 152 79 127 145 111 116 121 67 ...\n",
      " $ TotalCompanionFlights        : int  35 42 38 17 36 46 28 43 22 6 ...\n",
      " $ TotalFlights                 : int  192 215 190 96 163 191 139 159 143 73 ...\n",
      " $ TotalDistance                : int  50682 40222 41252 33982 40872 42594 32211 35812 34495 15911 ...\n",
      " $ TotalPointsAccumulated       : num  5376 4115 4184 3426 4108 ...\n",
      " $ TotalPointsRedeemed          : int  1513 1195 593 861 1007 1381 559 1142 1658 0 ...\n",
      " $ TotalDollarCostPointsRedeemed: int  123 96 48 70 82 112 45 92 134 0 ...\n",
      " $ Canceled                     : int  0 0 0 0 0 0 0 0 0 1 ...\n"
     ]
    }
   ],
   "source": [
    "# Now we can remove the CancellationYear and CancellationMonth columns (columns 13, 14)\n",
    "str(data)\n",
    "data <- data[,-c(13,14)]"
   ]
  },
  {
   "cell_type": "code",
   "execution_count": 19,
   "id": "44626d7b-aaaf-46f4-b294-b48b299508e5",
   "metadata": {},
   "outputs": [
    {
     "name": "stdout",
     "output_type": "stream",
     "text": [
      "'data.frame':\t16737 obs. of  20 variables:\n",
      " $ Customer                     : int  100018 100102 100140 100214 100272 100301 100364 100380 100428 100504 ...\n",
      " $ Province                     : chr  \"Alberta\" \"Ontario\" \"British Columbia\" \"British Columbia\" ...\n",
      " $ City                         : chr  \"Edmonton\" \"Toronto\" \"Dawson Creek\" \"Vancouver\" ...\n",
      " $ Gender                       : Factor w/ 2 levels \"Female\",\"Male\": 1 2 1 2 1 2 2 1 2 1 ...\n",
      " $ Education                    : Factor w/ 5 levels \"Bachelor\",\"College\",..: 1 2 2 1 1 1 1 1 1 1 ...\n",
      " $ Salary                       : int  92552 NA NA 63253 91163 70323 76849 69695 63478 75638 ...\n",
      " $ MaritalStatus                : Factor w/ 3 levels \"Divorced\",\"Married\",..: 2 3 1 2 1 1 2 3 2 1 ...\n",
      " $ LoyaltyCard                  : Factor w/ 3 levels \"Aurora\",\"Nova\",..: 1 2 2 3 3 2 2 3 1 2 ...\n",
      " $ CLV                          : num  7919 2888 2838 4171 6622 ...\n",
      " $ EnrollmentType               : Factor w/ 2 levels \"2018 Promotion\",..: 2 2 2 2 2 2 2 2 2 2 ...\n",
      " $ EnrollmentYear               : Factor w/ 7 levels \"2012\",\"2013\",..: 5 2 5 4 3 2 4 1 1 6 ...\n",
      " $ EnrollmentMonth              : Factor w/ 12 levels \"1\",\"2\",\"3\",\"4\",..: 8 3 7 8 1 9 5 10 8 7 ...\n",
      " $ TotalSoloFlights             : int  157 173 152 79 127 145 111 116 121 67 ...\n",
      " $ TotalCompanionFlights        : int  35 42 38 17 36 46 28 43 22 6 ...\n",
      " $ TotalFlights                 : int  192 215 190 96 163 191 139 159 143 73 ...\n",
      " $ TotalDistance                : int  50682 40222 41252 33982 40872 42594 32211 35812 34495 15911 ...\n",
      " $ TotalPointsAccumulated       : num  5376 4115 4184 3426 4108 ...\n",
      " $ TotalPointsRedeemed          : int  1513 1195 593 861 1007 1381 559 1142 1658 0 ...\n",
      " $ TotalDollarCostPointsRedeemed: int  123 96 48 70 82 112 45 92 134 0 ...\n",
      " $ Canceled                     : int  0 0 0 0 0 0 0 0 0 1 ...\n"
     ]
    }
   ],
   "source": [
    "str(data)"
   ]
  },
  {
   "cell_type": "code",
   "execution_count": 20,
   "id": "61672128-664f-4cc3-9709-77ddf759ae3f",
   "metadata": {},
   "outputs": [
    {
     "name": "stdout",
     "output_type": "stream",
     "text": [
      "'data.frame':\t12499 obs. of  20 variables:\n",
      " $ Customer                     : int  100018 100214 100272 100301 100364 100380 100428 100504 100550 100585 ...\n",
      " $ Province                     : chr  \"Alberta\" \"British Columbia\" \"Ontario\" \"Ontario\" ...\n",
      " $ City                         : chr  \"Edmonton\" \"Vancouver\" \"Toronto\" \"Toronto\" ...\n",
      " $ Gender                       : Factor w/ 2 levels \"Female\",\"Male\": 1 2 1 2 2 1 2 1 1 2 ...\n",
      " $ Education                    : Factor w/ 5 levels \"Bachelor\",\"College\",..: 1 1 1 1 1 1 1 1 1 1 ...\n",
      " $ Salary                       : int  92552 63253 91163 70323 76849 69695 63478 75638 54133 96269 ...\n",
      " $ MaritalStatus                : Factor w/ 3 levels \"Divorced\",\"Married\",..: 2 2 1 1 2 3 2 1 2 1 ...\n",
      " $ LoyaltyCard                  : Factor w/ 3 levels \"Aurora\",\"Nova\",..: 1 3 3 2 2 3 1 2 2 3 ...\n",
      " $ CLV                          : num  7919 4171 6622 48357 5144 ...\n",
      " $ EnrollmentType               : Factor w/ 2 levels \"2018 Promotion\",..: 2 2 2 2 2 2 2 2 2 2 ...\n",
      " $ EnrollmentYear               : Factor w/ 7 levels \"2012\",\"2013\",..: 5 4 3 2 4 1 1 6 2 2 ...\n",
      " $ EnrollmentMonth              : Factor w/ 12 levels \"1\",\"2\",\"3\",\"4\",..: 8 8 1 9 5 10 8 7 2 11 ...\n",
      " $ TotalSoloFlights             : int  157 79 127 145 111 116 121 67 146 141 ...\n",
      " $ TotalCompanionFlights        : int  35 17 36 46 28 43 22 6 37 26 ...\n",
      " $ TotalFlights                 : int  192 96 163 191 139 159 143 73 183 167 ...\n",
      " $ TotalDistance                : int  50682 33982 40872 42594 32211 35812 34495 15911 41157 40621 ...\n",
      " $ TotalPointsAccumulated       : num  5376 3426 4108 4273 3217 ...\n",
      " $ TotalPointsRedeemed          : int  1513 861 1007 1381 559 1142 1658 0 1114 2397 ...\n",
      " $ TotalDollarCostPointsRedeemed: int  123 70 82 112 45 92 134 0 90 193 ...\n",
      " $ Canceled                     : int  0 0 0 0 0 0 0 1 0 0 ...\n",
      " - attr(*, \"na.action\")= 'omit' Named int [1:4238] 2 3 18 21 22 23 32 40 42 47 ...\n",
      "  ..- attr(*, \"names\")= chr [1:4238] \"2\" \"3\" \"18\" \"21\" ...\n"
     ]
    }
   ],
   "source": [
    "# Remove remaining NAs\n",
    "data <- na.omit(data)\n",
    "str(data)"
   ]
  },
  {
   "cell_type": "code",
   "execution_count": 21,
   "id": "89275aee-755c-45c4-92bb-febaa3683ac8",
   "metadata": {},
   "outputs": [
    {
     "data": {
      "text/plain": [
       "    Customer        Province             City              Gender    \n",
       " Min.   :100018   Length:12499       Length:12499       Female:6326  \n",
       " 1st Qu.:325434   Class :character   Class :character   Male  :6173  \n",
       " Median :551248   Mode  :character   Mode  :character                \n",
       " Mean   :549945                                                      \n",
       " 3rd Qu.:773824                                                      \n",
       " Max.   :999986                                                      \n",
       "                                                                     \n",
       "                Education         Salary        MaritalStatus  LoyaltyCard  \n",
       " Bachelor            :10475   Min.   :-58486   Divorced:2142   Aurora:2635  \n",
       " College             :    0   1st Qu.: 59246   Married :8299   Nova  :4339  \n",
       " Doctor              :  734   Median : 73455   Single  :2058   Star  :5525  \n",
       " High School or Below:  782   Mean   : 79246                                \n",
       " Master              :  508   3rd Qu.: 88518                                \n",
       "                              Max.   :407228                                \n",
       "                                                                            \n",
       "      CLV               EnrollmentType  EnrollmentYear EnrollmentMonth\n",
       " Min.   : 2120   2018 Promotion:  733   2012:1279      5      :1149   \n",
       " 1st Qu.: 4082   Standard      :11766   2013:1802      7      :1126   \n",
       " Median : 5809                          2014:1746      12     :1094   \n",
       " Mean   : 8123                          2015:1756      10     :1078   \n",
       " 3rd Qu.: 9076                          2016:1812      11     :1069   \n",
       " Max.   :83325                          2017:1841      8      :1068   \n",
       "                                        2018:2263      (Other):5915   \n",
       " TotalSoloFlights TotalCompanionFlights  TotalFlights   TotalDistance   \n",
       " Min.   :  0.00   Min.   :  0.00        Min.   :  0.0   Min.   :     0  \n",
       " 1st Qu.: 59.00   1st Qu.: 13.00        1st Qu.: 74.0   1st Qu.: 17535  \n",
       " Median :113.00   Median : 26.00        Median :142.0   Median : 33800  \n",
       " Mean   : 99.43   Mean   : 24.91        Mean   :124.3   Mean   : 29248  \n",
       " 3rd Qu.:139.00   3rd Qu.: 36.00        3rd Qu.:174.0   3rd Qu.: 40830  \n",
       " Max.   :354.00   Max.   :103.00        Max.   :448.0   Max.   :101959  \n",
       "                                                                        \n",
       " TotalPointsAccumulated TotalPointsRedeemed TotalDollarCostPointsRedeemed\n",
       " Min.   :    0          Min.   :   0.0      Min.   :  0.00               \n",
       " 1st Qu.: 1792          1st Qu.:   0.0      1st Qu.:  0.00               \n",
       " Median : 3456          Median : 572.0      Median : 46.00               \n",
       " Mean   : 2994          Mean   : 739.1      Mean   : 59.82               \n",
       " 3rd Qu.: 4189          3rd Qu.:1176.0      3rd Qu.: 95.00               \n",
       " Max.   :10588          Max.   :4479.0      Max.   :363.00               \n",
       "                                                                         \n",
       "    Canceled     \n",
       " Min.   :0.0000  \n",
       " 1st Qu.:0.0000  \n",
       " Median :0.0000  \n",
       " Mean   :0.1232  \n",
       " 3rd Qu.:0.0000  \n",
       " Max.   :1.0000  \n",
       "                 "
      ]
     },
     "metadata": {},
     "output_type": "display_data"
    }
   ],
   "source": [
    "summary(data)"
   ]
  },
  {
   "cell_type": "markdown",
   "id": "c87e891c-38fc-4ad4-9ac3-673857427eca",
   "metadata": {},
   "source": [
    "I see that Salary has negative values. Let's also remove those:"
   ]
  },
  {
   "cell_type": "code",
   "execution_count": 22,
   "id": "16d8327a-e143-4572-87d6-a6289b0ffbb6",
   "metadata": {},
   "outputs": [],
   "source": [
    "# Remove negative Salary \n",
    "data <- data[which(data$Salary > 0), ]"
   ]
  },
  {
   "cell_type": "code",
   "execution_count": 23,
   "id": "c56dca0c-4ee3-4e83-948a-c8f00789bf72",
   "metadata": {},
   "outputs": [
    {
     "data": {
      "text/plain": [
       "    Customer        Province             City              Gender    \n",
       " Min.   :100018   Length:12479       Length:12479       Female:6316  \n",
       " 1st Qu.:325544   Class :character   Class :character   Male  :6163  \n",
       " Median :551429   Mode  :character   Mode  :character                \n",
       " Mean   :550075                                                      \n",
       " 3rd Qu.:773900                                                      \n",
       " Max.   :999986                                                      \n",
       "                                                                     \n",
       "                Education         Salary        MaritalStatus  LoyaltyCard  \n",
       " Bachelor            :10456   Min.   : 15609   Divorced:2140   Aurora:2632  \n",
       " College             :    0   1st Qu.: 59265   Married :8284   Nova  :4330  \n",
       " Doctor              :  734   Median : 73510   Single  :2055   Star  :5517  \n",
       " High School or Below:  781   Mean   : 79430                                \n",
       " Master              :  508   3rd Qu.: 88600                                \n",
       "                              Max.   :407228                                \n",
       "                                                                            \n",
       "      CLV               EnrollmentType  EnrollmentYear EnrollmentMonth\n",
       " Min.   : 2120   2018 Promotion:  713   2012:1279      5      :1149   \n",
       " 1st Qu.: 4082   Standard      :11766   2013:1802      7      :1126   \n",
       " Median : 5809                          2014:1746      12     :1094   \n",
       " Mean   : 8120                          2015:1756      10     :1078   \n",
       " 3rd Qu.: 9072                          2016:1812      11     :1069   \n",
       " Max.   :83325                          2017:1841      8      :1068   \n",
       "                                        2018:2243      (Other):5895   \n",
       " TotalSoloFlights TotalCompanionFlights  TotalFlights   TotalDistance   \n",
       " Min.   :  0.00   Min.   :  0.00        Min.   :  0.0   Min.   :     0  \n",
       " 1st Qu.: 59.00   1st Qu.: 13.00        1st Qu.: 74.0   1st Qu.: 17562  \n",
       " Median :113.00   Median : 26.00        Median :142.0   Median : 33806  \n",
       " Mean   : 99.45   Mean   : 24.91        Mean   :124.4   Mean   : 29255  \n",
       " 3rd Qu.:139.00   3rd Qu.: 36.00        3rd Qu.:174.0   3rd Qu.: 40838  \n",
       " Max.   :354.00   Max.   :103.00        Max.   :448.0   Max.   :101959  \n",
       "                                                                        \n",
       " TotalPointsAccumulated TotalPointsRedeemed TotalDollarCostPointsRedeemed\n",
       " Min.   :    0          Min.   :   0.0      Min.   :  0.00               \n",
       " 1st Qu.: 1796          1st Qu.:   0.0      1st Qu.:  0.00               \n",
       " Median : 3456          Median : 572.0      Median : 46.00               \n",
       " Mean   : 2994          Mean   : 739.5      Mean   : 59.85               \n",
       " 3rd Qu.: 4189          3rd Qu.:1176.5      3rd Qu.: 95.00               \n",
       " Max.   :10588          Max.   :4479.0      Max.   :363.00               \n",
       "                                                                         \n",
       "    Canceled     \n",
       " Min.   :0.0000  \n",
       " 1st Qu.:0.0000  \n",
       " Median :0.0000  \n",
       " Mean   :0.1232  \n",
       " 3rd Qu.:0.0000  \n",
       " Max.   :1.0000  \n",
       "                 "
      ]
     },
     "metadata": {},
     "output_type": "display_data"
    }
   ],
   "source": [
    "summary(data)"
   ]
  },
  {
   "cell_type": "code",
   "execution_count": 44,
   "id": "48ad9215-205e-4c4c-af0b-40d44f15f6e2",
   "metadata": {},
   "outputs": [
    {
     "data": {
      "text/plain": [
       "\n",
       "        0         1 \n",
       "0.8767529 0.1232471 "
      ]
     },
     "metadata": {},
     "output_type": "display_data"
    }
   ],
   "source": [
    "prop.table(table(data$Canceled))"
   ]
  },
  {
   "cell_type": "markdown",
   "id": "5ed089a0-6a69-44a5-8ac9-75ce0e6735ce",
   "metadata": {},
   "source": [
    "We see that 12% of the members have canceled their membership at any point between 2012 and 2018."
   ]
  },
  {
   "cell_type": "markdown",
   "id": "43b3f5da-d4c4-4718-b52e-13442f0e47af",
   "metadata": {},
   "source": [
    "## Visual Data Exploration\n",
    "\n",
    "### Histograms"
   ]
  },
  {
   "cell_type": "code",
   "execution_count": 24,
   "id": "8762996e-3667-4770-b481-47192593f2ee",
   "metadata": {},
   "outputs": [
    {
     "data": {
      "image/png": "[encoded data removed]",
      "text/plain": [
       "Plot with title “log(Salary)”"
      ]
     },
     "metadata": {
      "image/png": {
       "height": 420,
       "width": 420
      }
     },
     "output_type": "display_data"
    }
   ],
   "source": [
    "opar <- par(no.readonly=TRUE)\n",
    "par(mfrow=c(2,1))\n",
    "hist(data$Salary, col='lightblue', main='Salary', xlab='Salary')\n",
    "hist(log10(data$Salary), col='lightblue', main='log(Salary)', xlab='log10(Salary)')\n",
    "par(opar)"
   ]
  },
  {
   "cell_type": "code",
   "execution_count": 25,
   "id": "b6e434b2-3252-490b-aad8-cb8940e511c7",
   "metadata": {},
   "outputs": [
    {
     "data": {
      "image/png": "[encoded data removed]",
      "text/plain": [
       "Plot with title “log(Customer Lifetime Value)”"
      ]
     },
     "metadata": {
      "image/png": {
       "height": 420,
       "width": 420
      }
     },
     "output_type": "display_data"
    }
   ],
   "source": [
    "par(mfrow=c(2,1))\n",
    "hist(data$CLV, col='lightblue', main='Customer Lifetime Value', xlab='CLV')\n",
    "hist(log10(data$CLV), col='lightblue', main='log(Customer Lifetime Value)', xlab='log10(CLV)')\n",
    "par(opar)"
   ]
  },
  {
   "cell_type": "code",
   "execution_count": 26,
   "id": "9c962d74-7e49-4835-af70-c974b08e2dd1",
   "metadata": {},
   "outputs": [
    {
     "data": {
      "image/png": "[encoded data removed]",
      "text/plain": [
       "Plot with title “Total Points Redeemed”"
      ]
     },
     "metadata": {
      "image/png": {
       "height": 420,
       "width": 420
      }
     },
     "output_type": "display_data"
    }
   ],
   "source": [
    "par(mfrow=c(2,2))\n",
    "hist(data$TotalFlights, col='lightblue', main='Total Flights', breaks=20)\n",
    "hist(data$TotalDistance, col='lightblue', main='Total Distance', breaks=20)\n",
    "hist(data$TotalPointsAccumulated, col='lightblue', main='Total Points Accumulated', breaks=20)\n",
    "hist(data$TotalPointsRedeemed, col='lightblue', main='Total Points Redeemed', breaks=20)\n",
    "par(opar)"
   ]
  },
  {
   "cell_type": "code",
   "execution_count": 27,
   "id": "c7475cdb-74ae-48ff-bb2b-2e606baa6886",
   "metadata": {},
   "outputs": [
    {
     "data": {
      "text/plain": [
       "\n",
       "\tPearson's product-moment correlation\n",
       "\n",
       "data:  data$TotalFlights and data$TotalDistance\n",
       "t = 360.36, df = 12477, p-value < 2.2e-16\n",
       "alternative hypothesis: true correlation is not equal to 0\n",
       "95 percent confidence interval:\n",
       " 0.9536004 0.9566774\n",
       "sample estimates:\n",
       "      cor \n",
       "0.9551647 \n"
      ]
     },
     "metadata": {},
     "output_type": "display_data"
    },
    {
     "data": {
      "text/plain": [
       "\n",
       "\tPearson's product-moment correlation\n",
       "\n",
       "data:  data$TotalDistance and data$TotalPointsAccumulated\n",
       "t = 2284.1, df = 12477, p-value < 2.2e-16\n",
       "alternative hypothesis: true correlation is not equal to 0\n",
       "95 percent confidence interval:\n",
       " 0.9987638 0.9988475\n",
       "sample estimates:\n",
       "      cor \n",
       "0.9988064 \n"
      ]
     },
     "metadata": {},
     "output_type": "display_data"
    },
    {
     "data": {
      "text/plain": [
       "\n",
       "\tPearson's product-moment correlation\n",
       "\n",
       "data:  data$TotalFlights and data$TotalPointsRedeemed\n",
       "t = 72.465, df = 12477, p-value < 2.2e-16\n",
       "alternative hypothesis: true correlation is not equal to 0\n",
       "95 percent confidence interval:\n",
       " 0.5317781 0.5564773\n",
       "sample estimates:\n",
       "      cor \n",
       "0.5442456 \n"
      ]
     },
     "metadata": {},
     "output_type": "display_data"
    },
    {
     "data": {
      "text/plain": [
       "\n",
       "\tPearson's product-moment correlation\n",
       "\n",
       "data:  data$TotalPointsRedeemed and data$TotalDollarCostPointsRedeemed\n",
       "t = 17351, df = 12477, p-value < 2.2e-16\n",
       "alternative hypothesis: true correlation is not equal to 0\n",
       "95 percent confidence interval:\n",
       " 0.9999785 0.9999800\n",
       "sample estimates:\n",
       "      cor \n",
       "0.9999793 \n"
      ]
     },
     "metadata": {},
     "output_type": "display_data"
    }
   ],
   "source": [
    "cor.test(data$TotalFlights, data$TotalDistance)\n",
    "cor.test(data$TotalDistance, data$TotalPointsAccumulated)\n",
    "cor.test(data$TotalFlights, data$TotalPointsRedeemed)\n",
    "cor.test(data$TotalPointsRedeemed, data$TotalDollarCostPointsRedeemed)"
   ]
  },
  {
   "cell_type": "markdown",
   "id": "27df9700-00ac-410b-a3f3-bd210b9f98f0",
   "metadata": {},
   "source": [
    "We see that all the cumulative flights data, such as number of flights booked and total distance, is very strongly correlated with each other, as expected, but the redeemed points data contains different information. So later we might decide to only use \"TotalFlights\" and \"TotalPointsRedeemed\" as the independent variables from the flights data."
   ]
  },
  {
   "cell_type": "markdown",
   "id": "1c8bf4df-f56d-4cda-91df-9e67b213fdaa",
   "metadata": {},
   "source": [
    "### Box Plots"
   ]
  },
  {
   "cell_type": "code",
   "execution_count": 28,
   "id": "cc80d64f-dcb2-460b-baca-4fb3aa4f2744",
   "metadata": {},
   "outputs": [],
   "source": [
    "data$LoyaltyCard <- factor(data$LoyaltyCard, levels = c(\"Star\", \"Nova\", \"Aurora\"))"
   ]
  },
  {
   "cell_type": "code",
   "execution_count": 29,
   "id": "ef5cbc95-330e-4553-83f8-44010ea3621c",
   "metadata": {},
   "outputs": [
    {
     "data": {
      "image/png": "[encoded data removed]",
      "text/plain": [
       "Plot with title “TotalFlights 2017-2018”"
      ]
     },
     "metadata": {
      "image/png": {
       "height": 420,
       "width": 420
      }
     },
     "output_type": "display_data"
    }
   ],
   "source": [
    "# Boxplot of CLV as a function of Loyalty Type\n",
    "par(mfrow=c(1,2))\n",
    "boxplot(data$CLV ~ data$LoyaltyCard, col='lightblue', main='CLV', xlab='Membership')\n",
    "boxplot(data$TotalFlights ~ data$LoyaltyCard, col='lightblue', main='TotalFlights 2017-2018', xlab='Membership')\n",
    "par(opar)"
   ]
  },
  {
   "cell_type": "code",
   "execution_count": 30,
   "id": "71a0d76e-e76a-4e77-8990-c2610928d6e7",
   "metadata": {},
   "outputs": [
    {
     "data": {
      "text/html": [
       "<style>\n",
       ".list-inline {list-style: none; margin:0; padding: 0}\n",
       ".list-inline>li {display: inline-block}\n",
       ".list-inline>li:not(:last-child)::after {content: \"\\00b7\"; padding: 0 .5ex}\n",
       "</style>\n",
       "<ol class=list-inline><li>'Bachelor'</li><li>'College'</li><li>'Doctor'</li><li>'High School or Below'</li><li>'Master'</li></ol>\n"
      ],
      "text/latex": [
       "\\begin{enumerate*}\n",
       "\\item 'Bachelor'\n",
       "\\item 'College'\n",
       "\\item 'Doctor'\n",
       "\\item 'High School or Below'\n",
       "\\item 'Master'\n",
       "\\end{enumerate*}\n"
      ],
      "text/markdown": [
       "1. 'Bachelor'\n",
       "2. 'College'\n",
       "3. 'Doctor'\n",
       "4. 'High School or Below'\n",
       "5. 'Master'\n",
       "\n",
       "\n"
      ],
      "text/plain": [
       "[1] \"Bachelor\"             \"College\"              \"Doctor\"              \n",
       "[4] \"High School or Below\" \"Master\"              "
      ]
     },
     "metadata": {},
     "output_type": "display_data"
    }
   ],
   "source": [
    "levels(data$Education)"
   ]
  },
  {
   "cell_type": "code",
   "execution_count": 31,
   "id": "d96d6a94-8e36-4f00-b9fa-39e1ed01a790",
   "metadata": {},
   "outputs": [],
   "source": [
    "data$Education <- factor(data$Education, levels = c(\"High School or Below\", \"College\", \"Bachelor\", \"Master\", \"Doctor\"))"
   ]
  },
  {
   "cell_type": "code",
   "execution_count": 34,
   "id": "6a8d6d82-db07-4431-a3c6-0539618e0b7d",
   "metadata": {},
   "outputs": [
    {
     "data": {
      "image/png": "[encoded data removed]",
      "text/plain": [
       "plot without title"
      ]
     },
     "metadata": {
      "image/png": {
       "height": 420,
       "width": 420
      }
     },
     "output_type": "display_data"
    }
   ],
   "source": [
    "# Boxplot of CLV as a function of Education\n",
    "par(mfrow=c(1,2))\n",
    "boxplot(data$CLV ~ data$Education, col='lightblue')\n",
    "boxplot(data$TotalFlights ~ data$Education, col='lightblue')\n",
    "par(opar)"
   ]
  },
  {
   "cell_type": "code",
   "execution_count": 36,
   "id": "be55e282-0e2d-48af-a0bd-6411f4e3f3b9",
   "metadata": {},
   "outputs": [
    {
     "data": {
      "text/html": [
       "<style>\n",
       ".list-inline {list-style: none; margin:0; padding: 0}\n",
       ".list-inline>li {display: inline-block}\n",
       ".list-inline>li:not(:last-child)::after {content: \"\\00b7\"; padding: 0 .5ex}\n",
       "</style>\n",
       "<ol class=list-inline><li>'Divorced'</li><li>'Married'</li><li>'Single'</li></ol>\n"
      ],
      "text/latex": [
       "\\begin{enumerate*}\n",
       "\\item 'Divorced'\n",
       "\\item 'Married'\n",
       "\\item 'Single'\n",
       "\\end{enumerate*}\n"
      ],
      "text/markdown": [
       "1. 'Divorced'\n",
       "2. 'Married'\n",
       "3. 'Single'\n",
       "\n",
       "\n"
      ],
      "text/plain": [
       "[1] \"Divorced\" \"Married\"  \"Single\"  "
      ]
     },
     "metadata": {},
     "output_type": "display_data"
    }
   ],
   "source": [
    "levels(data$MaritalStatus)"
   ]
  },
  {
   "cell_type": "code",
   "execution_count": 35,
   "id": "6c219105-c38e-4c11-8f6f-b594c48a6204",
   "metadata": {},
   "outputs": [
    {
     "data": {
      "image/png": "[encoded data removed]",
      "text/plain": [
       "plot without title"
      ]
     },
     "metadata": {
      "image/png": {
       "height": 420,
       "width": 420
      }
     },
     "output_type": "display_data"
    }
   ],
   "source": [
    "# Boxplot as a function of Marital Status\n",
    "par(mfrow=c(1,2))\n",
    "boxplot(data$CLV ~ data$MaritalStatus, col='lightblue')\n",
    "boxplot(data$TotalFlights ~ data$MaritalStatus, col='lightblue')\n",
    "par(opar)"
   ]
  },
  {
   "cell_type": "code",
   "execution_count": 39,
   "id": "a17ca743-e92a-499d-b2f1-318a381fc1a9",
   "metadata": {},
   "outputs": [
    {
     "data": {
      "image/png": "[encoded data removed]",
      "text/plain": [
       "plot without title"
      ]
     },
     "metadata": {
      "image/png": {
       "height": 420,
       "width": 420
      }
     },
     "output_type": "display_data"
    }
   ],
   "source": [
    "# Boxplots as a function of Enrollment Year\n",
    "par(mfrow=c(1,2))\n",
    "boxplot(data$CLV ~ data$EnrollmentYear, col='lightblue')\n",
    "boxplot(data$TotalFlights ~ data$EnrollmentYear, col='lightblue')\n",
    "par(opar)"
   ]
  },
  {
   "cell_type": "code",
   "execution_count": 42,
   "id": "86824ec8-4191-4247-9ce5-26d908ffde13",
   "metadata": {},
   "outputs": [
    {
     "data": {
      "image/png": "[encoded data removed]",
      "text/plain": [
       "Plot with title “Total Flights 2017-2018”"
      ]
     },
     "metadata": {
      "image/png": {
       "height": 420,
       "width": 420
      }
     },
     "output_type": "display_data"
    }
   ],
   "source": [
    "# Boxplot as a function of Enrollment Type\n",
    "boxplot(data$TotalFlights ~ data$EnrollmentType, col='lightblue', main='Total Flights 2017-2018', xlab='Enrollment Type')"
   ]
  },
  {
   "cell_type": "markdown",
   "id": "f3837654-68cb-45f1-9120-ddf99a109bb6",
   "metadata": {},
   "source": [
    "**Conclusions:** the total number of flights booked in 2017-2018 does not seem to depend strongly on membership type, marital status or education. It does depend on enrollment year: people who enrolled during the period 2017-2018 booked less flights in this period compared to people who were already enrolled. We also see this in the last boxplot: people who enrolled as part of the \"2018 Promotion\" booked less flights in 2017-2018 than people who were enrolled outside of the promotion. We also see that the Customer Lifetime Value (CLV) has a lot of outliers, but there seems to be some evidence that the CLV is higher for higher-level memberships (highest level is Aurora, followed by Nova)."
   ]
  },
  {
   "cell_type": "markdown",
   "id": "32af36e5-c201-409f-90c6-08487d7105ad",
   "metadata": {},
   "source": [
    "## Fitting Total Number of Flights Booked (between 2017-2018)\n",
    "\n",
    "Let's continue and fit the Total Number of Flights Booked as a function of Customer Loyalty Data using two different methods. First we will try a Linear Regression and then compare the RMSE with that of using a Random Forest."
   ]
  },
  {
   "cell_type": "code",
   "execution_count": 43,
   "id": "1c433b71-b7ec-473d-b29a-007688f4f14b",
   "metadata": {},
   "outputs": [
    {
     "name": "stdout",
     "output_type": "stream",
     "text": [
      "'data.frame':\t12479 obs. of  20 variables:\n",
      " $ Customer                     : int  100018 100214 100272 100301 100364 100380 100428 100504 100550 100585 ...\n",
      " $ Province                     : chr  \"Alberta\" \"British Columbia\" \"Ontario\" \"Ontario\" ...\n",
      " $ City                         : chr  \"Edmonton\" \"Vancouver\" \"Toronto\" \"Toronto\" ...\n",
      " $ Gender                       : Factor w/ 2 levels \"Female\",\"Male\": 1 2 1 2 2 1 2 1 1 2 ...\n",
      " $ Education                    : Factor w/ 5 levels \"High School or Below\",..: 3 3 3 3 3 3 3 3 3 3 ...\n",
      " $ Salary                       : int  92552 63253 91163 70323 76849 69695 63478 75638 54133 96269 ...\n",
      " $ MaritalStatus                : Factor w/ 3 levels \"Divorced\",\"Married\",..: 2 2 1 1 2 3 2 1 2 1 ...\n",
      " $ LoyaltyCard                  : Factor w/ 3 levels \"Star\",\"Nova\",..: 3 1 1 2 2 1 3 2 2 1 ...\n",
      " $ CLV                          : num  7919 4171 6622 48357 5144 ...\n",
      " $ EnrollmentType               : Factor w/ 2 levels \"2018 Promotion\",..: 2 2 2 2 2 2 2 2 2 2 ...\n",
      " $ EnrollmentYear               : Factor w/ 7 levels \"2012\",\"2013\",..: 5 4 3 2 4 1 1 6 2 2 ...\n",
      " $ EnrollmentMonth              : Factor w/ 12 levels \"1\",\"2\",\"3\",\"4\",..: 8 8 1 9 5 10 8 7 2 11 ...\n",
      " $ TotalSoloFlights             : int  157 79 127 145 111 116 121 67 146 141 ...\n",
      " $ TotalCompanionFlights        : int  35 17 36 46 28 43 22 6 37 26 ...\n",
      " $ TotalFlights                 : int  192 96 163 191 139 159 143 73 183 167 ...\n",
      " $ TotalDistance                : int  50682 33982 40872 42594 32211 35812 34495 15911 41157 40621 ...\n",
      " $ TotalPointsAccumulated       : num  5376 3426 4108 4273 3217 ...\n",
      " $ TotalPointsRedeemed          : int  1513 861 1007 1381 559 1142 1658 0 1114 2397 ...\n",
      " $ TotalDollarCostPointsRedeemed: int  123 70 82 112 45 92 134 0 90 193 ...\n",
      " $ Canceled                     : int  0 0 0 0 0 0 0 1 0 0 ...\n",
      " - attr(*, \"na.action\")= 'omit' Named int [1:4238] 2 3 18 21 22 23 32 40 42 47 ...\n",
      "  ..- attr(*, \"names\")= chr [1:4238] \"2\" \"3\" \"18\" \"21\" ...\n"
     ]
    }
   ],
   "source": [
    "str(data)"
   ]
  },
  {
   "cell_type": "code",
   "execution_count": 97,
   "id": "cd27fa18-2d32-4977-b6be-aece18bdbb84",
   "metadata": {},
   "outputs": [
    {
     "data": {
      "text/plain": [
       "\n",
       "Call:\n",
       "lm(formula = fmla, data = data)\n",
       "\n",
       "Residuals:\n",
       "     Min       1Q   Median       3Q      Max \n",
       "-177.864  -30.494   -3.078   26.568  314.673 \n",
       "\n",
       "Coefficients: (10 not defined because of singularities)\n",
       "                                Estimate Std. Error  t value Pr(>|t|)    \n",
       "(Intercept)                    2.119e+02  4.788e+00   44.268  < 2e-16 ***\n",
       "ProvinceBritish Columbia       4.064e+00  3.958e+00    1.027  0.30460    \n",
       "ProvinceManitoba               2.628e+00  3.903e+00    0.673  0.50085    \n",
       "ProvinceNew Brunswick          2.554e+00  4.705e+00    0.543  0.58721    \n",
       "ProvinceNewfoundland          -2.350e-01  4.505e+00   -0.052  0.95840    \n",
       "ProvinceNova Scotia            1.594e+00  4.015e+00    0.397  0.69136    \n",
       "ProvinceOntario                3.612e+00  4.049e+00    0.892  0.37238    \n",
       "ProvincePrince Edward Island   5.099e-01  6.668e+00    0.076  0.93904    \n",
       "ProvinceQuebec                 2.565e+00  4.167e+00    0.615  0.53826    \n",
       "ProvinceSaskatchewan           4.234e+00  4.149e+00    1.020  0.30759    \n",
       "ProvinceYukon                  9.052e+00  5.611e+00    1.613  0.10672    \n",
       "CityCalgary                    5.314e+00  4.817e+00    1.103  0.26992    \n",
       "CityCharlottetown                     NA         NA       NA       NA    \n",
       "CityDawson Creek              -4.431e+00  2.919e+00   -1.518  0.12913    \n",
       "CityEdmonton                   5.032e+00  4.049e+00    1.243  0.21390    \n",
       "CityFredericton                3.084e+00  3.899e+00    0.791  0.42908    \n",
       "CityHalifax                           NA         NA       NA       NA    \n",
       "CityHull                      -1.865e+00  3.374e+00   -0.553  0.58042    \n",
       "CityKelowna                    6.825e-01  5.298e+00    0.129  0.89750    \n",
       "CityKingston                  -2.480e+00  3.123e+00   -0.794  0.42720    \n",
       "CityLondon                    -2.187e+00  4.091e+00   -0.535  0.59293    \n",
       "CityMoncton                           NA         NA       NA       NA    \n",
       "CityMontreal                   6.290e-02  2.536e+00    0.025  0.98021    \n",
       "CityOttawa                    -3.339e-01  2.937e+00   -0.114  0.90951    \n",
       "CityPeace River                4.640e+00  5.565e+00    0.834  0.40446    \n",
       "CityQuebec City               -6.033e+00  3.132e+00   -1.926  0.05412 .  \n",
       "CityRegina                            NA         NA       NA       NA    \n",
       "CitySt. John's                        NA         NA       NA       NA    \n",
       "CitySudbury                   -3.934e+00  3.723e+00   -1.057  0.29067    \n",
       "CityThunder Bay               -1.617e+00  3.575e+00   -0.452  0.65107    \n",
       "CityToronto                   -9.314e-01  2.248e+00   -0.414  0.67861    \n",
       "CityTremblant                         NA         NA       NA       NA    \n",
       "CityTrenton                           NA         NA       NA       NA    \n",
       "CityVancouver                 -2.339e+00  2.125e+00   -1.101  0.27111    \n",
       "CityVictoria                   4.252e-01  3.034e+00    0.140  0.88854    \n",
       "CityWest Vancouver            -1.469e+00  3.213e+00   -0.457  0.64741    \n",
       "CityWhistler                          NA         NA       NA       NA    \n",
       "CityWhitehorse                        NA         NA       NA       NA    \n",
       "CityWinnipeg                          NA         NA       NA       NA    \n",
       "GenderMale                     1.129e+00  7.163e-01    1.576  0.11507    \n",
       "EducationCollege               2.196e+00  1.570e+00    1.399  0.16194    \n",
       "EducationDoctor               -4.806e-01  2.578e+00   -0.186  0.85212    \n",
       "EducationHigh School or Below  5.681e-01  1.730e+00    0.328  0.74260    \n",
       "EducationMaster                3.757e+00  2.191e+00    1.714  0.08649 .  \n",
       "Salary                         1.187e-05  1.767e-05    0.672  0.50167    \n",
       "MaritalStatusMarried           3.032e-01  1.044e+00    0.290  0.77145    \n",
       "MaritalStatusSingle            6.549e-01  1.210e+00    0.541  0.58845    \n",
       "LoyaltyCardNova               -8.598e-01  1.012e+00   -0.850  0.39561    \n",
       "LoyaltyCardStar               -2.568e+00  9.777e-01   -2.627  0.00862 ** \n",
       "CLV                           -6.227e-05  5.349e-05   -1.164  0.24439    \n",
       "EnrollmentTypeStandard        -5.721e+01  2.056e+00  -27.830  < 2e-16 ***\n",
       "EnrollmentYear2013             1.508e+01  1.504e+00   10.026  < 2e-16 ***\n",
       "EnrollmentYear2014             1.587e+01  1.506e+00   10.533  < 2e-16 ***\n",
       "EnrollmentYear2015             1.484e+01  1.513e+00    9.803  < 2e-16 ***\n",
       "EnrollmentYear2016             1.832e+01  1.497e+00   12.242  < 2e-16 ***\n",
       "EnrollmentYear2017            -1.734e+01  1.492e+00  -11.622  < 2e-16 ***\n",
       "EnrollmentYear2018            -9.681e+01  1.532e+00  -63.207  < 2e-16 ***\n",
       "EnrollmentMonth2              -4.386e+00  1.941e+00   -2.260  0.02385 *  \n",
       "EnrollmentMonth3              -7.461e+00  1.895e+00   -3.938 8.25e-05 ***\n",
       "EnrollmentMonth4              -1.234e+01  1.888e+00   -6.533 6.65e-11 ***\n",
       "EnrollmentMonth5              -5.306e+00  1.805e+00   -2.939  0.00329 ** \n",
       "EnrollmentMonth6              -4.210e+00  1.832e+00   -2.298  0.02156 *  \n",
       "EnrollmentMonth7              -1.215e+01  1.815e+00   -6.696 2.21e-11 ***\n",
       "EnrollmentMonth8              -1.462e+01  1.827e+00   -8.001 1.31e-15 ***\n",
       "EnrollmentMonth9              -1.555e+01  1.839e+00   -8.456  < 2e-16 ***\n",
       "EnrollmentMonth10             -1.967e+01  1.822e+00  -10.795  < 2e-16 ***\n",
       "EnrollmentMonth11             -1.903e+01  1.821e+00  -10.448  < 2e-16 ***\n",
       "EnrollmentMonth12             -1.548e+01  1.811e+00   -8.546  < 2e-16 ***\n",
       "CanceledTRUE                  -1.144e+02  1.108e+00 -103.230  < 2e-16 ***\n",
       "---\n",
       "Signif. codes:  0 ‘***’ 0.001 ‘**’ 0.01 ‘*’ 0.05 ‘.’ 0.1 ‘ ’ 1\n",
       "\n",
       "Residual standard error: 46.27 on 16678 degrees of freedom\n",
       "Multiple R-squared:  0.5371,\tAdjusted R-squared:  0.5355 \n",
       "F-statistic: 333.7 on 58 and 16678 DF,  p-value: < 2.2e-16\n"
      ]
     },
     "metadata": {},
     "output_type": "display_data"
    }
   ],
   "source": [
    "target_var <- 'TotalFlights'\n",
    "feature_list <- c('Province','City','Gender','Education','Salary','MaritalStatus','LoyaltyCard','CLV','EnrollmentType','EnrollmentYear',\n",
    "                 'EnrollmentMonth','Canceled')\n",
    "fmla <- as.formula(sprintf('%s ~ %s', target_var, paste(feature_list, collapse = ' + ')))\n",
    "lm_flights_booked <- lm(data = data, formula = fmla)\n",
    "summary(lm_flights_booked)"
   ]
  },
  {
   "cell_type": "code",
   "execution_count": 98,
   "id": "10d1c90d-cf87-4287-bc0a-c188f0340df6",
   "metadata": {},
   "outputs": [
    {
     "name": "stdout",
     "output_type": "stream",
     "text": [
      "Start:  AIC=128416\n",
      "TotalFlights ~ Province + City + Gender + Education + Salary + \n",
      "    MaritalStatus + LoyaltyCard + CLV + EnrollmentType + EnrollmentYear + \n",
      "    EnrollmentMonth + Canceled\n",
      "\n",
      "\n",
      "Step:  AIC=128416\n",
      "TotalFlights ~ City + Gender + Education + Salary + MaritalStatus + \n",
      "    LoyaltyCard + CLV + EnrollmentType + EnrollmentYear + EnrollmentMonth + \n",
      "    Canceled\n",
      "\n",
      "                  Df Sum of Sq      RSS    AIC\n",
      "- City            28     49754 35758565 128383\n",
      "- MaritalStatus    2       652 35709464 128412\n",
      "- Education        4     12376 35721188 128414\n",
      "- Salary           1       967 35709778 128414\n",
      "- CLV              1      2901 35711713 128415\n",
      "<none>                         35708811 128416\n",
      "- Gender           1      5317 35714129 128416\n",
      "- LoyaltyCard      2     17827 35726639 128420\n",
      "- EnrollmentMonth 11    592333 36301145 128669\n",
      "- EnrollmentType   1   1658268 37367079 129174\n",
      "- EnrollmentYear   6  20732080 56440892 136066\n",
      "- Canceled         1  22816076 58524887 136683\n",
      "\n",
      "Step:  AIC=128383.3\n",
      "TotalFlights ~ Gender + Education + Salary + MaritalStatus + \n",
      "    LoyaltyCard + CLV + EnrollmentType + EnrollmentYear + EnrollmentMonth + \n",
      "    Canceled\n",
      "\n",
      "                  Df Sum of Sq      RSS    AIC\n",
      "- MaritalStatus    2       771 35759336 128380\n",
      "- Education        4     12545 35771110 128381\n",
      "- Salary           1      1027 35759592 128382\n",
      "- CLV              1      2807 35761371 128383\n",
      "<none>                         35758565 128383\n",
      "- Gender           1      5190 35763755 128384\n",
      "- LoyaltyCard      2     17996 35776561 128388\n",
      "- EnrollmentMonth 11    596884 36355449 128638\n",
      "- EnrollmentType   1   1660580 37419144 129141\n",
      "- EnrollmentYear   6  20764326 56522891 136034\n",
      "- Canceled         1  22858680 58617245 136653\n",
      "\n",
      "Step:  AIC=128379.7\n",
      "TotalFlights ~ Gender + Education + Salary + LoyaltyCard + CLV + \n",
      "    EnrollmentType + EnrollmentYear + EnrollmentMonth + Canceled\n",
      "\n",
      "                  Df Sum of Sq      RSS    AIC\n",
      "- Salary           1       995 35760331 128378\n",
      "- Education        4     13853 35773188 128378\n",
      "- CLV              1      2845 35762181 128379\n",
      "<none>                         35759336 128380\n",
      "- Gender           1      5159 35764495 128380\n",
      "- LoyaltyCard      2     17926 35777262 128384\n",
      "- EnrollmentMonth 11    596953 36356289 128635\n",
      "- EnrollmentType   1   1660526 37419862 129137\n",
      "- EnrollmentYear   6  20773277 56532613 136033\n",
      "- Canceled         1  22858362 58617698 136650\n",
      "\n",
      "Step:  AIC=128378.1\n",
      "TotalFlights ~ Gender + Education + LoyaltyCard + CLV + EnrollmentType + \n",
      "    EnrollmentYear + EnrollmentMonth + Canceled\n",
      "\n",
      "                  Df Sum of Sq      RSS    AIC\n",
      "- Education        4     13503 35773834 128376\n",
      "- CLV              1      2907 35763238 128377\n",
      "<none>                         35760331 128378\n",
      "- Gender           1      5171 35765502 128379\n",
      "- LoyaltyCard      2     18014 35778345 128383\n",
      "- EnrollmentMonth 11    596367 36356697 128633\n",
      "- EnrollmentType   1   1659576 37419907 129135\n",
      "- EnrollmentYear   6  20774431 56534762 136032\n",
      "- Canceled         1  22860899 58621230 136649\n",
      "\n",
      "Step:  AIC=128376.4\n",
      "TotalFlights ~ Gender + LoyaltyCard + CLV + EnrollmentType + \n",
      "    EnrollmentYear + EnrollmentMonth + Canceled\n",
      "\n",
      "                  Df Sum of Sq      RSS    AIC\n",
      "- CLV              1      3247 35777081 128376\n",
      "<none>                         35773834 128376\n",
      "- Gender           1      5212 35779046 128377\n",
      "- LoyaltyCard      2     16279 35790112 128380\n",
      "- EnrollmentMonth 11    596197 36370031 128631\n",
      "- EnrollmentType   1   1658164 37431998 129133\n",
      "- EnrollmentYear   6  20783098 56556932 136031\n",
      "- Canceled         1  22859146 58632979 136644\n",
      "\n",
      "Step:  AIC=128376\n",
      "TotalFlights ~ Gender + LoyaltyCard + EnrollmentType + EnrollmentYear + \n",
      "    EnrollmentMonth + Canceled\n",
      "\n",
      "                  Df Sum of Sq      RSS    AIC\n",
      "<none>                         35777081 128376\n",
      "- Gender           1      5203 35782284 128376\n",
      "- LoyaltyCard      2     14079 35791160 128379\n",
      "- EnrollmentMonth 11    595995 36373076 128630\n",
      "- EnrollmentType   1   1657873 37434954 129132\n",
      "- EnrollmentYear   6  20782163 56559244 136029\n",
      "- Canceled         1  22862328 58639409 136644\n"
     ]
    },
    {
     "data": {
      "text/plain": [
       "\n",
       "Call:\n",
       "lm(formula = TotalFlights ~ Gender + LoyaltyCard + EnrollmentType + \n",
       "    EnrollmentYear + EnrollmentMonth + Canceled, data = data)\n",
       "\n",
       "Coefficients:\n",
       "           (Intercept)              GenderMale         LoyaltyCardNova  \n",
       "              215.3075                  1.1157                 -0.6672  \n",
       "       LoyaltyCardStar  EnrollmentTypeStandard      EnrollmentYear2013  \n",
       "               -2.1952                -57.0864                 15.0695  \n",
       "    EnrollmentYear2014      EnrollmentYear2015      EnrollmentYear2016  \n",
       "               15.8929                 14.8522                 18.3472  \n",
       "    EnrollmentYear2017      EnrollmentYear2018        EnrollmentMonth2  \n",
       "              -17.2727                -96.8353                 -4.4867  \n",
       "      EnrollmentMonth3        EnrollmentMonth4        EnrollmentMonth5  \n",
       "               -7.6310                -12.3698                 -5.4116  \n",
       "      EnrollmentMonth6        EnrollmentMonth7        EnrollmentMonth8  \n",
       "               -4.2799                -12.2282                -14.6927  \n",
       "      EnrollmentMonth9       EnrollmentMonth10       EnrollmentMonth11  \n",
       "              -15.5972                -19.7907                -19.1343  \n",
       "     EnrollmentMonth12            CanceledTRUE  \n",
       "              -15.5387               -114.4282  \n"
      ]
     },
     "metadata": {},
     "output_type": "display_data"
    }
   ],
   "source": [
    "library(MASS)\n",
    "stepAIC(lm_flights_booked)"
   ]
  },
  {
   "cell_type": "code",
   "execution_count": 99,
   "id": "d591d306-498a-4e18-918e-28e630f97d2e",
   "metadata": {},
   "outputs": [
    {
     "data": {
      "text/plain": [
       "\n",
       "Call:\n",
       "lm(formula = fmla, data = data)\n",
       "\n",
       "Residuals:\n",
       "     Min       1Q   Median       3Q      Max \n",
       "-173.291  -30.467   -2.879   26.566  312.015 \n",
       "\n",
       "Coefficients:\n",
       "                        Estimate Std. Error  t value Pr(>|t|)    \n",
       "(Intercept)             215.3075     2.8471   75.622  < 2e-16 ***\n",
       "GenderMale                1.1157     0.7156    1.559  0.11898    \n",
       "LoyaltyCardNova          -0.6672     1.0013   -0.666  0.50521    \n",
       "LoyaltyCardStar          -2.1952     0.9517   -2.306  0.02109 *  \n",
       "EnrollmentTypeStandard  -57.0864     2.0513  -27.830  < 2e-16 ***\n",
       "EnrollmentYear2013       15.0695     1.5026   10.029  < 2e-16 ***\n",
       "EnrollmentYear2014       15.8929     1.5049   10.561  < 2e-16 ***\n",
       "EnrollmentYear2015       14.8522     1.5119    9.823  < 2e-16 ***\n",
       "EnrollmentYear2016       18.3472     1.4953   12.270  < 2e-16 ***\n",
       "EnrollmentYear2017      -17.2727     1.4907  -11.587  < 2e-16 ***\n",
       "EnrollmentYear2018      -96.8353     1.5302  -63.283  < 2e-16 ***\n",
       "EnrollmentMonth2         -4.4867     1.9387   -2.314  0.02066 *  \n",
       "EnrollmentMonth3         -7.6310     1.8925   -4.032 5.55e-05 ***\n",
       "EnrollmentMonth4        -12.3698     1.8856   -6.560 5.53e-11 ***\n",
       "EnrollmentMonth5         -5.4116     1.8032   -3.001  0.00269 ** \n",
       "EnrollmentMonth6         -4.2799     1.8299   -2.339  0.01935 *  \n",
       "EnrollmentMonth7        -12.2282     1.8124   -6.747 1.56e-11 ***\n",
       "EnrollmentMonth8        -14.6927     1.8240   -8.055 8.47e-16 ***\n",
       "EnrollmentMonth9        -15.5972     1.8361   -8.495  < 2e-16 ***\n",
       "EnrollmentMonth10       -19.7907     1.8196  -10.876  < 2e-16 ***\n",
       "EnrollmentMonth11       -19.1343     1.8190  -10.519  < 2e-16 ***\n",
       "EnrollmentMonth12       -15.5387     1.8086   -8.591  < 2e-16 ***\n",
       "CanceledTRUE           -114.4282     1.1072 -103.347  < 2e-16 ***\n",
       "---\n",
       "Signif. codes:  0 ‘***’ 0.001 ‘**’ 0.01 ‘*’ 0.05 ‘.’ 0.1 ‘ ’ 1\n",
       "\n",
       "Residual standard error: 46.27 on 16714 degrees of freedom\n",
       "Multiple R-squared:  0.5362,\tAdjusted R-squared:  0.5356 \n",
       "F-statistic: 878.5 on 22 and 16714 DF,  p-value: < 2.2e-16\n"
      ]
     },
     "metadata": {},
     "output_type": "display_data"
    }
   ],
   "source": [
    "target_var <- 'TotalFlights'\n",
    "feature_list <- c('Gender','LoyaltyCard','EnrollmentType','EnrollmentYear',\n",
    "                 'EnrollmentMonth','Canceled')\n",
    "fmla <- as.formula(sprintf('%s ~ %s', target_var, paste(feature_list, collapse = ' + ')))\n",
    "lm_flights_booked <- lm(data = data, formula = fmla)\n",
    "summary(lm_flights_booked)"
   ]
  },
  {
   "cell_type": "markdown",
   "id": "04d51f43-9f90-4c7e-8867-ac5c34ac0cb0",
   "metadata": {},
   "source": [
    "### Fitting the same Linear Model of Flights Booked using glm()"
   ]
  },
  {
   "cell_type": "code",
   "execution_count": 107,
   "id": "2a7b879f-1761-445c-9991-23b1bea5de7f",
   "metadata": {},
   "outputs": [],
   "source": [
    "lm_flights_booked2 <- glm(TotalFlights ~ . -TotalSoloFlights -TotalCompanionFlights -TotalDistance -TotalPointsAccumulated -TotalPointsRedeemed -TotalDollarCostPointsRedeemed, data = data)"
   ]
  },
  {
   "cell_type": "code",
   "execution_count": 108,
   "id": "1cc31f05-8ff1-444e-a136-a83864d61d8d",
   "metadata": {},
   "outputs": [
    {
     "data": {
      "text/plain": [
       "\n",
       "Call:\n",
       "glm(formula = TotalFlights ~ . - TotalSoloFlights - TotalCompanionFlights - \n",
       "    TotalDistance - TotalPointsAccumulated - TotalPointsRedeemed - \n",
       "    TotalDollarCostPointsRedeemed, data = data)\n",
       "\n",
       "Coefficients: (10 not defined because of singularities)\n",
       "                                Estimate Std. Error  t value Pr(>|t|)    \n",
       "(Intercept)                    2.116e+02  4.845e+00   43.680  < 2e-16 ***\n",
       "Customer                       5.821e-07  1.385e-06    0.420  0.67418    \n",
       "ProvinceBritish Columbia       4.080e+00  3.959e+00    1.031  0.30271    \n",
       "ProvinceManitoba               2.623e+00  3.903e+00    0.672  0.50156    \n",
       "ProvinceNew Brunswick          2.548e+00  4.705e+00    0.541  0.58824    \n",
       "ProvinceNewfoundland          -2.205e-01  4.505e+00   -0.049  0.96096    \n",
       "ProvinceNova Scotia            1.609e+00  4.015e+00    0.401  0.68870    \n",
       "ProvinceOntario                3.619e+00  4.049e+00    0.894  0.37151    \n",
       "ProvincePrince Edward Island   5.103e-01  6.668e+00    0.077  0.93900    \n",
       "ProvinceQuebec                 2.574e+00  4.168e+00    0.618  0.53691    \n",
       "ProvinceSaskatchewan           4.247e+00  4.150e+00    1.024  0.30606    \n",
       "ProvinceYukon                  9.050e+00  5.611e+00    1.613  0.10682    \n",
       "CityCalgary                    5.311e+00  4.817e+00    1.103  0.27020    \n",
       "CityCharlottetown                     NA         NA       NA       NA    \n",
       "CityDawson Creek              -4.440e+00  2.920e+00   -1.521  0.12836    \n",
       "CityEdmonton                   5.038e+00  4.049e+00    1.244  0.21339    \n",
       "CityFredericton                3.097e+00  3.900e+00    0.794  0.42706    \n",
       "CityHalifax                           NA         NA       NA       NA    \n",
       "CityHull                      -1.859e+00  3.374e+00   -0.551  0.58169    \n",
       "CityKelowna                    6.737e-01  5.298e+00    0.127  0.89882    \n",
       "CityKingston                  -2.480e+00  3.123e+00   -0.794  0.42715    \n",
       "CityLondon                    -2.192e+00  4.091e+00   -0.536  0.59206    \n",
       "CityMoncton                           NA         NA       NA       NA    \n",
       "CityMontreal                   6.116e-02  2.536e+00    0.024  0.98076    \n",
       "CityOttawa                    -3.324e-01  2.937e+00   -0.113  0.90990    \n",
       "CityPeace River                4.624e+00  5.565e+00    0.831  0.40611    \n",
       "CityQuebec City               -6.037e+00  3.132e+00   -1.927  0.05395 .  \n",
       "CityRegina                            NA         NA       NA       NA    \n",
       "CitySt. John's                        NA         NA       NA       NA    \n",
       "CitySudbury                   -3.921e+00  3.723e+00   -1.053  0.29234    \n",
       "CityThunder Bay               -1.612e+00  3.575e+00   -0.451  0.65217    \n",
       "CityToronto                   -9.265e-01  2.248e+00   -0.412  0.68021    \n",
       "CityTremblant                         NA         NA       NA       NA    \n",
       "CityTrenton                           NA         NA       NA       NA    \n",
       "CityVancouver                 -2.349e+00  2.125e+00   -1.105  0.26907    \n",
       "CityVictoria                   4.232e-01  3.034e+00    0.139  0.88907    \n",
       "CityWest Vancouver            -1.463e+00  3.213e+00   -0.455  0.64887    \n",
       "CityWhistler                          NA         NA       NA       NA    \n",
       "CityWhitehorse                        NA         NA       NA       NA    \n",
       "CityWinnipeg                          NA         NA       NA       NA    \n",
       "GenderMale                     1.127e+00  7.163e-01    1.573  0.11577    \n",
       "EducationCollege               2.195e+00  1.570e+00    1.398  0.16208    \n",
       "EducationDoctor               -4.920e-01  2.578e+00   -0.191  0.84865    \n",
       "EducationHigh School or Below  5.624e-01  1.730e+00    0.325  0.74512    \n",
       "EducationMaster                3.759e+00  2.192e+00    1.715  0.08635 .  \n",
       "Salary                         1.187e-05  1.767e-05    0.671  0.50199    \n",
       "MaritalStatusMarried           3.091e-01  1.044e+00    0.296  0.76715    \n",
       "MaritalStatusSingle            6.592e-01  1.210e+00    0.545  0.58603    \n",
       "LoyaltyCardNova               -8.601e-01  1.012e+00   -0.850  0.39545    \n",
       "LoyaltyCardStar               -2.570e+00  9.778e-01   -2.628  0.00859 ** \n",
       "CLV                           -6.229e-05  5.349e-05   -1.164  0.24431    \n",
       "EnrollmentTypeStandard        -5.723e+01  2.056e+00  -27.832  < 2e-16 ***\n",
       "EnrollmentYear2013             1.508e+01  1.504e+00   10.029  < 2e-16 ***\n",
       "EnrollmentYear2014             1.587e+01  1.506e+00   10.535  < 2e-16 ***\n",
       "EnrollmentYear2015             1.484e+01  1.513e+00    9.804  < 2e-16 ***\n",
       "EnrollmentYear2016             1.832e+01  1.497e+00   12.242  < 2e-16 ***\n",
       "EnrollmentYear2017            -1.734e+01  1.492e+00  -11.623  < 2e-16 ***\n",
       "EnrollmentYear2018            -9.682e+01  1.532e+00  -63.207  < 2e-16 ***\n",
       "EnrollmentMonth2              -4.401e+00  1.941e+00   -2.267  0.02339 *  \n",
       "EnrollmentMonth3              -7.450e+00  1.895e+00   -3.932 8.47e-05 ***\n",
       "EnrollmentMonth4              -1.234e+01  1.888e+00   -6.536 6.49e-11 ***\n",
       "EnrollmentMonth5              -5.306e+00  1.805e+00   -2.939  0.00329 ** \n",
       "EnrollmentMonth6              -4.222e+00  1.832e+00   -2.305  0.02119 *  \n",
       "EnrollmentMonth7              -1.215e+01  1.815e+00   -6.694 2.24e-11 ***\n",
       "EnrollmentMonth8              -1.462e+01  1.827e+00   -8.002 1.31e-15 ***\n",
       "EnrollmentMonth9              -1.555e+01  1.839e+00   -8.459  < 2e-16 ***\n",
       "EnrollmentMonth10             -1.967e+01  1.822e+00  -10.796  < 2e-16 ***\n",
       "EnrollmentMonth11             -1.903e+01  1.821e+00  -10.448  < 2e-16 ***\n",
       "EnrollmentMonth12             -1.548e+01  1.811e+00   -8.547  < 2e-16 ***\n",
       "CanceledTRUE                  -1.144e+02  1.108e+00 -103.228  < 2e-16 ***\n",
       "---\n",
       "Signif. codes:  0 ‘***’ 0.001 ‘**’ 0.01 ‘*’ 0.05 ‘.’ 0.1 ‘ ’ 1\n",
       "\n",
       "(Dispersion parameter for gaussian family taken to be 2141.178)\n",
       "\n",
       "    Null deviance: 77146974  on 16736  degrees of freedom\n",
       "Residual deviance: 35708433  on 16677  degrees of freedom\n",
       "AIC: 175917\n",
       "\n",
       "Number of Fisher Scoring iterations: 2\n"
      ]
     },
     "metadata": {},
     "output_type": "display_data"
    }
   ],
   "source": [
    "summary(lm_flights_booked2)"
   ]
  },
  {
   "cell_type": "code",
   "execution_count": null,
   "id": "464d84e0-1cee-48ca-897b-89e9f048873d",
   "metadata": {},
   "outputs": [],
   "source": []
  },
  {
   "cell_type": "markdown",
   "id": "7d482cba-e159-4e36-bc12-6b36dca4d620",
   "metadata": {},
   "source": [
    "## Fitting a Linear Model to predict CLV"
   ]
  },
  {
   "cell_type": "code",
   "execution_count": 112,
   "id": "b80e0789-3af6-48e9-8319-48cc8b736862",
   "metadata": {},
   "outputs": [
    {
     "data": {
      "text/plain": [
       "\n",
       "Call:\n",
       "lm(formula = CLV ~ . - TotalFlights - TotalSoloFlights - TotalCompanionFlights - \n",
       "    TotalDistance - TotalPointsAccumulated - TotalPointsRedeemed - \n",
       "    TotalDollarCostPointsRedeemed, data = data)\n",
       "\n",
       "Residuals:\n",
       "   Min     1Q Median     3Q    Max \n",
       " -7002  -3936  -2057   1062  76006 \n",
       "\n",
       "Coefficients: (10 not defined because of singularities)\n",
       "                                Estimate Std. Error t value Pr(>|t|)    \n",
       "(Intercept)                    1.088e+04  6.962e+02  15.620  < 2e-16 ***\n",
       "Customer                       1.453e-05  2.004e-04   0.072 0.942222    \n",
       "ProvinceBritish Columbia       1.580e+03  5.729e+02   2.758 0.005822 ** \n",
       "ProvinceManitoba               7.440e+02  5.650e+02   1.317 0.187906    \n",
       "ProvinceNew Brunswick          7.451e+02  6.811e+02   1.094 0.273984    \n",
       "ProvinceNewfoundland           8.166e+02  6.521e+02   1.252 0.210475    \n",
       "ProvinceNova Scotia            6.773e+02  5.812e+02   1.165 0.243875    \n",
       "ProvinceOntario                6.299e+02  5.861e+02   1.075 0.282472    \n",
       "ProvincePrince Edward Island   5.811e+02  9.651e+02   0.602 0.547102    \n",
       "ProvinceQuebec                 5.256e+02  6.032e+02   0.871 0.383565    \n",
       "ProvinceSaskatchewan           7.532e+02  6.006e+02   1.254 0.209865    \n",
       "ProvinceYukon                 -2.632e+02  8.122e+02  -0.324 0.745874    \n",
       "CityCalgary                    6.819e+02  6.972e+02   0.978 0.328033    \n",
       "CityCharlottetown                     NA         NA      NA       NA    \n",
       "CityDawson Creek              -8.968e+02  4.226e+02  -2.122 0.033832 *  \n",
       "CityEdmonton                   4.429e+02  5.860e+02   0.756 0.449857    \n",
       "CityFredericton                3.061e+02  5.645e+02   0.542 0.587615    \n",
       "CityHalifax                           NA         NA      NA       NA    \n",
       "CityHull                       2.327e+02  4.884e+02   0.476 0.633742    \n",
       "CityKelowna                   -1.373e+02  7.669e+02  -0.179 0.857901    \n",
       "CityKingston                   8.454e+00  4.521e+02   0.019 0.985081    \n",
       "CityLondon                    -9.827e+01  5.922e+02  -0.166 0.868208    \n",
       "CityMoncton                           NA         NA      NA       NA    \n",
       "CityMontreal                   5.491e+02  3.671e+02   1.496 0.134755    \n",
       "CityOttawa                     2.913e+01  4.252e+02   0.069 0.945388    \n",
       "CityPeace River                2.592e+02  8.056e+02   0.322 0.747649    \n",
       "CityQuebec City                1.375e+02  4.534e+02   0.303 0.761755    \n",
       "CityRegina                            NA         NA      NA       NA    \n",
       "CitySt. John's                        NA         NA      NA       NA    \n",
       "CitySudbury                    4.050e+02  5.389e+02   0.752 0.452339    \n",
       "CityThunder Bay                6.603e+02  5.175e+02   1.276 0.202017    \n",
       "CityToronto                   -7.799e+01  3.254e+02  -0.240 0.810554    \n",
       "CityTremblant                         NA         NA      NA       NA    \n",
       "CityTrenton                           NA         NA      NA       NA    \n",
       "CityVancouver                 -1.006e+03  3.075e+02  -3.270 0.001078 ** \n",
       "CityVictoria                  -6.740e+02  4.391e+02  -1.535 0.124841    \n",
       "CityWest Vancouver            -1.518e+03  4.649e+02  -3.265 0.001095 ** \n",
       "CityWhistler                          NA         NA      NA       NA    \n",
       "CityWhitehorse                        NA         NA      NA       NA    \n",
       "CityWinnipeg                          NA         NA      NA       NA    \n",
       "GenderMale                     1.775e+01  1.037e+02   0.171 0.864086    \n",
       "EducationCollege              -8.504e+02  2.271e+02  -3.744 0.000182 ***\n",
       "EducationDoctor                3.800e+02  3.732e+02   1.018 0.308523    \n",
       "EducationHigh School or Below -3.438e+02  2.504e+02  -1.373 0.169764    \n",
       "EducationMaster               -3.058e+02  3.172e+02  -0.964 0.335015    \n",
       "Salary                        -6.058e-03  2.558e-03  -2.368 0.017876 *  \n",
       "MaritalStatusMarried          -2.407e+02  1.511e+02  -1.593 0.111187    \n",
       "MaritalStatusSingle           -3.056e+02  1.752e+02  -1.744 0.081111 .  \n",
       "LoyaltyCardNova               -2.625e+03  1.451e+02 -18.095  < 2e-16 ***\n",
       "LoyaltyCardStar               -3.911e+03  1.383e+02 -28.287  < 2e-16 ***\n",
       "EnrollmentTypeStandard        -5.249e+01  2.976e+02  -0.176 0.860026    \n",
       "EnrollmentYear2013             4.236e+01  2.177e+02   0.195 0.845711    \n",
       "EnrollmentYear2014            -1.656e+02  2.181e+02  -0.759 0.447576    \n",
       "EnrollmentYear2015             2.047e+02  2.190e+02   0.934 0.350064    \n",
       "EnrollmentYear2016            -1.391e+00  2.167e+02  -0.006 0.994878    \n",
       "EnrollmentYear2017            -2.089e+02  2.160e+02  -0.967 0.333555    \n",
       "EnrollmentYear2018            -9.758e+00  2.217e+02  -0.044 0.964896    \n",
       "EnrollmentMonth2              -1.678e+02  2.810e+02  -0.597 0.550381    \n",
       "EnrollmentMonth3              -2.229e+02  2.743e+02  -0.813 0.416468    \n",
       "EnrollmentMonth4              -1.193e+02  2.733e+02  -0.436 0.662584    \n",
       "EnrollmentMonth5              -3.042e+01  2.613e+02  -0.116 0.907330    \n",
       "EnrollmentMonth6               8.553e+01  2.652e+02   0.323 0.747044    \n",
       "EnrollmentMonth7              -1.106e+02  2.627e+02  -0.421 0.673758    \n",
       "EnrollmentMonth8              -1.352e+02  2.645e+02  -0.511 0.609254    \n",
       "EnrollmentMonth9              -2.732e+02  2.662e+02  -1.026 0.304724    \n",
       "EnrollmentMonth10             -1.063e+02  2.638e+02  -0.403 0.686806    \n",
       "EnrollmentMonth11              4.696e+01  2.636e+02   0.178 0.858606    \n",
       "EnrollmentMonth12              4.357e+01  2.622e+02   0.166 0.868007    \n",
       "CanceledTRUE                   1.012e+02  1.604e+02   0.631 0.528156    \n",
       "---\n",
       "Signif. codes:  0 ‘***’ 0.001 ‘**’ 0.01 ‘*’ 0.05 ‘.’ 0.1 ‘ ’ 1\n",
       "\n",
       "Residual standard error: 6698 on 16678 degrees of freedom\n",
       "Multiple R-squared:  0.05026,\tAdjusted R-squared:  0.04695 \n",
       "F-statistic: 15.22 on 58 and 16678 DF,  p-value: < 2.2e-16\n"
      ]
     },
     "metadata": {},
     "output_type": "display_data"
    }
   ],
   "source": [
    "lm_CLV <- lm(CLV ~ . -TotalFlights -TotalSoloFlights -TotalCompanionFlights -TotalDistance -TotalPointsAccumulated \n",
    "             -TotalPointsRedeemed -TotalDollarCostPointsRedeemed, data = data)\n",
    "summary(lm_CLV)"
   ]
  },
  {
   "cell_type": "code",
   "execution_count": 113,
   "id": "ed404f87-16ab-4f68-8ef9-69cd4bedbf9c",
   "metadata": {},
   "outputs": [
    {
     "name": "stdout",
     "output_type": "stream",
     "text": [
      "Start:  AIC=294950.1\n",
      "CLV ~ (Customer + Province + City + Gender + Education + Salary + \n",
      "    MaritalStatus + LoyaltyCard + EnrollmentType + EnrollmentYear + \n",
      "    EnrollmentMonth + TotalSoloFlights + TotalCompanionFlights + \n",
      "    TotalFlights + TotalDistance + TotalPointsAccumulated + TotalPointsRedeemed + \n",
      "    TotalDollarCostPointsRedeemed + Canceled) - TotalFlights - \n",
      "    TotalSoloFlights - TotalCompanionFlights - TotalDistance - \n",
      "    TotalPointsAccumulated - TotalPointsRedeemed - TotalDollarCostPointsRedeemed\n",
      "\n",
      "\n",
      "Step:  AIC=294950.1\n",
      "CLV ~ Customer + City + Gender + Education + Salary + MaritalStatus + \n",
      "    LoyaltyCard + EnrollmentType + EnrollmentYear + EnrollmentMonth + \n",
      "    Canceled\n",
      "\n",
      "                  Df  Sum of Sq        RSS    AIC\n",
      "- City            28 1.4861e+09 7.4971e+11 294927\n",
      "- EnrollmentMonth 11 1.8249e+08 7.4840e+11 294932\n",
      "- EnrollmentYear   6 2.6681e+08 7.4849e+11 294944\n",
      "- Customer         1 2.3567e+05 7.4822e+11 294948\n",
      "- Gender           1 1.3146e+06 7.4822e+11 294948\n",
      "- EnrollmentType   1 1.3951e+06 7.4822e+11 294948\n",
      "- Canceled         1 1.7853e+07 7.4824e+11 294949\n",
      "- MaritalStatus    2 1.5002e+08 7.4837e+11 294949\n",
      "<none>                          7.4822e+11 294950\n",
      "- Salary           1 2.5165e+08 7.4847e+11 294954\n",
      "- Education        4 7.8567e+08 7.4901e+11 294960\n",
      "- LoyaltyCard      2 3.5912e+10 7.8413e+11 295731\n",
      "\n",
      "Step:  AIC=294927.3\n",
      "CLV ~ Customer + Gender + Education + Salary + MaritalStatus + \n",
      "    LoyaltyCard + EnrollmentType + EnrollmentYear + EnrollmentMonth + \n",
      "    Canceled\n",
      "\n",
      "                  Df  Sum of Sq        RSS    AIC\n",
      "- EnrollmentMonth 11 1.6892e+08 7.4988e+11 294909\n",
      "- EnrollmentYear   6 2.5352e+08 7.4996e+11 294921\n",
      "- Customer         1 5.8250e+04 7.4971e+11 294925\n",
      "- Gender           1 1.2557e+06 7.4971e+11 294925\n",
      "- EnrollmentType   1 1.5831e+06 7.4971e+11 294925\n",
      "- Canceled         1 1.8002e+07 7.4973e+11 294926\n",
      "- MaritalStatus    2 1.5088e+08 7.4986e+11 294927\n",
      "<none>                          7.4971e+11 294927\n",
      "- Salary           1 2.4671e+08 7.4996e+11 294931\n",
      "- Education        4 7.6296e+08 7.5047e+11 294936\n",
      "- LoyaltyCard      2 3.5811e+10 7.8552e+11 295704\n",
      "\n",
      "Step:  AIC=294909.1\n",
      "CLV ~ Customer + Gender + Education + Salary + MaritalStatus + \n",
      "    LoyaltyCard + EnrollmentType + EnrollmentYear + Canceled\n",
      "\n",
      "                 Df  Sum of Sq        RSS    AIC\n",
      "- EnrollmentYear  6 2.6517e+08 7.5014e+11 294903\n",
      "- Customer        1 1.3391e+05 7.4988e+11 294907\n",
      "- Gender          1 1.0963e+06 7.4988e+11 294907\n",
      "- EnrollmentType  1 2.5968e+06 7.4988e+11 294907\n",
      "- Canceled        1 1.9355e+07 7.4990e+11 294908\n",
      "- MaritalStatus   2 1.5158e+08 7.5003e+11 294908\n",
      "<none>                         7.4988e+11 294909\n",
      "- Salary          1 2.5070e+08 7.5013e+11 294913\n",
      "- Education       4 7.6174e+08 7.5064e+11 294918\n",
      "- LoyaltyCard     2 3.5875e+10 7.8575e+11 295687\n",
      "\n",
      "Step:  AIC=294903\n",
      "CLV ~ Customer + Gender + Education + Salary + MaritalStatus + \n",
      "    LoyaltyCard + EnrollmentType + Canceled\n",
      "\n",
      "                 Df  Sum of Sq        RSS    AIC\n",
      "- Customer        1 1.2615e+05 7.5014e+11 294901\n",
      "- EnrollmentType  1 1.5851e+05 7.5014e+11 294901\n",
      "- Gender          1 1.1660e+06 7.5014e+11 294901\n",
      "- Canceled        1 1.7562e+07 7.5016e+11 294901\n",
      "- MaritalStatus   2 1.5125e+08 7.5029e+11 294902\n",
      "<none>                         7.5014e+11 294903\n",
      "- Salary          1 2.4994e+08 7.5039e+11 294907\n",
      "- Education       4 7.6968e+08 7.5091e+11 294912\n",
      "- LoyaltyCard     2 3.5861e+10 7.8600e+11 295681\n",
      "\n",
      "Step:  AIC=294901\n",
      "CLV ~ Gender + Education + Salary + MaritalStatus + LoyaltyCard + \n",
      "    EnrollmentType + Canceled\n",
      "\n",
      "                 Df  Sum of Sq        RSS    AIC\n",
      "- EnrollmentType  1 1.6273e+05 7.5014e+11 294899\n",
      "- Gender          1 1.1708e+06 7.5014e+11 294899\n",
      "- Canceled        1 1.7567e+07 7.5016e+11 294899\n",
      "- MaritalStatus   2 1.5137e+08 7.5029e+11 294900\n",
      "<none>                         7.5014e+11 294901\n",
      "- Salary          1 2.4994e+08 7.5039e+11 294905\n",
      "- Education       4 7.6961e+08 7.5091e+11 294910\n",
      "- LoyaltyCard     2 3.5861e+10 7.8600e+11 295679\n",
      "\n",
      "Step:  AIC=294899\n",
      "CLV ~ Gender + Education + Salary + MaritalStatus + LoyaltyCard + \n",
      "    Canceled\n",
      "\n",
      "                Df  Sum of Sq        RSS    AIC\n",
      "- Gender         1 1.1735e+06 7.5014e+11 294897\n",
      "- Canceled       1 1.7581e+07 7.5016e+11 294897\n",
      "- MaritalStatus  2 1.5130e+08 7.5029e+11 294898\n",
      "<none>                        7.5014e+11 294899\n",
      "- Salary         1 2.4984e+08 7.5039e+11 294903\n",
      "- Education      4 7.6984e+08 7.5091e+11 294908\n",
      "- LoyaltyCard    2 3.5862e+10 7.8600e+11 295677\n",
      "\n",
      "Step:  AIC=294897\n",
      "CLV ~ Education + Salary + MaritalStatus + LoyaltyCard + Canceled\n",
      "\n",
      "                Df  Sum of Sq        RSS    AIC\n",
      "- Canceled       1 1.7528e+07 7.5016e+11 294895\n",
      "- MaritalStatus  2 1.5140e+08 7.5030e+11 294896\n",
      "<none>                        7.5014e+11 294897\n",
      "- Salary         1 2.4975e+08 7.5039e+11 294901\n",
      "- Education      4 7.6944e+08 7.5091e+11 294906\n",
      "- LoyaltyCard    2 3.5862e+10 7.8601e+11 295675\n",
      "\n",
      "Step:  AIC=294895.4\n",
      "CLV ~ Education + Salary + MaritalStatus + LoyaltyCard\n",
      "\n",
      "                Df  Sum of Sq        RSS    AIC\n",
      "- MaritalStatus  2 1.5035e+08 7.5031e+11 294895\n",
      "<none>                        7.5016e+11 294895\n",
      "- Salary         1 2.5067e+08 7.5041e+11 294899\n",
      "- Education      4 7.6970e+08 7.5093e+11 294905\n",
      "- LoyaltyCard    2 3.5894e+10 7.8606e+11 295674\n",
      "\n",
      "Step:  AIC=294894.8\n",
      "CLV ~ Education + Salary + LoyaltyCard\n",
      "\n",
      "              Df  Sum of Sq        RSS    AIC\n",
      "<none>                      7.5031e+11 294895\n",
      "- Salary       1 2.4732e+08 7.5056e+11 294898\n",
      "- Education    4 8.6403e+08 7.5118e+11 294906\n",
      "- LoyaltyCard  2 3.5921e+10 7.8623e+11 295673\n"
     ]
    },
    {
     "data": {
      "text/plain": [
       "\n",
       "Call:\n",
       "lm(formula = CLV ~ Education + Salary + LoyaltyCard, data = data)\n",
       "\n",
       "Coefficients:\n",
       "                  (Intercept)               EducationCollege  \n",
       "                    1.124e+04                     -8.779e+02  \n",
       "              EducationDoctor  EducationHigh School or Below  \n",
       "                    4.120e+02                     -3.487e+02  \n",
       "              EducationMaster                         Salary  \n",
       "                   -2.642e+02                     -5.991e-03  \n",
       "              LoyaltyCardNova                LoyaltyCardStar  \n",
       "                   -2.626e+03                     -3.903e+03  \n"
      ]
     },
     "metadata": {},
     "output_type": "display_data"
    }
   ],
   "source": [
    "stepAIC(lm_CLV)"
   ]
  },
  {
   "cell_type": "code",
   "execution_count": 114,
   "id": "03cb6558-a041-42b8-8b58-87ba95e69017",
   "metadata": {},
   "outputs": [
    {
     "data": {
      "text/plain": [
       "\n",
       "Call:\n",
       "lm(formula = CLV ~ Education + Salary + LoyaltyCard, data = data)\n",
       "\n",
       "Residuals:\n",
       "   Min     1Q Median     3Q    Max \n",
       " -6176  -4025  -2100   1086  76435 \n",
       "\n",
       "Coefficients:\n",
       "                                Estimate Std. Error t value Pr(>|t|)    \n",
       "(Intercept)                    1.124e+04  2.214e+02  50.784  < 2e-16 ***\n",
       "EducationCollege              -8.779e+02  2.217e+02  -3.961  7.5e-05 ***\n",
       "EducationDoctor                4.120e+02  3.724e+02   1.106   0.2687    \n",
       "EducationHigh School or Below -3.487e+02  2.501e+02  -1.394   0.1633    \n",
       "EducationMaster               -2.642e+02  3.148e+02  -0.839   0.4013    \n",
       "Salary                        -5.991e-03  2.551e-03  -2.348   0.0189 *  \n",
       "LoyaltyCardNova               -2.626e+03  1.449e+02 -18.120  < 2e-16 ***\n",
       "LoyaltyCardStar               -3.903e+03  1.379e+02 -28.295  < 2e-16 ***\n",
       "---\n",
       "Signif. codes:  0 ‘***’ 0.001 ‘**’ 0.01 ‘*’ 0.05 ‘.’ 0.1 ‘ ’ 1\n",
       "\n",
       "Residual standard error: 6697 on 16729 degrees of freedom\n",
       "Multiple R-squared:  0.0476,\tAdjusted R-squared:  0.04721 \n",
       "F-statistic: 119.5 on 7 and 16729 DF,  p-value: < 2.2e-16\n"
      ]
     },
     "metadata": {},
     "output_type": "display_data"
    }
   ],
   "source": [
    "lm_CLV <- lm(CLV ~ Education + Salary + LoyaltyCard, data = data)\n",
    "summary(lm_CLV)"
   ]
  },
  {
   "cell_type": "markdown",
   "id": "94761771-0195-4c14-88dc-b23f79f5eb82",
   "metadata": {},
   "source": [
    "**Conclusion:** CLV is harder to predict than TotalFlights, and both models still have pretty low R-squares.\n",
    "Let's pick the best model for TotalFlights and make some predictions on testing data.\n"
   ]
  },
  {
   "cell_type": "markdown",
   "id": "988d3d97-a07f-428d-96fc-499a9260be86",
   "metadata": {},
   "source": [
    "## Training and Testing Split"
   ]
  },
  {
   "cell_type": "code",
   "execution_count": 117,
   "id": "f9c32f16-b669-47d5-9d04-9496c4ec8864",
   "metadata": {},
   "outputs": [],
   "source": [
    "# Use the \"caret\" library to split the data into training and testing sets\n",
    "#install.packages(\"caret\")\n",
    "library(caret)\n",
    "# Use an arbitrary column to sample random indices along\n",
    "trainIdx <- createDataPartition(data$TotalFlights, p=0.7, list=FALSE, times = 1)\n",
    "# Create the split\n",
    "data_train <- data[trainIdx, ]\n",
    "data_test <- data[-trainIdx, ]"
   ]
  },
  {
   "cell_type": "code",
   "execution_count": 118,
   "id": "85b000dd-f6a8-42d5-9e4f-88692ac468f4",
   "metadata": {},
   "outputs": [
    {
     "data": {
      "text/plain": [
       "\n",
       "Call:\n",
       "lm(formula = TotalFlights ~ Gender + LoyaltyCard + EnrollmentType + \n",
       "    EnrollmentYear + EnrollmentMonth + Canceled, data = data_train)\n",
       "\n",
       "Residuals:\n",
       "     Min       1Q   Median       3Q      Max \n",
       "-173.923  -30.020   -2.831   26.515  311.943 \n",
       "\n",
       "Coefficients:\n",
       "                        Estimate Std. Error t value Pr(>|t|)    \n",
       "(Intercept)             214.3138     3.3754  63.493  < 2e-16 ***\n",
       "GenderMale                1.7464     0.8455   2.066 0.038890 *  \n",
       "LoyaltyCardNova          -0.3075     1.1832  -0.260 0.794978    \n",
       "LoyaltyCardStar          -1.6505     1.1230  -1.470 0.141677    \n",
       "EnrollmentTypeStandard  -56.0371     2.4331 -23.031  < 2e-16 ***\n",
       "EnrollmentYear2013       15.6466     1.7821   8.780  < 2e-16 ***\n",
       "EnrollmentYear2014       16.5893     1.7882   9.277  < 2e-16 ***\n",
       "EnrollmentYear2015       14.9723     1.7954   8.339  < 2e-16 ***\n",
       "EnrollmentYear2016       18.5565     1.7870  10.384  < 2e-16 ***\n",
       "EnrollmentYear2017      -16.3699     1.7761  -9.217  < 2e-16 ***\n",
       "EnrollmentYear2018      -96.6904     1.8225 -53.054  < 2e-16 ***\n",
       "EnrollmentMonth2         -4.9209     2.2891  -2.150 0.031598 *  \n",
       "EnrollmentMonth3         -8.4917     2.2338  -3.802 0.000145 ***\n",
       "EnrollmentMonth4        -14.3348     2.2218  -6.452 1.15e-10 ***\n",
       "EnrollmentMonth5         -7.2885     2.1291  -3.423 0.000621 ***\n",
       "EnrollmentMonth6         -4.4650     2.1553  -2.072 0.038326 *  \n",
       "EnrollmentMonth7        -13.7470     2.1394  -6.426 1.37e-10 ***\n",
       "EnrollmentMonth8        -16.8770     2.1411  -7.883 3.49e-15 ***\n",
       "EnrollmentMonth9        -15.9532     2.1619  -7.379 1.70e-13 ***\n",
       "EnrollmentMonth10       -21.5500     2.1374 -10.082  < 2e-16 ***\n",
       "EnrollmentMonth11       -20.6580     2.1327  -9.686  < 2e-16 ***\n",
       "EnrollmentMonth12       -15.9839     2.1451  -7.451 9.90e-14 ***\n",
       "CanceledTRUE           -114.4976     1.3098 -87.414  < 2e-16 ***\n",
       "---\n",
       "Signif. codes:  0 ‘***’ 0.001 ‘**’ 0.01 ‘*’ 0.05 ‘.’ 0.1 ‘ ’ 1\n",
       "\n",
       "Residual standard error: 45.72 on 11695 degrees of freedom\n",
       "Multiple R-squared:  0.5434,\tAdjusted R-squared:  0.5426 \n",
       "F-statistic: 632.7 on 22 and 11695 DF,  p-value: < 2.2e-16\n"
      ]
     },
     "metadata": {},
     "output_type": "display_data"
    }
   ],
   "source": [
    "# Fit TotalFlights only on the Training Data\n",
    "lm_flights_booked <- lm(TotalFlights ~ Gender + LoyaltyCard + EnrollmentType + EnrollmentYear + EnrollmentMonth + Canceled, \n",
    "                        data = data_train)\n",
    "summary(lm_flights_booked)"
   ]
  },
  {
   "cell_type": "code",
   "execution_count": 124,
   "id": "f33a5ba1-5a34-4628-853e-be383bc1cacc",
   "metadata": {},
   "outputs": [],
   "source": [
    "# Predict TotalFlights on the Testing Data using a Linear Regression\n",
    "pred_flights_booked_lm = predict(lm_flights_booked, data_test)"
   ]
  },
  {
   "cell_type": "code",
   "execution_count": 126,
   "id": "00ee5a12-098b-4b5f-a1d7-81c9482d7af0",
   "metadata": {},
   "outputs": [
    {
     "data": {
      "text/html": [
       "47.5426579345441"
      ],
      "text/latex": [
       "47.5426579345441"
      ],
      "text/markdown": [
       "47.5426579345441"
      ],
      "text/plain": [
       "[1] 47.54266"
      ]
     },
     "metadata": {},
     "output_type": "display_data"
    }
   ],
   "source": [
    "# Calculate RMSE (Root-Meas-Squared-Error) of the Predictions on the Testing Data\n",
    "pred_flights_booked_RMSE_lm <- sqrt( mean( (pred_flights_booked_lm - data_test$TotalFlights)^2 ))\n",
    "pred_flights_booked_RMSE_lm"
   ]
  },
  {
   "cell_type": "code",
   "execution_count": 129,
   "id": "36f3fc18-d39f-4bbc-930f-fb1b5e212885",
   "metadata": {},
   "outputs": [
    {
     "name": "stdout",
     "output_type": "stream",
     "text": [
      "\n",
      "The downloaded binary packages are in\n",
      "\t/var/folders/79/sn_3wkl17n9301jf21vk47zw0000gn/T//Rtmp8hhyUp/downloaded_packages\n"
     ]
    }
   ],
   "source": []
  },
  {
   "cell_type": "code",
   "execution_count": 131,
   "id": "4e684bc4-fbfe-4d9d-a4df-1e52e3deb91c",
   "metadata": {},
   "outputs": [
    {
     "data": {
      "text/plain": [
       "                Length Class  Mode     \n",
       "call                3  -none- call     \n",
       "type                1  -none- character\n",
       "predicted       11718  -none- numeric  \n",
       "mse               500  -none- numeric  \n",
       "rsq               500  -none- numeric  \n",
       "oob.times       11718  -none- numeric  \n",
       "importance         13  -none- numeric  \n",
       "importanceSD        0  -none- NULL     \n",
       "localImportance     0  -none- NULL     \n",
       "proximity           0  -none- NULL     \n",
       "ntree               1  -none- numeric  \n",
       "mtry                1  -none- numeric  \n",
       "forest             11  -none- list     \n",
       "coefs               0  -none- NULL     \n",
       "y               11718  -none- numeric  \n",
       "test                0  -none- NULL     \n",
       "inbag               0  -none- NULL     \n",
       "terms               3  terms  call     "
      ]
     },
     "metadata": {},
     "output_type": "display_data"
    }
   ],
   "source": [
    "# Predict TotalFlights on the Testing Data using a RandomForest\n",
    "# install.packages('randomForest')\n",
    "library(randomForest)\n",
    "rf_flights_booked <- randomForest(TotalFlights ~ . -TotalSoloFlights -TotalCompanionFlights -TotalDistance -TotalPointsAccumulated \n",
    "                                  -TotalPointsRedeemed -TotalDollarCostPointsRedeemed, data = data_train)\n",
    "summary(rf_flights_booked)"
   ]
  },
  {
   "cell_type": "code",
   "execution_count": 132,
   "id": "0151b050-5b45-4a54-b2d6-b372b2c15b4c",
   "metadata": {},
   "outputs": [
    {
     "data": {
      "text/html": [
       "44.653977059845"
      ],
      "text/latex": [
       "44.653977059845"
      ],
      "text/markdown": [
       "44.653977059845"
      ],
      "text/plain": [
       "[1] 44.65398"
      ]
     },
     "metadata": {},
     "output_type": "display_data"
    }
   ],
   "source": [
    "pred_flights_booked_rf = predict(rf_flights_booked, data_test)\n",
    "pred_flights_booked_RMSE_rf <- sqrt( mean( (pred_flights_booked_rf - data_test$TotalFlights)^2 ))\n",
    "pred_flights_booked_RMSE_rf"
   ]
  },
  {
   "cell_type": "markdown",
   "id": "052c8ffd-8a50-49c8-a8ea-d2200de27385",
   "metadata": {},
   "source": [
    "**Conclusion:** RandomForest is better than Linear Regression."
   ]
  },
  {
   "cell_type": "markdown",
   "id": "1b41c0e7-b36a-4fa3-9274-66683596434e",
   "metadata": {},
   "source": [
    "# Predicting if a customer will cancel in 2018\n",
    "\n",
    "- First I will remove all data from customers who canceled before 2018.\n",
    "- Then I will remove all flight booking data from 2018.\n",
    "- Using loyalty data starting from 2012, and flight booking data from only 2017, I will predict if the customer will cancel their membership in 2018."
   ]
  },
  {
   "cell_type": "markdown",
   "id": "2e67d0a7-304c-49eb-b383-11c963cee5c6",
   "metadata": {},
   "source": [
    "## Data Preparation"
   ]
  },
  {
   "cell_type": "markdown",
   "id": "273c7790-3ef1-4c7e-8c67-a72d3d718f73",
   "metadata": {},
   "source": [
    "First we repeat most of the data preparation from above, but now we specifically want to know if they canceled in 2018, based on data from before 2018."
   ]
  },
  {
   "cell_type": "code",
   "execution_count": 47,
   "id": "3d04566b-0999-4384-b6b7-a88cedd623d3",
   "metadata": {},
   "outputs": [],
   "source": [
    "# Start fresh by reading the original data\n",
    "flights <- read.csv('../Data/CustomerFlightActivity.csv', header=TRUE)\n",
    "loyalty <- read.csv('../Data/CustomerLoyaltyHistory.csv', header=TRUE)\n",
    "\n",
    "# Remove the \".\" from all column names\n",
    "colnames(flights) <- c(\"LoyaltyNumber\", \"Year\", \"Month\", \"FlightsBooked\",\"FlightsWithCompanions\",\"TotalFlights\",\"Distance\",\"PointsAccumulated\",\"PointsRedeemed\",\"DollarCostPointsRedeemed\")\n",
    "colnames(loyalty) <- c(\"LoyaltyNumber\",\"Country\",\"Province\",\"City\",\"PostalCode\",\"Gender\",\"Education\",\"Salary\",\"MaritalStatus\",\"LoyaltyCard\",\"CLV\",\"EnrollmentType\",\"EnrollmentYear\",\"EnrollmentMonth\",\"CancellationYear\",\"CancellationMonth\")"
   ]
  },
  {
   "cell_type": "code",
   "execution_count": 48,
   "id": "6e787010-3680-485b-b7d4-c87271e75c37",
   "metadata": {},
   "outputs": [],
   "source": [
    "# Remove 2018 Flights Data\n",
    "flights <- flights[which(flights$Year == 2017) , ]\n",
    "\n",
    "# Remove Loyalty Data from people who canceled before 2018\n",
    "# First set all NAs to \"9999\"\n",
    "loyalty$CancellationYear[which(is.na(loyalty$CancellationYear))] = 9999\n",
    "# Then only keep data for which CancellationYear is 2018 or higher\n",
    "loyalty <- loyalty[which(loyalty$CancellationYear > 2017), ]"
   ]
  },
  {
   "cell_type": "code",
   "execution_count": 49,
   "id": "c32f1a1b-3088-4a17-8c45-f47ac8f4c2e9",
   "metadata": {},
   "outputs": [],
   "source": [
    "# Join the data with SQL\n",
    "library(sqldf)\n",
    "data_tmp <- sqldf('\n",
    "SELECT \n",
    "  loyalty.LoyaltyNumber as Customer,\n",
    "  loyalty.Province as Province,\n",
    "  loyalty.City as City,\n",
    "  loyalty.Gender as Gender,\n",
    "  loyalty.Education as Education,\n",
    "  loyalty.Salary as Salary,\n",
    "  loyalty.MaritalStatus as MaritalStatus,\n",
    "  loyalty.LoyaltyCard as LoyaltyCard,\n",
    "  loyalty.CLV as CLV,\n",
    "  loyalty.EnrollmentType as EnrollmentType,\n",
    "  loyalty.EnrollmentYear as EnrollmentYear,\n",
    "  loyalty.EnrollmentMonth as EnrollmentMonth,\n",
    "  loyalty.CancellationYear as CancellationYear,\n",
    "  loyalty.CancellationMonth as CancellationMonth,\n",
    "  SUM(flights.FlightsBooked) as TotalSoloFlights,\n",
    "  SUM(flights.FlightsWithCompanions) as TotalCompanionFlights,\n",
    "  SUM(flights.TotalFlights) as TotalFlights,\n",
    "  SUM(flights.Distance) as TotalDistance,\n",
    "  SUM(flights.PointsAccumulated) as TotalPointsAccumulated,\n",
    "  SUM(flights.PointsRedeemed) as TotalPointsRedeemed,\n",
    "  SUM(flights.DollarCostPointsRedeemed) as TotalDollarCostPointsRedeemed\n",
    "FROM \n",
    "  flights\n",
    "INNER JOIN \n",
    "  loyalty\n",
    "ON \n",
    "  loyalty.LoyaltyNumber = flights.LoyaltyNumber\n",
    "GROUP BY\n",
    "  Customer\n",
    ";')"
   ]
  },
  {
   "cell_type": "code",
   "execution_count": 50,
   "id": "caeaab6f-65a2-41a2-8f3d-7557541d66ec",
   "metadata": {},
   "outputs": [],
   "source": [
    "# Add a \"Canceled2018\" column \n",
    "data_tmp$Canceled2018 = as.integer(data_tmp$CancellationYear == 2018)\n",
    "# Now we can remove the CancellationYear and CancellationMonth columns (columns 13, 14)\n",
    "data <- data_tmp[,-c(13,14)]"
   ]
  },
  {
   "cell_type": "code",
   "execution_count": null,
   "id": "6fb19e06-efbb-4ca8-bb44-a440b4b2bf3b",
   "metadata": {},
   "outputs": [],
   "source": [
    "# Remove remaining NAs\n",
    "data <- na.omit(data)\n",
    "# Remove negative Salary \n",
    "data <- data[which(data$Salary > 0), ]"
   ]
  },
  {
   "cell_type": "code",
   "execution_count": 53,
   "id": "564ac9ea-4052-4854-9e7e-1f4c75b2b965",
   "metadata": {},
   "outputs": [],
   "source": [
    "# Converting most categorical data to factors\n",
    "data$Gender <- as.factor(data$Gender)\n",
    "data$Education <- as.factor(data$Education)\n",
    "data$MaritalStatus <- as.factor(data$MaritalStatus)\n",
    "data$LoyaltyCard <- as.factor(data$LoyaltyCard)\n",
    "data$EnrollmentType <- as.factor(data$EnrollmentType)\n",
    "data$EnrollmentYear <- as.factor(data$EnrollmentYear)\n",
    "data$EnrollmentMonth <- as.factor(data$EnrollmentMonth)"
   ]
  },
  {
   "cell_type": "code",
   "execution_count": 51,
   "id": "0a545377-941f-4a60-9170-d1b1a27c39f5",
   "metadata": {},
   "outputs": [
    {
     "data": {
      "text/plain": [
       "\n",
       "         0          1 \n",
       "0.95788443 0.04211557 "
      ]
     },
     "metadata": {},
     "output_type": "display_data"
    }
   ],
   "source": [
    "prop.table(table(data$Canceled2018))"
   ]
  },
  {
   "cell_type": "markdown",
   "id": "da9e5bba-2df4-40da-9b32-fdefceaca0d9",
   "metadata": {},
   "source": [
    "We see that we have imbalanced data (only 4% of customers canceled in 2018). Tree-based models are best suited for handling this, and are also a good choice for data containing a lot of categorical features, like we have in our loyalty data. "
   ]
  },
  {
   "cell_type": "code",
   "execution_count": 52,
   "id": "f40ce755-d5c1-4a1a-8d73-afd246a31ef5",
   "metadata": {},
   "outputs": [
    {
     "name": "stdout",
     "output_type": "stream",
     "text": [
      "'data.frame':\t15315 obs. of  20 variables:\n",
      " $ Customer                     : int  100018 100102 100140 100214 100272 100301 100364 100380 100428 100504 ...\n",
      " $ Province                     : chr  \"Alberta\" \"Ontario\" \"British Columbia\" \"British Columbia\" ...\n",
      " $ City                         : chr  \"Edmonton\" \"Toronto\" \"Dawson Creek\" \"Vancouver\" ...\n",
      " $ Gender                       : chr  \"Female\" \"Male\" \"Female\" \"Male\" ...\n",
      " $ Education                    : chr  \"Bachelor\" \"College\" \"College\" \"Bachelor\" ...\n",
      " $ Salary                       : num  92552 0 0 63253 91163 ...\n",
      " $ MaritalStatus                : chr  \"Married\" \"Single\" \"Divorced\" \"Married\" ...\n",
      " $ LoyaltyCard                  : chr  \"Aurora\" \"Nova\" \"Nova\" \"Star\" ...\n",
      " $ CLV                          : num  7919 2888 2838 4171 6622 ...\n",
      " $ EnrollmentType               : chr  \"Standard\" \"Standard\" \"Standard\" \"Standard\" ...\n",
      " $ EnrollmentYear               : int  2016 2013 2016 2015 2014 2013 2015 2012 2012 2017 ...\n",
      " $ EnrollmentMonth              : int  8 3 7 8 1 9 5 10 8 7 ...\n",
      " $ TotalSoloFlights             : int  81 83 72 37 66 104 71 59 43 44 ...\n",
      " $ TotalCompanionFlights        : int  16 18 18 3 19 26 18 23 8 4 ...\n",
      " $ TotalFlights                 : int  97 101 90 40 85 130 89 82 51 48 ...\n",
      " $ TotalDistance                : int  26663 16933 24681 15259 22711 28633 20507 20349 12339 8611 ...\n",
      " $ TotalPointsAccumulated       : num  2664 1691 2466 1523 2268 ...\n",
      " $ TotalPointsRedeemed          : int  1128 1195 0 861 393 0 559 1142 828 0 ...\n",
      " $ TotalDollarCostPointsRedeemed: int  92 96 0 70 32 0 45 92 67 0 ...\n",
      " $ Canceled2018                 : num  0 0 0 0 0 0 0 0 0 1 ...\n"
     ]
    }
   ],
   "source": [
    "str(data)"
   ]
  },
  {
   "cell_type": "markdown",
   "id": "b124075a-6ec7-4279-8e4d-84c6484fcc79",
   "metadata": {},
   "source": [
    "## Training and Testing Split"
   ]
  },
  {
   "cell_type": "code",
   "execution_count": 76,
   "id": "19899442-fb7b-4969-b1e2-397b9256ff45",
   "metadata": {},
   "outputs": [],
   "source": [
    "library('Matrix')\n",
    "data_mat = sparse.model.matrix(Canceled2018 ~ . -Canceled2018, data=data )"
   ]
  },
  {
   "cell_type": "code",
   "execution_count": 78,
   "id": "833c95d2-3c18-4fad-82cd-22a1c3645766",
   "metadata": {},
   "outputs": [],
   "source": [
    "# Features need to be in matrix form\n",
    "x = data_mat\n",
    "# Dependent variable that we try to predict is Canceled2018\n",
    "y = as.matrix( data[ , c(\"Canceled2018\")] )"
   ]
  },
  {
   "cell_type": "code",
   "execution_count": 79,
   "id": "b386ba1c-238a-451f-8056-8030188b5762",
   "metadata": {},
   "outputs": [
    {
     "data": {
      "text/html": [
       "645"
      ],
      "text/latex": [
       "645"
      ],
      "text/markdown": [
       "645"
      ],
      "text/plain": [
       "[1] 645"
      ]
     },
     "metadata": {},
     "output_type": "display_data"
    },
    {
     "data": {
      "text/html": [
       "15315"
      ],
      "text/latex": [
       "15315"
      ],
      "text/markdown": [
       "15315"
      ],
      "text/plain": [
       "[1] 15315"
      ]
     },
     "metadata": {},
     "output_type": "display_data"
    }
   ],
   "source": [
    "sum(y)\n",
    "length(y)"
   ]
  },
  {
   "cell_type": "code",
   "execution_count": 80,
   "id": "abe9c367-a41b-4eba-b44e-d7003723715c",
   "metadata": {},
   "outputs": [
    {
     "name": "stdout",
     "output_type": "stream",
     "text": [
      "[1] \"Training Inds len= 10721 Testing Inds len= 4594\"\n"
     ]
    }
   ],
   "source": [
    "library(caret)\n",
    "training_Inds = createDataPartition( data$Canceled2018 , p=0.7 , list=FALSE , times=1 )\n",
    "testing_Inds = seq( 1 , length(data$Canceled2018) )[ -training_Inds ]\n",
    "training_Inds = as.vector(training_Inds)\n",
    "testing_Inds = as.vector(testing_Inds)\n",
    "print( paste('Training Inds len=',length(training_Inds),\n",
    "             'Testing Inds len=',length(testing_Inds)) )"
   ]
  },
  {
   "cell_type": "code",
   "execution_count": 81,
   "id": "daddd2cd-dd47-4873-80ef-47fcf3782801",
   "metadata": {},
   "outputs": [],
   "source": [
    "xtrain = x[ training_Inds , ]\n",
    "ytrain = y[ training_Inds ]\n",
    "xtest = x[ testing_Inds , ]\n",
    "ytest = y[ testing_Inds ]"
   ]
  },
  {
   "cell_type": "code",
   "execution_count": 82,
   "id": "755a3127-cad6-48de-80b1-7031b589ec2d",
   "metadata": {},
   "outputs": [
    {
     "data": {
      "text/html": [
       "183"
      ],
      "text/latex": [
       "183"
      ],
      "text/markdown": [
       "183"
      ],
      "text/plain": [
       "[1] 183"
      ]
     },
     "metadata": {},
     "output_type": "display_data"
    },
    {
     "data": {
      "text/html": [
       "4594"
      ],
      "text/latex": [
       "4594"
      ],
      "text/markdown": [
       "4594"
      ],
      "text/plain": [
       "[1] 4594"
      ]
     },
     "metadata": {},
     "output_type": "display_data"
    }
   ],
   "source": [
    "sum(ytest)\n",
    "length(ytest)"
   ]
  },
  {
   "cell_type": "code",
   "execution_count": 83,
   "id": "f431a14e-127d-406d-9f89-ee23d041f588",
   "metadata": {},
   "outputs": [
    {
     "data": {
      "text/html": [
       "22.7441860465116"
      ],
      "text/latex": [
       "22.7441860465116"
      ],
      "text/markdown": [
       "22.7441860465116"
      ],
      "text/plain": [
       "[1] 22.74419"
      ]
     },
     "metadata": {},
     "output_type": "display_data"
    }
   ],
   "source": [
    "ratioNoCancel <- sum( data$Canceled2018 == F ) / sum( data$Canceled2018 == T )\n",
    "ratioNoCancel"
   ]
  },
  {
   "cell_type": "code",
   "execution_count": 84,
   "id": "57692321-4a9d-45a7-85ff-5f67cb6ad2f7",
   "metadata": {},
   "outputs": [
    {
     "name": "stdout",
     "output_type": "stream",
     "text": [
      "Formal class 'dgCMatrix' [package \"Matrix\"] with 6 slots\n",
      "  ..@ i       : int [1:243770] 0 1 2 3 4 5 6 7 8 9 ...\n",
      "  ..@ p       : int [1:77] 0 15315 30630 34670 35257 35848 36082 36557 41502 41561 ...\n",
      "  ..@ Dim     : int [1:2] 15315 76\n",
      "  ..@ Dimnames:List of 2\n",
      "  .. ..$ : chr [1:15315] \"1\" \"2\" \"3\" \"4\" ...\n",
      "  .. ..$ : chr [1:76] \"(Intercept)\" \"Customer\" \"ProvinceBritish Columbia\" \"ProvinceManitoba\" ...\n",
      "  ..@ x       : num [1:243770] 1 1 1 1 1 1 1 1 1 1 ...\n",
      "  ..@ factors : list()\n",
      "  ..$ assign   : int [1:76] 0 1 2 2 2 2 2 2 2 2 ...\n",
      "  ..$ contrasts:List of 9\n",
      "  .. ..$ Province       : chr \"contr.treatment\"\n",
      "  .. ..$ City           : chr \"contr.treatment\"\n",
      "  .. ..$ Gender         : chr \"contr.treatment\"\n",
      "  .. ..$ Education      : chr \"contr.treatment\"\n",
      "  .. ..$ MaritalStatus  : chr \"contr.treatment\"\n",
      "  .. ..$ LoyaltyCard    : chr \"contr.treatment\"\n",
      "  .. ..$ EnrollmentType : chr \"contr.treatment\"\n",
      "  .. ..$ EnrollmentYear : chr \"contr.treatment\"\n",
      "  .. ..$ EnrollmentMonth: chr \"contr.treatment\"\n"
     ]
    }
   ],
   "source": [
    "str(x)"
   ]
  },
  {
   "cell_type": "markdown",
   "id": "70799b5a-b987-4540-9167-5fbb1af6fbf6",
   "metadata": {},
   "source": [
    "## XGBoost model to predict \"Canceled\"\n",
    "\n",
    "Since we have mostly categorical data, it makes sense to use a tree-based model."
   ]
  },
  {
   "cell_type": "code",
   "execution_count": 66,
   "id": "cc07c3d4-4512-43a3-8e45-d6733bbbdd43",
   "metadata": {},
   "outputs": [],
   "source": [
    "library(xgboost)"
   ]
  },
  {
   "cell_type": "code",
   "execution_count": 88,
   "id": "1c7550b1-d2e7-4dbe-b824-4653cdf088f0",
   "metadata": {},
   "outputs": [
    {
     "name": "stdout",
     "output_type": "stream",
     "text": [
      "[1]\ttrain-error:0.233374 \n",
      "[2]\ttrain-error:0.167428 \n",
      "[3]\ttrain-error:0.167335 \n",
      "[4]\ttrain-error:0.187109 \n",
      "[5]\ttrain-error:0.178155 \n",
      "[6]\ttrain-error:0.154556 \n",
      "[7]\ttrain-error:0.180300 \n",
      "[8]\ttrain-error:0.166775 \n",
      "[9]\ttrain-error:0.174517 \n",
      "[10]\ttrain-error:0.173491 \n",
      "[11]\ttrain-error:0.164630 \n",
      "[12]\ttrain-error:0.166775 \n",
      "[13]\ttrain-error:0.164537 \n",
      "[14]\ttrain-error:0.164630 \n",
      "[15]\ttrain-error:0.158194 \n",
      "[16]\ttrain-error:0.158101 \n",
      "[17]\ttrain-error:0.158381 \n",
      "[18]\ttrain-error:0.157355 \n",
      "[19]\ttrain-error:0.153437 \n",
      "[20]\ttrain-error:0.149053 \n",
      "[21]\ttrain-error:0.146348 \n",
      "[22]\ttrain-error:0.149147 \n",
      "[23]\ttrain-error:0.147374 \n",
      "[24]\ttrain-error:0.145695 \n",
      "[25]\ttrain-error:0.144949 \n",
      "[26]\ttrain-error:0.146348 \n",
      "[27]\ttrain-error:0.144856 \n",
      "[28]\ttrain-error:0.144390 \n",
      "[29]\ttrain-error:0.145695 \n",
      "[30]\ttrain-error:0.144949 \n",
      "[31]\ttrain-error:0.144669 \n",
      "[32]\ttrain-error:0.142524 \n",
      "[33]\ttrain-error:0.144296 \n",
      "[34]\ttrain-error:0.145042 \n",
      "[35]\ttrain-error:0.144016 \n",
      "[36]\ttrain-error:0.143084 \n",
      "[37]\ttrain-error:0.141778 \n",
      "[38]\ttrain-error:0.142337 \n",
      "[39]\ttrain-error:0.141964 \n",
      "[40]\ttrain-error:0.141311 \n",
      "[41]\ttrain-error:0.143363 \n",
      "[42]\ttrain-error:0.143737 \n",
      "[43]\ttrain-error:0.143550 \n",
      "[44]\ttrain-error:0.144016 \n",
      "[45]\ttrain-error:0.143737 \n",
      "[46]\ttrain-error:0.144390 \n",
      "[47]\ttrain-error:0.142990 \n",
      "[48]\ttrain-error:0.141591 \n",
      "[49]\ttrain-error:0.141964 \n",
      "[50]\ttrain-error:0.141591 \n",
      "[51]\ttrain-error:0.141871 \n",
      "[52]\ttrain-error:0.142244 \n",
      "[53]\ttrain-error:0.142431 \n",
      "[54]\ttrain-error:0.143177 \n",
      "[55]\ttrain-error:0.141032 \n",
      "[56]\ttrain-error:0.140379 \n",
      "[57]\ttrain-error:0.137674 \n",
      "[58]\ttrain-error:0.137767 \n",
      "[59]\ttrain-error:0.136554 \n",
      "[60]\ttrain-error:0.137021 \n",
      "[61]\ttrain-error:0.136554 \n",
      "[62]\ttrain-error:0.137021 \n",
      "[63]\ttrain-error:0.135808 \n",
      "[64]\ttrain-error:0.133943 \n",
      "[65]\ttrain-error:0.134223 \n",
      "[66]\ttrain-error:0.133197 \n",
      "[67]\ttrain-error:0.132823 \n",
      "[68]\ttrain-error:0.132077 \n",
      "[69]\ttrain-error:0.132264 \n",
      "[70]\ttrain-error:0.131797 \n",
      "[71]\ttrain-error:0.131984 \n",
      "[72]\ttrain-error:0.131051 \n",
      "[73]\ttrain-error:0.130771 \n",
      "[74]\ttrain-error:0.130212 \n",
      "[75]\ttrain-error:0.130118 \n",
      "[76]\ttrain-error:0.130492 \n",
      "[77]\ttrain-error:0.130025 \n",
      "[78]\ttrain-error:0.130865 \n",
      "[79]\ttrain-error:0.130398 \n",
      "[80]\ttrain-error:0.130585 \n",
      "[81]\ttrain-error:0.129559 \n",
      "[82]\ttrain-error:0.128719 \n",
      "[83]\ttrain-error:0.128253 \n",
      "[84]\ttrain-error:0.128066 \n",
      "[85]\ttrain-error:0.128160 \n",
      "[86]\ttrain-error:0.127693 \n",
      "[87]\ttrain-error:0.127507 \n",
      "[88]\ttrain-error:0.127320 \n",
      "[89]\ttrain-error:0.126387 \n",
      "[90]\ttrain-error:0.126201 \n",
      "[91]\ttrain-error:0.125455 \n",
      "[92]\ttrain-error:0.124335 \n",
      "[93]\ttrain-error:0.124335 \n",
      "[94]\ttrain-error:0.124429 \n",
      "[95]\ttrain-error:0.123869 \n",
      "[96]\ttrain-error:0.123030 \n",
      "[97]\ttrain-error:0.123123 \n",
      "[98]\ttrain-error:0.122097 \n",
      "[99]\ttrain-error:0.121724 \n",
      "[100]\ttrain-error:0.120511 \n",
      "[101]\ttrain-error:0.120231 \n",
      "[102]\ttrain-error:0.119672 \n",
      "[103]\ttrain-error:0.119578 \n",
      "[104]\ttrain-error:0.118552 \n",
      "[105]\ttrain-error:0.117899 \n",
      "[106]\ttrain-error:0.116967 \n",
      "[107]\ttrain-error:0.116780 \n",
      "[108]\ttrain-error:0.116780 \n",
      "[109]\ttrain-error:0.116873 \n",
      "[110]\ttrain-error:0.117060 \n",
      "[111]\ttrain-error:0.116314 \n",
      "[112]\ttrain-error:0.115941 \n",
      "[113]\ttrain-error:0.115754 \n",
      "[114]\ttrain-error:0.116034 \n",
      "[115]\ttrain-error:0.115568 \n",
      "[116]\ttrain-error:0.115381 \n",
      "[117]\ttrain-error:0.115288 \n",
      "[118]\ttrain-error:0.115101 \n",
      "[119]\ttrain-error:0.114168 \n",
      "[120]\ttrain-error:0.114075 \n",
      "[121]\ttrain-error:0.114262 \n",
      "[122]\ttrain-error:0.114075 \n",
      "[123]\ttrain-error:0.113982 \n",
      "[124]\ttrain-error:0.114075 \n",
      "[125]\ttrain-error:0.113609 \n",
      "[126]\ttrain-error:0.113049 \n",
      "[127]\ttrain-error:0.112863 \n",
      "[128]\ttrain-error:0.112583 \n",
      "[129]\ttrain-error:0.112396 \n",
      "[130]\ttrain-error:0.112396 \n",
      "[131]\ttrain-error:0.111837 \n",
      "[132]\ttrain-error:0.110997 \n",
      "[133]\ttrain-error:0.111090 \n",
      "[134]\ttrain-error:0.110811 \n",
      "[135]\ttrain-error:0.110717 \n",
      "[136]\ttrain-error:0.110344 \n",
      "[137]\ttrain-error:0.110344 \n",
      "[138]\ttrain-error:0.110064 \n",
      "[139]\ttrain-error:0.110251 \n",
      "[140]\ttrain-error:0.110158 \n",
      "[141]\ttrain-error:0.109878 \n",
      "[142]\ttrain-error:0.109505 \n",
      "[143]\ttrain-error:0.109132 \n",
      "[144]\ttrain-error:0.109038 \n",
      "[145]\ttrain-error:0.108759 \n",
      "[146]\ttrain-error:0.108479 \n",
      "[147]\ttrain-error:0.108385 \n",
      "[148]\ttrain-error:0.108385 \n",
      "[149]\ttrain-error:0.108199 \n",
      "[150]\ttrain-error:0.108012 \n",
      "[151]\ttrain-error:0.107919 \n",
      "[152]\ttrain-error:0.107826 \n",
      "[153]\ttrain-error:0.107826 \n",
      "[154]\ttrain-error:0.107639 \n",
      "[155]\ttrain-error:0.107359 \n",
      "[156]\ttrain-error:0.107080 \n",
      "[157]\ttrain-error:0.106986 \n",
      "[158]\ttrain-error:0.106893 \n",
      "[159]\ttrain-error:0.106893 \n",
      "[160]\ttrain-error:0.106706 \n",
      "[161]\ttrain-error:0.106427 \n",
      "[162]\ttrain-error:0.106520 \n",
      "[163]\ttrain-error:0.106613 \n",
      "[164]\ttrain-error:0.106520 \n",
      "[165]\ttrain-error:0.106427 \n",
      "[166]\ttrain-error:0.106333 \n",
      "[167]\ttrain-error:0.105867 \n",
      "[168]\ttrain-error:0.105680 \n",
      "[169]\ttrain-error:0.105680 \n",
      "[170]\ttrain-error:0.105401 \n",
      "[171]\ttrain-error:0.105214 \n",
      "[172]\ttrain-error:0.105121 \n",
      "[173]\ttrain-error:0.105028 \n",
      "[174]\ttrain-error:0.104654 \n",
      "[175]\ttrain-error:0.104654 \n",
      "[176]\ttrain-error:0.104468 \n",
      "[177]\ttrain-error:0.104654 \n",
      "[178]\ttrain-error:0.104188 \n",
      "[179]\ttrain-error:0.104001 \n",
      "[180]\ttrain-error:0.103908 \n",
      "[181]\ttrain-error:0.103908 \n",
      "[182]\ttrain-error:0.103722 \n",
      "[183]\ttrain-error:0.103628 \n",
      "[184]\ttrain-error:0.103442 \n",
      "[185]\ttrain-error:0.103255 \n",
      "[186]\ttrain-error:0.103255 \n",
      "[187]\ttrain-error:0.103255 \n",
      "[188]\ttrain-error:0.103162 \n",
      "[189]\ttrain-error:0.103162 \n",
      "[190]\ttrain-error:0.103162 \n",
      "[191]\ttrain-error:0.103162 \n",
      "[192]\ttrain-error:0.103162 \n",
      "[193]\ttrain-error:0.103069 \n",
      "[194]\ttrain-error:0.103069 \n",
      "[195]\ttrain-error:0.103069 \n",
      "[196]\ttrain-error:0.102975 \n",
      "[197]\ttrain-error:0.102696 \n",
      "[198]\ttrain-error:0.102696 \n",
      "[199]\ttrain-error:0.102789 \n",
      "[200]\ttrain-error:0.102696 \n"
     ]
    }
   ],
   "source": [
    "param = list(objective = \"binary:logistic\", \n",
    "             eval_metric = \"error\", # \"error\", error is the ratio of (wrong classes/all classes)\n",
    "             scale_pos_weight = ratioNoCancel,\n",
    "             max_depth = 7,\n",
    "             eta = 0.025, \n",
    "             colsample_bytree = 0.5, \n",
    "             min_child_weight = 1)\n",
    "nrounds = 200\n",
    "xgb_canceled = xgboost(params = param, \n",
    "              data = xtrain, \n",
    "              label = ytrain, \n",
    "              nrounds = nrounds,\n",
    "              verbose = 1,\n",
    "              verbosity = 1)"
   ]
  },
  {
   "cell_type": "code",
   "execution_count": 89,
   "id": "a080da71-5324-42d0-99af-f0f9bae9dea2",
   "metadata": {},
   "outputs": [
    {
     "data": {
      "text/plain": [
       "##### xgb.Booster\n",
       "raw: 690.2 Kb \n",
       "call:\n",
       "  xgb.train(params = params, data = dtrain, nrounds = nrounds, \n",
       "    watchlist = watchlist, verbose = verbose, print_every_n = print_every_n, \n",
       "    early_stopping_rounds = early_stopping_rounds, maximize = maximize, \n",
       "    save_period = save_period, save_name = save_name, xgb_model = xgb_model, \n",
       "    callbacks = callbacks, verbosity = 1)\n",
       "params (as set within xgb.train):\n",
       "  objective = \"binary:logistic\", eval_metric = \"error\", scale_pos_weight = \"22.7441860465116\", max_depth = \"7\", eta = \"0.025\", colsample_bytree = \"0.5\", min_child_weight = \"1\", verbosity = \"1\", validate_parameters = \"TRUE\"\n",
       "xgb.attributes:\n",
       "  niter\n",
       "callbacks:\n",
       "  cb.print.evaluation(period = print_every_n)\n",
       "  cb.evaluation.log()\n",
       "# of features: 76 \n",
       "niter: 200\n",
       "nfeatures : 76 \n",
       "evaluation_log:\n",
       "    iter train_error\n",
       "       1   0.2333738\n",
       "       2   0.1674284\n",
       "---                 \n",
       "     199   0.1027889\n",
       "     200   0.1026956"
      ]
     },
     "metadata": {},
     "output_type": "display_data"
    }
   ],
   "source": [
    "xgb_canceled"
   ]
  },
  {
   "cell_type": "code",
   "execution_count": 90,
   "id": "47b29b42-7859-42ef-a05f-0afdf25772ea",
   "metadata": {},
   "outputs": [],
   "source": [
    "pred_cancel <- predict(xgb_canceled, xtest)"
   ]
  },
  {
   "cell_type": "code",
   "execution_count": 92,
   "id": "f4e0147f-d133-4e7a-a34b-baf8ab703c1a",
   "metadata": {},
   "outputs": [
    {
     "data": {
      "text/html": [
       "0.0207086410373449"
      ],
      "text/latex": [
       "0.0207086410373449"
      ],
      "text/markdown": [
       "0.0207086410373449"
      ],
      "text/plain": [
       "[1] 0.02070864"
      ]
     },
     "metadata": {},
     "output_type": "display_data"
    },
    {
     "data": {
      "text/html": [
       "0.868272066116333"
      ],
      "text/latex": [
       "0.868272066116333"
      ],
      "text/markdown": [
       "0.868272066116333"
      ],
      "text/plain": [
       "[1] 0.8682721"
      ]
     },
     "metadata": {},
     "output_type": "display_data"
    }
   ],
   "source": [
    "min(pred_cancel)\n",
    "max(pred_cancel)"
   ]
  },
  {
   "cell_type": "code",
   "execution_count": 93,
   "id": "5b6099b1-c34f-4abc-b46f-17ac6fd06081",
   "metadata": {},
   "outputs": [],
   "source": [
    "pred_cancel = ifelse( pred_cancel > 0.5 , 1 , 0 )"
   ]
  },
  {
   "cell_type": "code",
   "execution_count": 94,
   "id": "36c09811-1b16-410b-958b-5a6da076ba84",
   "metadata": {},
   "outputs": [
    {
     "data": {
      "text/html": [
       "0.137128712871287"
      ],
      "text/latex": [
       "0.137128712871287"
      ],
      "text/markdown": [
       "0.137128712871287"
      ],
      "text/plain": [
       "[1] 0.1371287"
      ]
     },
     "metadata": {},
     "output_type": "display_data"
    }
   ],
   "source": [
    "sum(pred_cancel == 1) / sum(pred_cancel == 0)"
   ]
  },
  {
   "cell_type": "code",
   "execution_count": 99,
   "id": "1996dd89-5afd-4d08-ba91-49a28a15b8d0",
   "metadata": {},
   "outputs": [
    {
     "data": {
      "text/plain": [
       "Confusion Matrix and Statistics\n",
       "\n",
       "           ytest\n",
       "pred_cancel    0    1\n",
       "          0 3926  114\n",
       "          1  485   69\n",
       "                                          \n",
       "               Accuracy : 0.8696          \n",
       "                 95% CI : (0.8595, 0.8792)\n",
       "    No Information Rate : 0.9602          \n",
       "    P-Value [Acc > NIR] : 1               \n",
       "                                          \n",
       "                  Kappa : 0.1355          \n",
       "                                          \n",
       " Mcnemar's Test P-Value : <2e-16          \n",
       "                                          \n",
       "            Sensitivity : 0.8900          \n",
       "            Specificity : 0.3770          \n",
       "         Pos Pred Value : 0.9718          \n",
       "         Neg Pred Value : 0.1245          \n",
       "             Prevalence : 0.9602          \n",
       "         Detection Rate : 0.8546          \n",
       "   Detection Prevalence : 0.8794          \n",
       "      Balanced Accuracy : 0.6335          \n",
       "                                          \n",
       "       'Positive' Class : 0               \n",
       "                                          "
      ]
     },
     "metadata": {},
     "output_type": "display_data"
    }
   ],
   "source": [
    "cmatrix_xgb <- confusionMatrix(table(pred_cancel, ytest))\n",
    "cmatrix_xgb"
   ]
  },
  {
   "cell_type": "code",
   "execution_count": 131,
   "id": "44cd4077-62fe-4ad4-97b2-66f15a5fe836",
   "metadata": {},
   "outputs": [
    {
     "name": "stderr",
     "output_type": "stream",
     "text": [
      "Setting levels: control = 0, case = 1\n",
      "\n",
      "Setting direction: controls < cases\n",
      "\n"
     ]
    },
    {
     "data": {
      "text/plain": [
       "\n",
       "Call:\n",
       "roc.default(response = ytest, predictor = pred_cancel)\n",
       "\n",
       "Data: pred_cancel in 4411 controls (ytest 0) < 183 cases (ytest 1).\n",
       "Area under the curve: 0.6335"
      ]
     },
     "metadata": {},
     "output_type": "display_data"
    }
   ],
   "source": [
    "library(pROC)\n",
    "roc_score = roc( ytest , pred_cancel ) #AUC score\n",
    "roc_score"
   ]
  },
  {
   "cell_type": "code",
   "execution_count": 135,
   "id": "43e42ca1-2a77-4146-b737-c0391dc45fb0",
   "metadata": {},
   "outputs": [
    {
     "data": {
      "text/html": [
       "<dl>\n",
       "\t<dt>$names</dt>\n",
       "\t\t<dd><style>\n",
       ".list-inline {list-style: none; margin:0; padding: 0}\n",
       ".list-inline>li {display: inline-block}\n",
       ".list-inline>li:not(:last-child)::after {content: \"\\00b7\"; padding: 0 .5ex}\n",
       "</style>\n",
       "<ol class=list-inline><li>'positive'</li><li>'table'</li><li>'overall'</li><li>'byClass'</li><li>'mode'</li><li>'dots'</li></ol>\n",
       "</dd>\n",
       "\t<dt>$class</dt>\n",
       "\t\t<dd>'confusionMatrix'</dd>\n",
       "</dl>\n"
      ],
      "text/latex": [
       "\\begin{description}\n",
       "\\item[\\$names] \\begin{enumerate*}\n",
       "\\item 'positive'\n",
       "\\item 'table'\n",
       "\\item 'overall'\n",
       "\\item 'byClass'\n",
       "\\item 'mode'\n",
       "\\item 'dots'\n",
       "\\end{enumerate*}\n",
       "\n",
       "\\item[\\$class] 'confusionMatrix'\n",
       "\\end{description}\n"
      ],
      "text/markdown": [
       "$names\n",
       ":   1. 'positive'\n",
       "2. 'table'\n",
       "3. 'overall'\n",
       "4. 'byClass'\n",
       "5. 'mode'\n",
       "6. 'dots'\n",
       "\n",
       "\n",
       "\n",
       "$class\n",
       ":   'confusionMatrix'\n",
       "\n",
       "\n"
      ],
      "text/plain": [
       "$names\n",
       "[1] \"positive\" \"table\"    \"overall\"  \"byClass\"  \"mode\"     \"dots\"    \n",
       "\n",
       "$class\n",
       "[1] \"confusionMatrix\"\n"
      ]
     },
     "metadata": {},
     "output_type": "display_data"
    }
   ],
   "source": [
    "attributes(cmatrix_xgb)\n",
    "xgb_acc <- cmatrix_xgb$overall[[1]]"
   ]
  },
  {
   "cell_type": "code",
   "execution_count": 136,
   "id": "b1d96e79-e257-40e2-89aa-dccd46c61c3f",
   "metadata": {},
   "outputs": [],
   "source": [
    "xgb_auc <- auc(roc_score)"
   ]
  },
  {
   "cell_type": "code",
   "execution_count": 137,
   "id": "9480a3c6-d4c8-409f-bbdf-785273aceb54",
   "metadata": {},
   "outputs": [],
   "source": [
    "mytitle <- paste(\"Canceled2018 Accuracy: \", format(xgb_acc, digits=4), \" AUC: \", format(xgb_auc, digits=4))"
   ]
  },
  {
   "cell_type": "code",
   "execution_count": 138,
   "id": "0ac46acf-3ee3-4b49-bcc3-3a5946daba99",
   "metadata": {},
   "outputs": [
    {
     "data": {
      "image/png": "[encoded data removed]",
      "text/plain": [
       "Plot with title “Canceled2018 Accuracy:  0.8696  AUC:  0.6335”"
      ]
     },
     "metadata": {
      "image/png": {
       "height": 420,
       "width": 420
      }
     },
     "output_type": "display_data"
    }
   ],
   "source": [
    "plot( roc_score , main = mytitle)"
   ]
  },
  {
   "cell_type": "code",
   "execution_count": null,
   "id": "47b66d3b-927e-4157-8bf0-bbbafbfea23d",
   "metadata": {},
   "outputs": [],
   "source": []
  },
  {
   "cell_type": "markdown",
   "id": "10248ab1-04d9-4e68-8929-bdbf2f77518c",
   "metadata": {},
   "source": [
    "## Binary Logistic Regression model to predict \"Canceled\"\n",
    "## DOES NOT WORK, DO DECISION TREE INSTEAD!!!"
   ]
  },
  {
   "cell_type": "code",
   "execution_count": 120,
   "id": "8e1239cc-9546-4296-82f4-a147e7c28a27",
   "metadata": {},
   "outputs": [
    {
     "name": "stdout",
     "output_type": "stream",
     "text": [
      "'data.frame':\t15315 obs. of  20 variables:\n",
      " $ Customer                     : int  100018 100102 100140 100214 100272 100301 100364 100380 100428 100504 ...\n",
      " $ Province                     : chr  \"Alberta\" \"Ontario\" \"British Columbia\" \"British Columbia\" ...\n",
      " $ City                         : chr  \"Edmonton\" \"Toronto\" \"Dawson Creek\" \"Vancouver\" ...\n",
      " $ Gender                       : Factor w/ 2 levels \"Female\",\"Male\": 1 2 1 2 1 2 2 1 2 1 ...\n",
      " $ Education                    : Factor w/ 5 levels \"Bachelor\",\"College\",..: 1 2 2 1 1 1 1 1 1 1 ...\n",
      " $ Salary                       : num  92552 0 0 63253 91163 ...\n",
      " $ MaritalStatus                : Factor w/ 3 levels \"Divorced\",\"Married\",..: 2 3 1 2 1 1 2 3 2 1 ...\n",
      " $ LoyaltyCard                  : Factor w/ 3 levels \"Aurora\",\"Nova\",..: 1 2 2 3 3 2 2 3 1 2 ...\n",
      " $ CLV                          : num  7919 2888 2838 4171 6622 ...\n",
      " $ EnrollmentType               : Factor w/ 2 levels \"2018 Promotion\",..: 2 2 2 2 2 2 2 2 2 2 ...\n",
      " $ EnrollmentYear               : Factor w/ 7 levels \"2012\",\"2013\",..: 5 2 5 4 3 2 4 1 1 6 ...\n",
      " $ EnrollmentMonth              : Factor w/ 12 levels \"1\",\"2\",\"3\",\"4\",..: 8 3 7 8 1 9 5 10 8 7 ...\n",
      " $ TotalSoloFlights             : int  81 83 72 37 66 104 71 59 43 44 ...\n",
      " $ TotalCompanionFlights        : int  16 18 18 3 19 26 18 23 8 4 ...\n",
      " $ TotalFlights                 : int  97 101 90 40 85 130 89 82 51 48 ...\n",
      " $ TotalDistance                : int  26663 16933 24681 15259 22711 28633 20507 20349 12339 8611 ...\n",
      " $ TotalPointsAccumulated       : num  2664 1691 2466 1523 2268 ...\n",
      " $ TotalPointsRedeemed          : int  1128 1195 0 861 393 0 559 1142 828 0 ...\n",
      " $ TotalDollarCostPointsRedeemed: int  92 96 0 70 32 0 45 92 67 0 ...\n",
      " $ Canceled2018                 : num  0 0 0 0 0 0 0 0 0 1 ...\n"
     ]
    }
   ],
   "source": [
    "str(data)"
   ]
  },
  {
   "cell_type": "code",
   "execution_count": 117,
   "id": "0df6bef4-93f5-4a5f-844d-b2d549019c42",
   "metadata": {},
   "outputs": [
    {
     "data": {
      "text/plain": [
       "\n",
       "Call:\n",
       "glm(formula = Canceled2018 ~ . - Customer, family = binomial(\"logit\"), \n",
       "    data = data)\n",
       "\n",
       "Coefficients: (11 not defined because of singularities)\n",
       "                                Estimate Std. Error z value Pr(>|z|)    \n",
       "(Intercept)                   -1.585e+01  2.562e+02  -0.062  0.95066    \n",
       "ProvinceBritish Columbia      -1.951e-01  4.640e-01  -0.420  0.67413    \n",
       "ProvinceManitoba               1.505e-01  4.434e-01   0.339  0.73435    \n",
       "ProvinceNew Brunswick         -4.474e-01  5.800e-01  -0.771  0.44050    \n",
       "ProvinceNewfoundland           2.695e-01  4.899e-01   0.550  0.58226    \n",
       "ProvinceNova Scotia           -3.387e-01  4.792e-01  -0.707  0.47973    \n",
       "ProvinceOntario                2.585e-02  4.594e-01   0.056  0.95512    \n",
       "ProvincePrince Edward Island   6.166e-01  6.727e-01   0.917  0.35938    \n",
       "ProvinceQuebec                 2.723e-01  4.542e-01   0.599  0.54884    \n",
       "ProvinceSaskatchewan           2.156e-01  4.576e-01   0.471  0.63751    \n",
       "ProvinceYukon                  2.193e-01  5.889e-01   0.372  0.70961    \n",
       "CityCalgary                   -1.381e-01  5.601e-01  -0.247  0.80526    \n",
       "CityCharlottetown                     NA         NA      NA       NA    \n",
       "CityDawson Creek              -4.665e-01  4.035e-01  -1.156  0.24760    \n",
       "CityEdmonton                   7.119e-02  4.590e-01   0.155  0.87675    \n",
       "CityFredericton                3.762e-01  4.965e-01   0.758  0.44855    \n",
       "CityHalifax                           NA         NA      NA       NA    \n",
       "CityHull                      -3.530e-01  3.646e-01  -0.968  0.33306    \n",
       "CityKelowna                    8.329e-02  5.793e-01   0.144  0.88567    \n",
       "CityKingston                  -6.651e-02  3.490e-01  -0.191  0.84883    \n",
       "CityLondon                    -3.010e-01  4.839e-01  -0.622  0.53396    \n",
       "CityMoncton                           NA         NA      NA       NA    \n",
       "CityMontreal                  -3.555e-01  2.486e-01  -1.430  0.15269    \n",
       "CityOttawa                    -1.962e-01  3.319e-01  -0.591  0.55436    \n",
       "CityPeace River               -4.559e-01  7.171e-01  -0.636  0.52489    \n",
       "CityQuebec City               -1.082e+00  3.912e-01  -2.766  0.00567 ** \n",
       "CityRegina                            NA         NA      NA       NA    \n",
       "CitySt. John's                        NA         NA      NA       NA    \n",
       "CitySudbury                    1.588e-01  3.847e-01   0.413  0.67980    \n",
       "CityThunder Bay               -1.403e+00  6.296e-01  -2.229  0.02581 *  \n",
       "CityToronto                   -2.123e-02  2.465e-01  -0.086  0.93137    \n",
       "CityTremblant                         NA         NA      NA       NA    \n",
       "CityTrenton                           NA         NA      NA       NA    \n",
       "CityVancouver                  1.630e-02  2.627e-01   0.062  0.95054    \n",
       "CityVictoria                   1.698e-01  3.555e-01   0.478  0.63293    \n",
       "CityWest Vancouver             1.918e-01  3.773e-01   0.508  0.61126    \n",
       "CityWhistler                          NA         NA      NA       NA    \n",
       "CityWhitehorse                        NA         NA      NA       NA    \n",
       "CityWinnipeg                          NA         NA      NA       NA    \n",
       "GenderMale                     1.028e-01  8.286e-02   1.241  0.21464    \n",
       "EducationCollege               8.176e-02  1.728e-01   0.473  0.63609    \n",
       "EducationDoctor                1.274e-01  3.063e-01   0.416  0.67751    \n",
       "EducationHigh School or Below -3.837e-01  2.335e-01  -1.644  0.10026    \n",
       "EducationMaster                3.204e-01  2.264e-01   1.415  0.15705    \n",
       "Salary                         1.854e-07  1.939e-06   0.096  0.92382    \n",
       "MaritalStatusMarried           6.438e-02  1.220e-01   0.528  0.59778    \n",
       "MaritalStatusSingle            5.558e-02  1.407e-01   0.395  0.69278    \n",
       "LoyaltyCardNova               -2.164e-02  1.138e-01  -0.190  0.84921    \n",
       "LoyaltyCardStar               -1.645e-01  1.121e-01  -1.467  0.14241    \n",
       "CLV                           -3.206e-06  6.440e-06  -0.498  0.61869    \n",
       "EnrollmentTypeStandard        -2.388e+00  2.252e-01 -10.603  < 2e-16 ***\n",
       "EnrollmentYear2013             1.613e+01  2.562e+02   0.063  0.94981    \n",
       "EnrollmentYear2014             1.635e+01  2.562e+02   0.064  0.94911    \n",
       "EnrollmentYear2015             1.621e+01  2.562e+02   0.063  0.94956    \n",
       "EnrollmentYear2016             1.624e+01  2.562e+02   0.063  0.94947    \n",
       "EnrollmentYear2017             1.703e+01  2.562e+02   0.066  0.94701    \n",
       "EnrollmentYear2018             1.487e+01  2.562e+02   0.058  0.95371    \n",
       "EnrollmentMonth2              -7.381e-01  2.261e-01  -3.264  0.00110 ** \n",
       "EnrollmentMonth3              -7.055e-01  2.185e-01  -3.229  0.00124 ** \n",
       "EnrollmentMonth4              -6.257e-01  2.168e-01  -2.887  0.00389 ** \n",
       "EnrollmentMonth5              -2.297e-01  2.071e-01  -1.109  0.26730    \n",
       "EnrollmentMonth6              -1.788e-01  2.068e-01  -0.864  0.38732    \n",
       "EnrollmentMonth7              -3.990e-01  2.124e-01  -1.879  0.06031 .  \n",
       "EnrollmentMonth8              -4.211e-01  2.147e-01  -1.961  0.04982 *  \n",
       "EnrollmentMonth9              -6.371e-01  2.245e-01  -2.838  0.00454 ** \n",
       "EnrollmentMonth10             -3.896e-01  2.111e-01  -1.845  0.06499 .  \n",
       "EnrollmentMonth11             -5.414e-01  2.190e-01  -2.472  0.01344 *  \n",
       "EnrollmentMonth12             -2.180e-01  2.045e-01  -1.066  0.28643    \n",
       "TotalSoloFlights               3.744e-03  4.297e-03   0.871  0.38361    \n",
       "TotalCompanionFlights          2.893e-03  8.328e-03   0.347  0.72828    \n",
       "TotalFlights                          NA         NA      NA       NA    \n",
       "TotalDistance                 -1.398e-02  5.911e-03  -2.365  0.01804 *  \n",
       "TotalPointsAccumulated         1.393e-01  5.915e-02   2.354  0.01856 *  \n",
       "TotalPointsRedeemed            3.515e-03  1.515e-02   0.232  0.81650    \n",
       "TotalDollarCostPointsRedeemed -4.351e-02  1.873e-01  -0.232  0.81627    \n",
       "---\n",
       "Signif. codes:  0 ‘***’ 0.001 ‘**’ 0.01 ‘*’ 0.05 ‘.’ 0.1 ‘ ’ 1\n",
       "\n",
       "(Dispersion parameter for binomial family taken to be 1)\n",
       "\n",
       "    Null deviance: 5348.3  on 15314  degrees of freedom\n",
       "Residual deviance: 4723.0  on 15251  degrees of freedom\n",
       "AIC: 4851\n",
       "\n",
       "Number of Fisher Scoring iterations: 18\n"
      ]
     },
     "metadata": {},
     "output_type": "display_data"
    }
   ],
   "source": [
    "lr_canceled = glm(Canceled2018 ~ . -Customer, data = data, family = binomial('logit'))\n",
    "summary(lr_canceled)"
   ]
  },
  {
   "cell_type": "code",
   "execution_count": 118,
   "id": "fd85335e-e08e-4c7a-8472-3ec29c7ec138",
   "metadata": {},
   "outputs": [
    {
     "name": "stdout",
     "output_type": "stream",
     "text": [
      "Start:  AIC=4850.99\n",
      "Canceled2018 ~ (Customer + Province + City + Gender + Education + \n",
      "    Salary + MaritalStatus + LoyaltyCard + CLV + EnrollmentType + \n",
      "    EnrollmentYear + EnrollmentMonth + TotalSoloFlights + TotalCompanionFlights + \n",
      "    TotalFlights + TotalDistance + TotalPointsAccumulated + TotalPointsRedeemed + \n",
      "    TotalDollarCostPointsRedeemed) - Customer\n",
      "\n",
      "\n",
      "Step:  AIC=4850.99\n",
      "Canceled2018 ~ Province + City + Gender + Education + Salary + \n",
      "    MaritalStatus + LoyaltyCard + CLV + EnrollmentType + EnrollmentYear + \n",
      "    EnrollmentMonth + TotalSoloFlights + TotalCompanionFlights + \n",
      "    TotalDistance + TotalPointsAccumulated + TotalPointsRedeemed + \n",
      "    TotalDollarCostPointsRedeemed\n",
      "\n",
      "\n",
      "Step:  AIC=4850.99\n",
      "Canceled2018 ~ City + Gender + Education + Salary + MaritalStatus + \n",
      "    LoyaltyCard + CLV + EnrollmentType + EnrollmentYear + EnrollmentMonth + \n",
      "    TotalSoloFlights + TotalCompanionFlights + TotalDistance + \n",
      "    TotalPointsAccumulated + TotalPointsRedeemed + TotalDollarCostPointsRedeemed\n",
      "\n",
      "                                Df Deviance    AIC\n",
      "- City                          28   4755.4 4827.4\n",
      "- MaritalStatus                  2   4723.3 4847.3\n",
      "- Salary                         1   4723.0 4849.0\n",
      "- TotalPointsRedeemed            1   4723.0 4849.0\n",
      "- TotalDollarCostPointsRedeemed  1   4723.0 4849.0\n",
      "- TotalCompanionFlights          1   4723.1 4849.1\n",
      "- CLV                            1   4723.2 4849.2\n",
      "- Education                      4   4729.3 4849.3\n",
      "- TotalSoloFlights               1   4723.7 4849.7\n",
      "- LoyaltyCard                    2   4726.2 4850.2\n",
      "- Gender                         1   4724.5 4850.5\n",
      "- EnrollmentMonth               11   4744.5 4850.5\n",
      "<none>                               4723.0 4851.0\n",
      "- TotalPointsAccumulated         1   4728.6 4854.6\n",
      "- TotalDistance                  1   4728.6 4854.6\n",
      "- EnrollmentType                 1   4851.9 4977.9\n",
      "- EnrollmentYear                 6   5069.2 5185.2\n",
      "\n",
      "Step:  AIC=4827.39\n",
      "Canceled2018 ~ Gender + Education + Salary + MaritalStatus + \n",
      "    LoyaltyCard + CLV + EnrollmentType + EnrollmentYear + EnrollmentMonth + \n",
      "    TotalSoloFlights + TotalCompanionFlights + TotalDistance + \n",
      "    TotalPointsAccumulated + TotalPointsRedeemed + TotalDollarCostPointsRedeemed\n",
      "\n",
      "                                Df Deviance    AIC\n",
      "- MaritalStatus                  2   4755.7 4823.7\n",
      "- Salary                         1   4755.4 4825.4\n",
      "- TotalPointsRedeemed            1   4755.4 4825.4\n",
      "- TotalDollarCostPointsRedeemed  1   4755.4 4825.4\n",
      "- TotalCompanionFlights          1   4755.5 4825.5\n",
      "- CLV                            1   4755.7 4825.7\n",
      "- Education                      4   4761.7 4825.7\n",
      "- TotalSoloFlights               1   4756.2 4826.2\n",
      "- LoyaltyCard                    2   4758.7 4826.7\n",
      "- Gender                         1   4757.1 4827.1\n",
      "- EnrollmentMonth               11   4777.1 4827.1\n",
      "<none>                               4755.4 4827.4\n",
      "- TotalPointsAccumulated         1   4761.2 4831.2\n",
      "- TotalDistance                  1   4761.2 4831.2\n",
      "- EnrollmentType                 1   4883.6 4953.6\n",
      "- EnrollmentYear                 6   5100.9 5160.9\n",
      "\n",
      "Step:  AIC=4823.7\n",
      "Canceled2018 ~ Gender + Education + Salary + LoyaltyCard + CLV + \n",
      "    EnrollmentType + EnrollmentYear + EnrollmentMonth + TotalSoloFlights + \n",
      "    TotalCompanionFlights + TotalDistance + TotalPointsAccumulated + \n",
      "    TotalPointsRedeemed + TotalDollarCostPointsRedeemed\n",
      "\n",
      "                                Df Deviance    AIC\n",
      "- Salary                         1   4755.7 4821.7\n",
      "- TotalPointsRedeemed            1   4755.8 4821.8\n",
      "- TotalDollarCostPointsRedeemed  1   4755.8 4821.8\n",
      "- TotalCompanionFlights          1   4755.8 4821.8\n",
      "- Education                      4   4762.0 4822.0\n",
      "- CLV                            1   4756.0 4822.0\n",
      "- TotalSoloFlights               1   4756.5 4822.5\n",
      "- LoyaltyCard                    2   4759.1 4823.1\n",
      "- Gender                         1   4757.4 4823.4\n",
      "- EnrollmentMonth               11   4777.4 4823.4\n",
      "<none>                               4755.7 4823.7\n",
      "- TotalPointsAccumulated         1   4761.5 4827.5\n",
      "- TotalDistance                  1   4761.5 4827.5\n",
      "- EnrollmentType                 1   4883.9 4949.9\n",
      "- EnrollmentYear                 6   5101.5 5157.5\n",
      "\n",
      "Step:  AIC=4821.7\n",
      "Canceled2018 ~ Gender + Education + LoyaltyCard + CLV + EnrollmentType + \n",
      "    EnrollmentYear + EnrollmentMonth + TotalSoloFlights + TotalCompanionFlights + \n",
      "    TotalDistance + TotalPointsAccumulated + TotalPointsRedeemed + \n",
      "    TotalDollarCostPointsRedeemed\n",
      "\n",
      "                                Df Deviance    AIC\n",
      "- TotalPointsRedeemed            1   4755.8 4819.8\n",
      "- TotalDollarCostPointsRedeemed  1   4755.8 4819.8\n",
      "- TotalCompanionFlights          1   4755.8 4819.8\n",
      "- Education                      4   4762.0 4820.0\n",
      "- CLV                            1   4756.0 4820.0\n",
      "- TotalSoloFlights               1   4756.5 4820.5\n",
      "- LoyaltyCard                    2   4759.1 4821.1\n",
      "- Gender                         1   4757.4 4821.4\n",
      "- EnrollmentMonth               11   4777.5 4821.5\n",
      "<none>                               4755.7 4821.7\n",
      "- TotalPointsAccumulated         1   4761.5 4825.5\n",
      "- TotalDistance                  1   4761.5 4825.5\n",
      "- EnrollmentType                 1   4883.9 4947.9\n",
      "- EnrollmentYear                 6   5101.5 5155.5\n",
      "\n",
      "Step:  AIC=4819.76\n",
      "Canceled2018 ~ Gender + Education + LoyaltyCard + CLV + EnrollmentType + \n",
      "    EnrollmentYear + EnrollmentMonth + TotalSoloFlights + TotalCompanionFlights + \n",
      "    TotalDistance + TotalPointsAccumulated + TotalDollarCostPointsRedeemed\n",
      "\n",
      "                                Df Deviance    AIC\n",
      "- TotalDollarCostPointsRedeemed  1   4755.8 4817.8\n",
      "- TotalCompanionFlights          1   4755.9 4817.9\n",
      "- Education                      4   4762.0 4818.0\n",
      "- CLV                            1   4756.1 4818.1\n",
      "- TotalSoloFlights               1   4756.5 4818.5\n",
      "- LoyaltyCard                    2   4759.2 4819.2\n",
      "- Gender                         1   4757.5 4819.5\n",
      "- EnrollmentMonth               11   4777.5 4819.5\n",
      "<none>                               4755.8 4819.8\n",
      "- TotalPointsAccumulated         1   4761.6 4823.6\n",
      "- TotalDistance                  1   4761.6 4823.6\n",
      "- EnrollmentType                 1   4884.0 4946.0\n",
      "- EnrollmentYear                 6   5101.6 5153.6\n",
      "\n",
      "Step:  AIC=4817.76\n",
      "Canceled2018 ~ Gender + Education + LoyaltyCard + CLV + EnrollmentType + \n",
      "    EnrollmentYear + EnrollmentMonth + TotalSoloFlights + TotalCompanionFlights + \n",
      "    TotalDistance + TotalPointsAccumulated\n",
      "\n",
      "                         Df Deviance    AIC\n",
      "- TotalCompanionFlights   1   4755.9 4815.9\n",
      "- Education               4   4762.0 4816.0\n",
      "- CLV                     1   4756.1 4816.1\n",
      "- TotalSoloFlights        1   4756.5 4816.5\n",
      "- LoyaltyCard             2   4759.2 4817.2\n",
      "- Gender                  1   4757.5 4817.5\n",
      "- EnrollmentMonth        11   4777.5 4817.5\n",
      "<none>                        4755.8 4817.8\n",
      "- TotalPointsAccumulated  1   4761.6 4821.6\n",
      "- TotalDistance           1   4761.6 4821.6\n",
      "- EnrollmentType          1   4884.0 4944.0\n",
      "- EnrollmentYear          6   5101.7 5151.7\n",
      "\n",
      "Step:  AIC=4815.88\n",
      "Canceled2018 ~ Gender + Education + LoyaltyCard + CLV + EnrollmentType + \n",
      "    EnrollmentYear + EnrollmentMonth + TotalSoloFlights + TotalDistance + \n",
      "    TotalPointsAccumulated\n",
      "\n",
      "                         Df Deviance    AIC\n",
      "- Education               4   4762.2 4814.2\n",
      "- CLV                     1   4756.2 4814.2\n",
      "- TotalSoloFlights        1   4756.8 4814.8\n",
      "- LoyaltyCard             2   4759.3 4815.3\n",
      "- Gender                  1   4757.6 4815.6\n",
      "- EnrollmentMonth        11   4777.6 4815.6\n",
      "<none>                        4755.9 4815.9\n",
      "- TotalPointsAccumulated  1   4761.7 4819.7\n",
      "- TotalDistance           1   4761.7 4819.7\n",
      "- EnrollmentType          1   4884.1 4942.1\n",
      "- EnrollmentYear          6   5101.8 5149.8\n",
      "\n",
      "Step:  AIC=4814.17\n",
      "Canceled2018 ~ Gender + LoyaltyCard + CLV + EnrollmentType + \n",
      "    EnrollmentYear + EnrollmentMonth + TotalSoloFlights + TotalDistance + \n",
      "    TotalPointsAccumulated\n",
      "\n",
      "                         Df Deviance    AIC\n",
      "- CLV                     1   4762.6 4812.6\n",
      "- TotalSoloFlights        1   4763.1 4813.1\n",
      "- LoyaltyCard             2   4765.4 4813.4\n",
      "- EnrollmentMonth        11   4783.6 4813.6\n",
      "- Gender                  1   4763.8 4813.8\n",
      "<none>                        4762.2 4814.2\n",
      "- TotalPointsAccumulated  1   4767.9 4817.9\n",
      "- TotalDistance           1   4768.0 4818.0\n",
      "- EnrollmentType          1   4888.9 4938.9\n",
      "- EnrollmentYear          6   5108.3 5148.3\n",
      "\n",
      "Step:  AIC=4812.58\n",
      "Canceled2018 ~ Gender + LoyaltyCard + EnrollmentType + EnrollmentYear + \n",
      "    EnrollmentMonth + TotalSoloFlights + TotalDistance + TotalPointsAccumulated\n",
      "\n",
      "                         Df Deviance    AIC\n",
      "- LoyaltyCard             2   4765.5 4811.5\n",
      "- TotalSoloFlights        1   4763.5 4811.5\n",
      "- EnrollmentMonth        11   4783.9 4811.9\n",
      "- Gender                  1   4764.2 4812.2\n",
      "<none>                        4762.6 4812.6\n",
      "- TotalPointsAccumulated  1   4768.3 4816.3\n",
      "- TotalDistance           1   4768.4 4816.4\n",
      "- EnrollmentType          1   4889.3 4937.3\n",
      "- EnrollmentYear          6   5108.9 5146.9\n",
      "\n",
      "Step:  AIC=4811.5\n",
      "Canceled2018 ~ Gender + EnrollmentType + EnrollmentYear + EnrollmentMonth + \n",
      "    TotalSoloFlights + TotalDistance + TotalPointsAccumulated\n",
      "\n",
      "                         Df Deviance    AIC\n",
      "- TotalSoloFlights        1   4766.5 4810.5\n",
      "- EnrollmentMonth        11   4787.0 4811.0\n",
      "- Gender                  1   4767.1 4811.1\n",
      "<none>                        4765.5 4811.5\n",
      "- TotalPointsAccumulated  1   4771.3 4815.3\n",
      "- TotalDistance           1   4771.4 4815.4\n",
      "- EnrollmentType          1   4892.8 4936.8\n",
      "- EnrollmentYear          6   5112.1 5146.1\n",
      "\n",
      "Step:  AIC=4810.48\n",
      "Canceled2018 ~ Gender + EnrollmentType + EnrollmentYear + EnrollmentMonth + \n",
      "    TotalDistance + TotalPointsAccumulated\n",
      "\n",
      "                         Df Deviance    AIC\n",
      "- EnrollmentMonth        11   4788.0 4810.0\n",
      "- Gender                  1   4768.1 4810.1\n",
      "<none>                        4766.5 4810.5\n",
      "- TotalPointsAccumulated  1   4771.6 4813.6\n",
      "- TotalDistance           1   4771.6 4813.6\n",
      "- EnrollmentType          1   4893.8 4935.8\n",
      "- EnrollmentYear          6   5113.1 5145.1\n",
      "\n",
      "Step:  AIC=4809.99\n",
      "Canceled2018 ~ Gender + EnrollmentType + EnrollmentYear + TotalDistance + \n",
      "    TotalPointsAccumulated\n",
      "\n",
      "                         Df Deviance    AIC\n",
      "- Gender                  1   4789.6 4809.6\n",
      "<none>                        4788.0 4810.0\n",
      "- TotalPointsAccumulated  1   4793.0 4813.0\n",
      "- TotalDistance           1   4793.1 4813.1\n",
      "- EnrollmentType          1   4924.9 4944.9\n",
      "- EnrollmentYear          6   5124.6 5134.6\n",
      "\n",
      "Step:  AIC=4809.6\n",
      "Canceled2018 ~ EnrollmentType + EnrollmentYear + TotalDistance + \n",
      "    TotalPointsAccumulated\n",
      "\n",
      "                         Df Deviance    AIC\n",
      "<none>                        4789.6 4809.6\n",
      "- TotalPointsAccumulated  1   4794.6 4812.6\n",
      "- TotalDistance           1   4794.6 4812.6\n",
      "- EnrollmentType          1   4926.3 4944.3\n",
      "- EnrollmentYear          6   5125.4 5133.4\n"
     ]
    },
    {
     "data": {
      "text/plain": [
       "\n",
       "Call:  glm(formula = Canceled2018 ~ EnrollmentType + EnrollmentYear + \n",
       "    TotalDistance + TotalPointsAccumulated, family = binomial(\"logit\"), \n",
       "    data = data)\n",
       "\n",
       "Coefficients:\n",
       "           (Intercept)  EnrollmentTypeStandard      EnrollmentYear2013  \n",
       "             -16.65236                -1.99761                16.13293  \n",
       "    EnrollmentYear2014      EnrollmentYear2015      EnrollmentYear2016  \n",
       "              16.34704                16.20163                16.23198  \n",
       "    EnrollmentYear2017      EnrollmentYear2018           TotalDistance  \n",
       "              16.99323                14.92174                -0.01283  \n",
       "TotalPointsAccumulated  \n",
       "               0.12794  \n",
       "\n",
       "Degrees of Freedom: 15314 Total (i.e. Null);  15305 Residual\n",
       "Null Deviance:\t    5348 \n",
       "Residual Deviance: 4790 \tAIC: 4810"
      ]
     },
     "metadata": {},
     "output_type": "display_data"
    }
   ],
   "source": [
    "library(MASS)\n",
    "stepAIC(lr_canceled)"
   ]
  },
  {
   "cell_type": "code",
   "execution_count": 121,
   "id": "2c1a8172-afaa-46dc-9609-7bc887d8f7fe",
   "metadata": {},
   "outputs": [],
   "source": [
    "data_train = data[ training_Inds , ]\n",
    "data_test = data[ testing_Inds , ]"
   ]
  },
  {
   "cell_type": "code",
   "execution_count": 122,
   "id": "c8fac1eb-40ad-45da-9ad5-b2ce481016c3",
   "metadata": {},
   "outputs": [
    {
     "data": {
      "text/plain": [
       "\n",
       "Call:\n",
       "glm(formula = Canceled2018 ~ EnrollmentType + EnrollmentYear + \n",
       "    TotalDistance + TotalPointsAccumulated, family = binomial(\"logit\"), \n",
       "    data = data_train)\n",
       "\n",
       "Coefficients:\n",
       "                         Estimate Std. Error z value Pr(>|z|)    \n",
       "(Intercept)            -16.713689 307.230254  -0.054    0.957    \n",
       "EnrollmentTypeStandard  -1.949480   0.212063  -9.193   <2e-16 ***\n",
       "EnrollmentYear2013      16.047315 307.230207   0.052    0.958    \n",
       "EnrollmentYear2014      16.393350 307.230194   0.053    0.957    \n",
       "EnrollmentYear2015      16.152258 307.230204   0.053    0.958    \n",
       "EnrollmentYear2016      16.192273 307.230200   0.053    0.958    \n",
       "EnrollmentYear2017      17.018163 307.230170   0.055    0.956    \n",
       "EnrollmentYear2018      15.013883 307.230222   0.049    0.961    \n",
       "TotalDistance           -0.009974   0.006809  -1.465    0.143    \n",
       "TotalPointsAccumulated   0.099318   0.068182   1.457    0.145    \n",
       "---\n",
       "Signif. codes:  0 ‘***’ 0.001 ‘**’ 0.01 ‘*’ 0.05 ‘.’ 0.1 ‘ ’ 1\n",
       "\n",
       "(Dispersion parameter for binomial family taken to be 1)\n",
       "\n",
       "    Null deviance: 3809.2  on 10720  degrees of freedom\n",
       "Residual deviance: 3400.7  on 10711  degrees of freedom\n",
       "AIC: 3420.7\n",
       "\n",
       "Number of Fisher Scoring iterations: 18\n"
      ]
     },
     "metadata": {},
     "output_type": "display_data"
    }
   ],
   "source": [
    "lr_canceled2 = glm(Canceled2018 ~ EnrollmentType + EnrollmentYear + \n",
    "    TotalDistance + TotalPointsAccumulated, family = binomial(\"logit\"), \n",
    "    data = data_train)\n",
    "summary(lr_canceled2)"
   ]
  },
  {
   "cell_type": "code",
   "execution_count": 139,
   "id": "6d4e3640-9b9a-4b40-90c5-84739dbc8223",
   "metadata": {},
   "outputs": [],
   "source": [
    "lr_pred_cancel <- predict(lr_canceled2, data_test, type='response')"
   ]
  },
  {
   "cell_type": "code",
   "execution_count": 141,
   "id": "03dc3b8f-4bcf-4bd6-a9ee-16204831883b",
   "metadata": {},
   "outputs": [
    {
     "data": {
      "text/html": [
       "4.15610940492052e-10"
      ],
      "text/latex": [
       "4.15610940492052e-10"
      ],
      "text/markdown": [
       "4.15610940492052e-10"
      ],
      "text/plain": [
       "[1] 4.156109e-10"
      ]
     },
     "metadata": {},
     "output_type": "display_data"
    },
    {
     "data": {
      "text/html": [
       "0.16178504603661"
      ],
      "text/latex": [
       "0.16178504603661"
      ],
      "text/markdown": [
       "0.16178504603661"
      ],
      "text/plain": [
       "[1] 0.161785"
      ]
     },
     "metadata": {},
     "output_type": "display_data"
    }
   ],
   "source": [
    "min(lr_pred_cancel)\n",
    "max(lr_pred_cancel)"
   ]
  },
  {
   "cell_type": "code",
   "execution_count": 148,
   "id": "05629082-d4c9-43a8-8296-690d7fa615c7",
   "metadata": {},
   "outputs": [
    {
     "data": {
      "text/html": [
       "<style>\n",
       ".dl-inline {width: auto; margin:0; padding: 0}\n",
       ".dl-inline>dt, .dl-inline>dd {float: none; width: auto; display: inline-block}\n",
       ".dl-inline>dt::after {content: \":\\0020\"; padding-right: .5ex}\n",
       ".dl-inline>dt:not(:first-of-type) {padding-left: .5ex}\n",
       "</style><dl class=dl-inline><dt>2</dt><dd>0</dd><dt>10</dt><dd>0</dd><dt>11</dt><dd>0</dd><dt>13</dt><dd>0</dd><dt>21</dt><dd>0</dd><dt>24</dt><dd>0</dd><dt>40</dt><dd>0</dd><dt>43</dt><dd>0</dd><dt>44</dt><dd>0</dd><dt>48</dt><dd>0</dd><dt>49</dt><dd>0</dd><dt>50</dt><dd>0</dd><dt>51</dt><dd>0</dd><dt>56</dt><dd>0</dd><dt>62</dt><dd>0</dd><dt>64</dt><dd>0</dd><dt>67</dt><dd>0</dd><dt>69</dt><dd>0</dd><dt>72</dt><dd>0</dd><dt>73</dt><dd>0</dd><dt>74</dt><dd>0</dd><dt>76</dt><dd>0</dd><dt>77</dt><dd>0</dd><dt>78</dt><dd>0</dd><dt>81</dt><dd>0</dd><dt>82</dt><dd>0</dd><dt>84</dt><dd>0</dd><dt>85</dt><dd>0</dd><dt>86</dt><dd>0</dd><dt>91</dt><dd>0</dd><dt>102</dt><dd>0</dd><dt>105</dt><dd>0</dd><dt>106</dt><dd>0</dd><dt>110</dt><dd>0</dd><dt>115</dt><dd>0</dd><dt>120</dt><dd>0</dd><dt>121</dt><dd>0</dd><dt>122</dt><dd>0</dd><dt>124</dt><dd>0</dd><dt>125</dt><dd>0</dd><dt>127</dt><dd>0</dd><dt>128</dt><dd>0</dd><dt>130</dt><dd>0</dd><dt>133</dt><dd>0</dd><dt>139</dt><dd>0</dd><dt>141</dt><dd>0</dd><dt>142</dt><dd>0</dd><dt>144</dt><dd>0</dd><dt>147</dt><dd>0</dd><dt>149</dt><dd>0</dd><dt>154</dt><dd>0</dd><dt>162</dt><dd>0</dd><dt>163</dt><dd>0</dd><dt>166</dt><dd>0</dd><dt>171</dt><dd>0</dd><dt>172</dt><dd>0</dd><dt>175</dt><dd>0</dd><dt>185</dt><dd>0</dd><dt>189</dt><dd>0</dd><dt>192</dt><dd>0</dd><dt>195</dt><dd>0</dd><dt>197</dt><dd>0</dd><dt>200</dt><dd>0</dd><dt>205</dt><dd>0</dd><dt>206</dt><dd>0</dd><dt>208</dt><dd>0</dd><dt>211</dt><dd>0</dd><dt>212</dt><dd>0</dd><dt>213</dt><dd>0</dd><dt>217</dt><dd>0</dd><dt>219</dt><dd>0</dd><dt>220</dt><dd>0</dd><dt>221</dt><dd>0</dd><dt>222</dt><dd>0</dd><dt>226</dt><dd>0</dd><dt>229</dt><dd>0</dd><dt>238</dt><dd>0</dd><dt>242</dt><dd>0</dd><dt>253</dt><dd>0</dd><dt>254</dt><dd>0</dd><dt>255</dt><dd>0</dd><dt>259</dt><dd>0</dd><dt>261</dt><dd>0</dd><dt>269</dt><dd>0</dd><dt>277</dt><dd>0</dd><dt>278</dt><dd>0</dd><dt>280</dt><dd>0</dd><dt>281</dt><dd>0</dd><dt>282</dt><dd>0</dd><dt>285</dt><dd>0</dd><dt>288</dt><dd>0</dd><dt>292</dt><dd>0</dd><dt>294</dt><dd>0</dd><dt>299</dt><dd>0</dd><dt>300</dt><dd>0</dd><dt>302</dt><dd>0</dd><dt>305</dt><dd>0</dd><dt>323</dt><dd>0</dd><dt>328</dt><dd>0</dd><dt>333</dt><dd>0</dd><dt>334</dt><dd>0</dd><dt>336</dt><dd>0</dd><dt>341</dt><dd>0</dd><dt>347</dt><dd>0</dd><dt>354</dt><dd>0</dd><dt>355</dt><dd>0</dd><dt>356</dt><dd>0</dd><dt>357</dt><dd>0</dd><dt>359</dt><dd>0</dd><dt>364</dt><dd>0</dd><dt>366</dt><dd>0</dd><dt>371</dt><dd>0</dd><dt>372</dt><dd>0</dd><dt>376</dt><dd>0</dd><dt>380</dt><dd>0</dd><dt>383</dt><dd>0</dd><dt>385</dt><dd>0</dd><dt>393</dt><dd>0</dd><dt>397</dt><dd>0</dd><dt>399</dt><dd>0</dd><dt>400</dt><dd>0</dd><dt>401</dt><dd>0</dd><dt>408</dt><dd>0</dd><dt>409</dt><dd>0</dd><dt>418</dt><dd>0</dd><dt>420</dt><dd>0</dd><dt>429</dt><dd>0</dd><dt>430</dt><dd>0</dd><dt>433</dt><dd>0</dd><dt>438</dt><dd>0</dd><dt>440</dt><dd>0</dd><dt>445</dt><dd>0</dd><dt>447</dt><dd>0</dd><dt>449</dt><dd>0</dd><dt>450</dt><dd>0</dd><dt>460</dt><dd>0</dd><dt>474</dt><dd>0</dd><dt>475</dt><dd>0</dd><dt>481</dt><dd>0</dd><dt>484</dt><dd>0</dd><dt>487</dt><dd>0</dd><dt>489</dt><dd>0</dd><dt>490</dt><dd>0</dd><dt>499</dt><dd>0</dd><dt>507</dt><dd>0</dd><dt>508</dt><dd>0</dd><dt>511</dt><dd>0</dd><dt>517</dt><dd>0</dd><dt>518</dt><dd>0</dd><dt>519</dt><dd>0</dd><dt>521</dt><dd>0</dd><dt>523</dt><dd>0</dd><dt>527</dt><dd>0</dd><dt>528</dt><dd>0</dd><dt>532</dt><dd>0</dd><dt>537</dt><dd>0</dd><dt>538</dt><dd>0</dd><dt>551</dt><dd>0</dd><dt>554</dt><dd>0</dd><dt>564</dt><dd>0</dd><dt>571</dt><dd>0</dd><dt>573</dt><dd>0</dd><dt>575</dt><dd>0</dd><dt>579</dt><dd>0</dd><dt>582</dt><dd>0</dd><dt>590</dt><dd>0</dd><dt>594</dt><dd>0</dd><dt>597</dt><dd>0</dd><dt>602</dt><dd>0</dd><dt>608</dt><dd>0</dd><dt>614</dt><dd>0</dd><dt>615</dt><dd>0</dd><dt>616</dt><dd>0</dd><dt>619</dt><dd>0</dd><dt>621</dt><dd>0</dd><dt>624</dt><dd>0</dd><dt>637</dt><dd>0</dd><dt>640</dt><dd>0</dd><dt>641</dt><dd>0</dd><dt>646</dt><dd>0</dd><dt>648</dt><dd>0</dd><dt>650</dt><dd>0</dd><dt>655</dt><dd>0</dd><dt>656</dt><dd>0</dd><dt>659</dt><dd>0</dd><dt>660</dt><dd>0</dd><dt>664</dt><dd>0</dd><dt>675</dt><dd>0</dd><dt>677</dt><dd>0</dd><dt>680</dt><dd>0</dd><dt>683</dt><dd>0</dd><dt>688</dt><dd>0</dd><dt>692</dt><dd>0</dd><dt>693</dt><dd>0</dd><dt>694</dt><dd>0</dd><dt>707</dt><dd>0</dd><dt>709</dt><dd>0</dd><dt>710</dt><dd>0</dd><dt>715</dt><dd>0</dd><dt>717</dt><dd>0</dd><dt>720</dt><dd>⋯</dd><dt>722</dt><dd>0</dd><dt>723</dt><dd>0</dd><dt>725</dt><dd>0</dd><dt>726</dt><dd>0</dd><dt>729</dt><dd>0</dd><dt>730</dt><dd>0</dd><dt>733</dt><dd>0</dd><dt>737</dt><dd>0</dd><dt>739</dt><dd>0</dd><dt>744</dt><dd>0</dd><dt>749</dt><dd>0</dd><dt>754</dt><dd>0</dd><dt>755</dt><dd>0</dd><dt>758</dt><dd>0</dd><dt>759</dt><dd>0</dd><dt>763</dt><dd>0</dd><dt>767</dt><dd>0</dd><dt>769</dt><dd>0</dd><dt>770</dt><dd>0</dd><dt>772</dt><dd>0</dd><dt>779</dt><dd>0</dd><dt>781</dt><dd>0</dd><dt>786</dt><dd>0</dd><dt>789</dt><dd>0</dd><dt>791</dt><dd>0</dd><dt>792</dt><dd>0</dd><dt>794</dt><dd>0</dd><dt>795</dt><dd>0</dd><dt>802</dt><dd>0</dd><dt>805</dt><dd>0</dd><dt>808</dt><dd>0</dd><dt>811</dt><dd>0</dd><dt>815</dt><dd>0</dd><dt>816</dt><dd>0</dd><dt>817</dt><dd>0</dd><dt>820</dt><dd>0</dd><dt>825</dt><dd>0</dd><dt>827</dt><dd>0</dd><dt>828</dt><dd>0</dd><dt>829</dt><dd>0</dd><dt>831</dt><dd>0</dd><dt>837</dt><dd>0</dd><dt>839</dt><dd>0</dd><dt>843</dt><dd>0</dd><dt>846</dt><dd>0</dd><dt>848</dt><dd>0</dd><dt>850</dt><dd>0</dd><dt>855</dt><dd>0</dd><dt>859</dt><dd>0</dd><dt>860</dt><dd>0</dd><dt>862</dt><dd>0</dd><dt>866</dt><dd>0</dd><dt>867</dt><dd>0</dd><dt>868</dt><dd>0</dd><dt>874</dt><dd>0</dd><dt>879</dt><dd>0</dd><dt>887</dt><dd>0</dd><dt>892</dt><dd>0</dd><dt>901</dt><dd>0</dd><dt>913</dt><dd>0</dd><dt>923</dt><dd>0</dd><dt>926</dt><dd>0</dd><dt>930</dt><dd>0</dd><dt>932</dt><dd>0</dd><dt>935</dt><dd>0</dd><dt>939</dt><dd>0</dd><dt>944</dt><dd>0</dd><dt>946</dt><dd>0</dd><dt>952</dt><dd>0</dd><dt>953</dt><dd>0</dd><dt>957</dt><dd>0</dd><dt>958</dt><dd>0</dd><dt>962</dt><dd>0</dd><dt>966</dt><dd>0</dd><dt>967</dt><dd>0</dd><dt>974</dt><dd>0</dd><dt>977</dt><dd>0</dd><dt>983</dt><dd>0</dd><dt>984</dt><dd>0</dd><dt>985</dt><dd>0</dd><dt>989</dt><dd>0</dd><dt>990</dt><dd>0</dd><dt>991</dt><dd>0</dd><dt>993</dt><dd>0</dd><dt>1000</dt><dd>0</dd><dt>1001</dt><dd>0</dd><dt>1002</dt><dd>0</dd><dt>1004</dt><dd>0</dd><dt>1006</dt><dd>0</dd><dt>1007</dt><dd>0</dd><dt>1009</dt><dd>0</dd><dt>1013</dt><dd>0</dd><dt>1018</dt><dd>0</dd><dt>1032</dt><dd>0</dd><dt>1035</dt><dd>0</dd><dt>1036</dt><dd>0</dd><dt>1045</dt><dd>0</dd><dt>1047</dt><dd>0</dd><dt>1048</dt><dd>0</dd><dt>1052</dt><dd>0</dd><dt>1053</dt><dd>0</dd><dt>1055</dt><dd>0</dd><dt>1056</dt><dd>0</dd><dt>1059</dt><dd>0</dd><dt>1061</dt><dd>0</dd><dt>1063</dt><dd>0</dd><dt>1067</dt><dd>0</dd><dt>1069</dt><dd>0</dd><dt>1076</dt><dd>0</dd><dt>1084</dt><dd>0</dd><dt>1085</dt><dd>0</dd><dt>1088</dt><dd>0</dd><dt>1100</dt><dd>0</dd><dt>1101</dt><dd>0</dd><dt>1105</dt><dd>0</dd><dt>1110</dt><dd>0</dd><dt>1113</dt><dd>0</dd><dt>1115</dt><dd>0</dd><dt>1121</dt><dd>0</dd><dt>1122</dt><dd>0</dd><dt>1126</dt><dd>0</dd><dt>1133</dt><dd>0</dd><dt>1135</dt><dd>0</dd><dt>1136</dt><dd>0</dd><dt>1137</dt><dd>0</dd><dt>1141</dt><dd>0</dd><dt>1142</dt><dd>0</dd><dt>1144</dt><dd>0</dd><dt>1152</dt><dd>0</dd><dt>1159</dt><dd>0</dd><dt>1162</dt><dd>0</dd><dt>1163</dt><dd>0</dd><dt>1164</dt><dd>0</dd><dt>1166</dt><dd>0</dd><dt>1170</dt><dd>0</dd><dt>1175</dt><dd>0</dd><dt>1178</dt><dd>0</dd><dt>1181</dt><dd>0</dd><dt>1182</dt><dd>0</dd><dt>1190</dt><dd>0</dd><dt>1198</dt><dd>0</dd><dt>1206</dt><dd>0</dd><dt>1212</dt><dd>0</dd><dt>1216</dt><dd>0</dd><dt>1217</dt><dd>0</dd><dt>1222</dt><dd>0</dd><dt>1232</dt><dd>0</dd><dt>1233</dt><dd>0</dd><dt>1235</dt><dd>0</dd><dt>1239</dt><dd>0</dd><dt>1243</dt><dd>0</dd><dt>1244</dt><dd>0</dd><dt>1246</dt><dd>0</dd><dt>1249</dt><dd>0</dd><dt>1250</dt><dd>0</dd><dt>1253</dt><dd>0</dd><dt>1256</dt><dd>0</dd><dt>1257</dt><dd>0</dd><dt>1259</dt><dd>0</dd><dt>1260</dt><dd>0</dd><dt>1264</dt><dd>0</dd><dt>1266</dt><dd>0</dd><dt>1268</dt><dd>0</dd><dt>1272</dt><dd>0</dd><dt>1279</dt><dd>0</dd><dt>1282</dt><dd>0</dd><dt>1283</dt><dd>0</dd><dt>1290</dt><dd>0</dd><dt>1293</dt><dd>0</dd><dt>1295</dt><dd>0</dd><dt>1296</dt><dd>0</dd><dt>1304</dt><dd>0</dd><dt>1310</dt><dd>0</dd><dt>1311</dt><dd>0</dd><dt>1312</dt><dd>0</dd><dt>1314</dt><dd>0</dd><dt>1316</dt><dd>0</dd><dt>1319</dt><dd>0</dd><dt>1320</dt><dd>0</dd><dt>1322</dt><dd>0</dd><dt>1325</dt><dd>0</dd><dt>1326</dt><dd>0</dd><dt>1327</dt><dd>0</dd><dt>1330</dt><dd>0</dd><dt>1333</dt><dd>0</dd><dt>1334</dt><dd>0</dd><dt>1335</dt><dd>0</dd><dt>1338</dt><dd>0</dd><dt>1340</dt><dd>0</dd><dt>1344</dt><dd>0</dd><dt>1347</dt><dd>0</dd><dt>1350</dt><dd>0</dd><dt>1355</dt><dd>0</dd><dt>1356</dt><dd>0</dd><dt>1361</dt><dd>0</dd><dt>1364</dt><dd>0</dd><dt>1365</dt><dd>0</dd><dt>1367</dt><dd>0</dd><dt>1372</dt><dd>0</dd><dt>1374</dt><dd>0</dd></dl>\n"
      ],
      "text/latex": [
       "\\begin{description*}\n",
       "\\item[2] 0\n",
       "\\item[10] 0\n",
       "\\item[11] 0\n",
       "\\item[13] 0\n",
       "\\item[21] 0\n",
       "\\item[24] 0\n",
       "\\item[40] 0\n",
       "\\item[43] 0\n",
       "\\item[44] 0\n",
       "\\item[48] 0\n",
       "\\item[49] 0\n",
       "\\item[50] 0\n",
       "\\item[51] 0\n",
       "\\item[56] 0\n",
       "\\item[62] 0\n",
       "\\item[64] 0\n",
       "\\item[67] 0\n",
       "\\item[69] 0\n",
       "\\item[72] 0\n",
       "\\item[73] 0\n",
       "\\item[74] 0\n",
       "\\item[76] 0\n",
       "\\item[77] 0\n",
       "\\item[78] 0\n",
       "\\item[81] 0\n",
       "\\item[82] 0\n",
       "\\item[84] 0\n",
       "\\item[85] 0\n",
       "\\item[86] 0\n",
       "\\item[91] 0\n",
       "\\item[102] 0\n",
       "\\item[105] 0\n",
       "\\item[106] 0\n",
       "\\item[110] 0\n",
       "\\item[115] 0\n",
       "\\item[120] 0\n",
       "\\item[121] 0\n",
       "\\item[122] 0\n",
       "\\item[124] 0\n",
       "\\item[125] 0\n",
       "\\item[127] 0\n",
       "\\item[128] 0\n",
       "\\item[130] 0\n",
       "\\item[133] 0\n",
       "\\item[139] 0\n",
       "\\item[141] 0\n",
       "\\item[142] 0\n",
       "\\item[144] 0\n",
       "\\item[147] 0\n",
       "\\item[149] 0\n",
       "\\item[154] 0\n",
       "\\item[162] 0\n",
       "\\item[163] 0\n",
       "\\item[166] 0\n",
       "\\item[171] 0\n",
       "\\item[172] 0\n",
       "\\item[175] 0\n",
       "\\item[185] 0\n",
       "\\item[189] 0\n",
       "\\item[192] 0\n",
       "\\item[195] 0\n",
       "\\item[197] 0\n",
       "\\item[200] 0\n",
       "\\item[205] 0\n",
       "\\item[206] 0\n",
       "\\item[208] 0\n",
       "\\item[211] 0\n",
       "\\item[212] 0\n",
       "\\item[213] 0\n",
       "\\item[217] 0\n",
       "\\item[219] 0\n",
       "\\item[220] 0\n",
       "\\item[221] 0\n",
       "\\item[222] 0\n",
       "\\item[226] 0\n",
       "\\item[229] 0\n",
       "\\item[238] 0\n",
       "\\item[242] 0\n",
       "\\item[253] 0\n",
       "\\item[254] 0\n",
       "\\item[255] 0\n",
       "\\item[259] 0\n",
       "\\item[261] 0\n",
       "\\item[269] 0\n",
       "\\item[277] 0\n",
       "\\item[278] 0\n",
       "\\item[280] 0\n",
       "\\item[281] 0\n",
       "\\item[282] 0\n",
       "\\item[285] 0\n",
       "\\item[288] 0\n",
       "\\item[292] 0\n",
       "\\item[294] 0\n",
       "\\item[299] 0\n",
       "\\item[300] 0\n",
       "\\item[302] 0\n",
       "\\item[305] 0\n",
       "\\item[323] 0\n",
       "\\item[328] 0\n",
       "\\item[333] 0\n",
       "\\item[334] 0\n",
       "\\item[336] 0\n",
       "\\item[341] 0\n",
       "\\item[347] 0\n",
       "\\item[354] 0\n",
       "\\item[355] 0\n",
       "\\item[356] 0\n",
       "\\item[357] 0\n",
       "\\item[359] 0\n",
       "\\item[364] 0\n",
       "\\item[366] 0\n",
       "\\item[371] 0\n",
       "\\item[372] 0\n",
       "\\item[376] 0\n",
       "\\item[380] 0\n",
       "\\item[383] 0\n",
       "\\item[385] 0\n",
       "\\item[393] 0\n",
       "\\item[397] 0\n",
       "\\item[399] 0\n",
       "\\item[400] 0\n",
       "\\item[401] 0\n",
       "\\item[408] 0\n",
       "\\item[409] 0\n",
       "\\item[418] 0\n",
       "\\item[420] 0\n",
       "\\item[429] 0\n",
       "\\item[430] 0\n",
       "\\item[433] 0\n",
       "\\item[438] 0\n",
       "\\item[440] 0\n",
       "\\item[445] 0\n",
       "\\item[447] 0\n",
       "\\item[449] 0\n",
       "\\item[450] 0\n",
       "\\item[460] 0\n",
       "\\item[474] 0\n",
       "\\item[475] 0\n",
       "\\item[481] 0\n",
       "\\item[484] 0\n",
       "\\item[487] 0\n",
       "\\item[489] 0\n",
       "\\item[490] 0\n",
       "\\item[499] 0\n",
       "\\item[507] 0\n",
       "\\item[508] 0\n",
       "\\item[511] 0\n",
       "\\item[517] 0\n",
       "\\item[518] 0\n",
       "\\item[519] 0\n",
       "\\item[521] 0\n",
       "\\item[523] 0\n",
       "\\item[527] 0\n",
       "\\item[528] 0\n",
       "\\item[532] 0\n",
       "\\item[537] 0\n",
       "\\item[538] 0\n",
       "\\item[551] 0\n",
       "\\item[554] 0\n",
       "\\item[564] 0\n",
       "\\item[571] 0\n",
       "\\item[573] 0\n",
       "\\item[575] 0\n",
       "\\item[579] 0\n",
       "\\item[582] 0\n",
       "\\item[590] 0\n",
       "\\item[594] 0\n",
       "\\item[597] 0\n",
       "\\item[602] 0\n",
       "\\item[608] 0\n",
       "\\item[614] 0\n",
       "\\item[615] 0\n",
       "\\item[616] 0\n",
       "\\item[619] 0\n",
       "\\item[621] 0\n",
       "\\item[624] 0\n",
       "\\item[637] 0\n",
       "\\item[640] 0\n",
       "\\item[641] 0\n",
       "\\item[646] 0\n",
       "\\item[648] 0\n",
       "\\item[650] 0\n",
       "\\item[655] 0\n",
       "\\item[656] 0\n",
       "\\item[659] 0\n",
       "\\item[660] 0\n",
       "\\item[664] 0\n",
       "\\item[675] 0\n",
       "\\item[677] 0\n",
       "\\item[680] 0\n",
       "\\item[683] 0\n",
       "\\item[688] 0\n",
       "\\item[692] 0\n",
       "\\item[693] 0\n",
       "\\item[694] 0\n",
       "\\item[707] 0\n",
       "\\item[709] 0\n",
       "\\item[710] 0\n",
       "\\item[715] 0\n",
       "\\item[717] 0\n",
       "\\item[720] ⋯\n",
       "\\item[722] 0\n",
       "\\item[723] 0\n",
       "\\item[725] 0\n",
       "\\item[726] 0\n",
       "\\item[729] 0\n",
       "\\item[730] 0\n",
       "\\item[733] 0\n",
       "\\item[737] 0\n",
       "\\item[739] 0\n",
       "\\item[744] 0\n",
       "\\item[749] 0\n",
       "\\item[754] 0\n",
       "\\item[755] 0\n",
       "\\item[758] 0\n",
       "\\item[759] 0\n",
       "\\item[763] 0\n",
       "\\item[767] 0\n",
       "\\item[769] 0\n",
       "\\item[770] 0\n",
       "\\item[772] 0\n",
       "\\item[779] 0\n",
       "\\item[781] 0\n",
       "\\item[786] 0\n",
       "\\item[789] 0\n",
       "\\item[791] 0\n",
       "\\item[792] 0\n",
       "\\item[794] 0\n",
       "\\item[795] 0\n",
       "\\item[802] 0\n",
       "\\item[805] 0\n",
       "\\item[808] 0\n",
       "\\item[811] 0\n",
       "\\item[815] 0\n",
       "\\item[816] 0\n",
       "\\item[817] 0\n",
       "\\item[820] 0\n",
       "\\item[825] 0\n",
       "\\item[827] 0\n",
       "\\item[828] 0\n",
       "\\item[829] 0\n",
       "\\item[831] 0\n",
       "\\item[837] 0\n",
       "\\item[839] 0\n",
       "\\item[843] 0\n",
       "\\item[846] 0\n",
       "\\item[848] 0\n",
       "\\item[850] 0\n",
       "\\item[855] 0\n",
       "\\item[859] 0\n",
       "\\item[860] 0\n",
       "\\item[862] 0\n",
       "\\item[866] 0\n",
       "\\item[867] 0\n",
       "\\item[868] 0\n",
       "\\item[874] 0\n",
       "\\item[879] 0\n",
       "\\item[887] 0\n",
       "\\item[892] 0\n",
       "\\item[901] 0\n",
       "\\item[913] 0\n",
       "\\item[923] 0\n",
       "\\item[926] 0\n",
       "\\item[930] 0\n",
       "\\item[932] 0\n",
       "\\item[935] 0\n",
       "\\item[939] 0\n",
       "\\item[944] 0\n",
       "\\item[946] 0\n",
       "\\item[952] 0\n",
       "\\item[953] 0\n",
       "\\item[957] 0\n",
       "\\item[958] 0\n",
       "\\item[962] 0\n",
       "\\item[966] 0\n",
       "\\item[967] 0\n",
       "\\item[974] 0\n",
       "\\item[977] 0\n",
       "\\item[983] 0\n",
       "\\item[984] 0\n",
       "\\item[985] 0\n",
       "\\item[989] 0\n",
       "\\item[990] 0\n",
       "\\item[991] 0\n",
       "\\item[993] 0\n",
       "\\item[1000] 0\n",
       "\\item[1001] 0\n",
       "\\item[1002] 0\n",
       "\\item[1004] 0\n",
       "\\item[1006] 0\n",
       "\\item[1007] 0\n",
       "\\item[1009] 0\n",
       "\\item[1013] 0\n",
       "\\item[1018] 0\n",
       "\\item[1032] 0\n",
       "\\item[1035] 0\n",
       "\\item[1036] 0\n",
       "\\item[1045] 0\n",
       "\\item[1047] 0\n",
       "\\item[1048] 0\n",
       "\\item[1052] 0\n",
       "\\item[1053] 0\n",
       "\\item[1055] 0\n",
       "\\item[1056] 0\n",
       "\\item[1059] 0\n",
       "\\item[1061] 0\n",
       "\\item[1063] 0\n",
       "\\item[1067] 0\n",
       "\\item[1069] 0\n",
       "\\item[1076] 0\n",
       "\\item[1084] 0\n",
       "\\item[1085] 0\n",
       "\\item[1088] 0\n",
       "\\item[1100] 0\n",
       "\\item[1101] 0\n",
       "\\item[1105] 0\n",
       "\\item[1110] 0\n",
       "\\item[1113] 0\n",
       "\\item[1115] 0\n",
       "\\item[1121] 0\n",
       "\\item[1122] 0\n",
       "\\item[1126] 0\n",
       "\\item[1133] 0\n",
       "\\item[1135] 0\n",
       "\\item[1136] 0\n",
       "\\item[1137] 0\n",
       "\\item[1141] 0\n",
       "\\item[1142] 0\n",
       "\\item[1144] 0\n",
       "\\item[1152] 0\n",
       "\\item[1159] 0\n",
       "\\item[1162] 0\n",
       "\\item[1163] 0\n",
       "\\item[1164] 0\n",
       "\\item[1166] 0\n",
       "\\item[1170] 0\n",
       "\\item[1175] 0\n",
       "\\item[1178] 0\n",
       "\\item[1181] 0\n",
       "\\item[1182] 0\n",
       "\\item[1190] 0\n",
       "\\item[1198] 0\n",
       "\\item[1206] 0\n",
       "\\item[1212] 0\n",
       "\\item[1216] 0\n",
       "\\item[1217] 0\n",
       "\\item[1222] 0\n",
       "\\item[1232] 0\n",
       "\\item[1233] 0\n",
       "\\item[1235] 0\n",
       "\\item[1239] 0\n",
       "\\item[1243] 0\n",
       "\\item[1244] 0\n",
       "\\item[1246] 0\n",
       "\\item[1249] 0\n",
       "\\item[1250] 0\n",
       "\\item[1253] 0\n",
       "\\item[1256] 0\n",
       "\\item[1257] 0\n",
       "\\item[1259] 0\n",
       "\\item[1260] 0\n",
       "\\item[1264] 0\n",
       "\\item[1266] 0\n",
       "\\item[1268] 0\n",
       "\\item[1272] 0\n",
       "\\item[1279] 0\n",
       "\\item[1282] 0\n",
       "\\item[1283] 0\n",
       "\\item[1290] 0\n",
       "\\item[1293] 0\n",
       "\\item[1295] 0\n",
       "\\item[1296] 0\n",
       "\\item[1304] 0\n",
       "\\item[1310] 0\n",
       "\\item[1311] 0\n",
       "\\item[1312] 0\n",
       "\\item[1314] 0\n",
       "\\item[1316] 0\n",
       "\\item[1319] 0\n",
       "\\item[1320] 0\n",
       "\\item[1322] 0\n",
       "\\item[1325] 0\n",
       "\\item[1326] 0\n",
       "\\item[1327] 0\n",
       "\\item[1330] 0\n",
       "\\item[1333] 0\n",
       "\\item[1334] 0\n",
       "\\item[1335] 0\n",
       "\\item[1338] 0\n",
       "\\item[1340] 0\n",
       "\\item[1344] 0\n",
       "\\item[1347] 0\n",
       "\\item[1350] 0\n",
       "\\item[1355] 0\n",
       "\\item[1356] 0\n",
       "\\item[1361] 0\n",
       "\\item[1364] 0\n",
       "\\item[1365] 0\n",
       "\\item[1367] 0\n",
       "\\item[1372] 0\n",
       "\\item[1374] 0\n",
       "\\end{description*}\n"
      ],
      "text/markdown": [
       "2\n",
       ":   010\n",
       ":   011\n",
       ":   013\n",
       ":   021\n",
       ":   024\n",
       ":   040\n",
       ":   043\n",
       ":   044\n",
       ":   048\n",
       ":   049\n",
       ":   050\n",
       ":   051\n",
       ":   056\n",
       ":   062\n",
       ":   064\n",
       ":   067\n",
       ":   069\n",
       ":   072\n",
       ":   073\n",
       ":   074\n",
       ":   076\n",
       ":   077\n",
       ":   078\n",
       ":   081\n",
       ":   082\n",
       ":   084\n",
       ":   085\n",
       ":   086\n",
       ":   091\n",
       ":   0102\n",
       ":   0105\n",
       ":   0106\n",
       ":   0110\n",
       ":   0115\n",
       ":   0120\n",
       ":   0121\n",
       ":   0122\n",
       ":   0124\n",
       ":   0125\n",
       ":   0127\n",
       ":   0128\n",
       ":   0130\n",
       ":   0133\n",
       ":   0139\n",
       ":   0141\n",
       ":   0142\n",
       ":   0144\n",
       ":   0147\n",
       ":   0149\n",
       ":   0154\n",
       ":   0162\n",
       ":   0163\n",
       ":   0166\n",
       ":   0171\n",
       ":   0172\n",
       ":   0175\n",
       ":   0185\n",
       ":   0189\n",
       ":   0192\n",
       ":   0195\n",
       ":   0197\n",
       ":   0200\n",
       ":   0205\n",
       ":   0206\n",
       ":   0208\n",
       ":   0211\n",
       ":   0212\n",
       ":   0213\n",
       ":   0217\n",
       ":   0219\n",
       ":   0220\n",
       ":   0221\n",
       ":   0222\n",
       ":   0226\n",
       ":   0229\n",
       ":   0238\n",
       ":   0242\n",
       ":   0253\n",
       ":   0254\n",
       ":   0255\n",
       ":   0259\n",
       ":   0261\n",
       ":   0269\n",
       ":   0277\n",
       ":   0278\n",
       ":   0280\n",
       ":   0281\n",
       ":   0282\n",
       ":   0285\n",
       ":   0288\n",
       ":   0292\n",
       ":   0294\n",
       ":   0299\n",
       ":   0300\n",
       ":   0302\n",
       ":   0305\n",
       ":   0323\n",
       ":   0328\n",
       ":   0333\n",
       ":   0334\n",
       ":   0336\n",
       ":   0341\n",
       ":   0347\n",
       ":   0354\n",
       ":   0355\n",
       ":   0356\n",
       ":   0357\n",
       ":   0359\n",
       ":   0364\n",
       ":   0366\n",
       ":   0371\n",
       ":   0372\n",
       ":   0376\n",
       ":   0380\n",
       ":   0383\n",
       ":   0385\n",
       ":   0393\n",
       ":   0397\n",
       ":   0399\n",
       ":   0400\n",
       ":   0401\n",
       ":   0408\n",
       ":   0409\n",
       ":   0418\n",
       ":   0420\n",
       ":   0429\n",
       ":   0430\n",
       ":   0433\n",
       ":   0438\n",
       ":   0440\n",
       ":   0445\n",
       ":   0447\n",
       ":   0449\n",
       ":   0450\n",
       ":   0460\n",
       ":   0474\n",
       ":   0475\n",
       ":   0481\n",
       ":   0484\n",
       ":   0487\n",
       ":   0489\n",
       ":   0490\n",
       ":   0499\n",
       ":   0507\n",
       ":   0508\n",
       ":   0511\n",
       ":   0517\n",
       ":   0518\n",
       ":   0519\n",
       ":   0521\n",
       ":   0523\n",
       ":   0527\n",
       ":   0528\n",
       ":   0532\n",
       ":   0537\n",
       ":   0538\n",
       ":   0551\n",
       ":   0554\n",
       ":   0564\n",
       ":   0571\n",
       ":   0573\n",
       ":   0575\n",
       ":   0579\n",
       ":   0582\n",
       ":   0590\n",
       ":   0594\n",
       ":   0597\n",
       ":   0602\n",
       ":   0608\n",
       ":   0614\n",
       ":   0615\n",
       ":   0616\n",
       ":   0619\n",
       ":   0621\n",
       ":   0624\n",
       ":   0637\n",
       ":   0640\n",
       ":   0641\n",
       ":   0646\n",
       ":   0648\n",
       ":   0650\n",
       ":   0655\n",
       ":   0656\n",
       ":   0659\n",
       ":   0660\n",
       ":   0664\n",
       ":   0675\n",
       ":   0677\n",
       ":   0680\n",
       ":   0683\n",
       ":   0688\n",
       ":   0692\n",
       ":   0693\n",
       ":   0694\n",
       ":   0707\n",
       ":   0709\n",
       ":   0710\n",
       ":   0715\n",
       ":   0717\n",
       ":   0720\n",
       ":   ⋯722\n",
       ":   0723\n",
       ":   0725\n",
       ":   0726\n",
       ":   0729\n",
       ":   0730\n",
       ":   0733\n",
       ":   0737\n",
       ":   0739\n",
       ":   0744\n",
       ":   0749\n",
       ":   0754\n",
       ":   0755\n",
       ":   0758\n",
       ":   0759\n",
       ":   0763\n",
       ":   0767\n",
       ":   0769\n",
       ":   0770\n",
       ":   0772\n",
       ":   0779\n",
       ":   0781\n",
       ":   0786\n",
       ":   0789\n",
       ":   0791\n",
       ":   0792\n",
       ":   0794\n",
       ":   0795\n",
       ":   0802\n",
       ":   0805\n",
       ":   0808\n",
       ":   0811\n",
       ":   0815\n",
       ":   0816\n",
       ":   0817\n",
       ":   0820\n",
       ":   0825\n",
       ":   0827\n",
       ":   0828\n",
       ":   0829\n",
       ":   0831\n",
       ":   0837\n",
       ":   0839\n",
       ":   0843\n",
       ":   0846\n",
       ":   0848\n",
       ":   0850\n",
       ":   0855\n",
       ":   0859\n",
       ":   0860\n",
       ":   0862\n",
       ":   0866\n",
       ":   0867\n",
       ":   0868\n",
       ":   0874\n",
       ":   0879\n",
       ":   0887\n",
       ":   0892\n",
       ":   0901\n",
       ":   0913\n",
       ":   0923\n",
       ":   0926\n",
       ":   0930\n",
       ":   0932\n",
       ":   0935\n",
       ":   0939\n",
       ":   0944\n",
       ":   0946\n",
       ":   0952\n",
       ":   0953\n",
       ":   0957\n",
       ":   0958\n",
       ":   0962\n",
       ":   0966\n",
       ":   0967\n",
       ":   0974\n",
       ":   0977\n",
       ":   0983\n",
       ":   0984\n",
       ":   0985\n",
       ":   0989\n",
       ":   0990\n",
       ":   0991\n",
       ":   0993\n",
       ":   01000\n",
       ":   01001\n",
       ":   01002\n",
       ":   01004\n",
       ":   01006\n",
       ":   01007\n",
       ":   01009\n",
       ":   01013\n",
       ":   01018\n",
       ":   01032\n",
       ":   01035\n",
       ":   01036\n",
       ":   01045\n",
       ":   01047\n",
       ":   01048\n",
       ":   01052\n",
       ":   01053\n",
       ":   01055\n",
       ":   01056\n",
       ":   01059\n",
       ":   01061\n",
       ":   01063\n",
       ":   01067\n",
       ":   01069\n",
       ":   01076\n",
       ":   01084\n",
       ":   01085\n",
       ":   01088\n",
       ":   01100\n",
       ":   01101\n",
       ":   01105\n",
       ":   01110\n",
       ":   01113\n",
       ":   01115\n",
       ":   01121\n",
       ":   01122\n",
       ":   01126\n",
       ":   01133\n",
       ":   01135\n",
       ":   01136\n",
       ":   01137\n",
       ":   01141\n",
       ":   01142\n",
       ":   01144\n",
       ":   01152\n",
       ":   01159\n",
       ":   01162\n",
       ":   01163\n",
       ":   01164\n",
       ":   01166\n",
       ":   01170\n",
       ":   01175\n",
       ":   01178\n",
       ":   01181\n",
       ":   01182\n",
       ":   01190\n",
       ":   01198\n",
       ":   01206\n",
       ":   01212\n",
       ":   01216\n",
       ":   01217\n",
       ":   01222\n",
       ":   01232\n",
       ":   01233\n",
       ":   01235\n",
       ":   01239\n",
       ":   01243\n",
       ":   01244\n",
       ":   01246\n",
       ":   01249\n",
       ":   01250\n",
       ":   01253\n",
       ":   01256\n",
       ":   01257\n",
       ":   01259\n",
       ":   01260\n",
       ":   01264\n",
       ":   01266\n",
       ":   01268\n",
       ":   01272\n",
       ":   01279\n",
       ":   01282\n",
       ":   01283\n",
       ":   01290\n",
       ":   01293\n",
       ":   01295\n",
       ":   01296\n",
       ":   01304\n",
       ":   01310\n",
       ":   01311\n",
       ":   01312\n",
       ":   01314\n",
       ":   01316\n",
       ":   01319\n",
       ":   01320\n",
       ":   01322\n",
       ":   01325\n",
       ":   01326\n",
       ":   01327\n",
       ":   01330\n",
       ":   01333\n",
       ":   01334\n",
       ":   01335\n",
       ":   01338\n",
       ":   01340\n",
       ":   01344\n",
       ":   01347\n",
       ":   01350\n",
       ":   01355\n",
       ":   01356\n",
       ":   01361\n",
       ":   01364\n",
       ":   01365\n",
       ":   01367\n",
       ":   01372\n",
       ":   01374\n",
       ":   0\n",
       "\n"
      ],
      "text/plain": [
       "    2    10    11    13    21    24    40    43    44    48    49    50    51 \n",
       "    0     0     0     0     0     0     0     0     0     0     0     0     0 \n",
       "   56    62    64    67    69    72    73    74    76    77    78    81    82 \n",
       "    0     0     0     0     0     0     0     0     0     0     0     0     0 \n",
       "   84    85    86    91   102   105   106   110   115   120   121   122   124 \n",
       "    0     0     0     0     0     0     0     0     0     0     0     0     0 \n",
       "  125   127   128   130   133   139   141   142   144   147   149   154   162 \n",
       "    0     0     0     0     0     0     0     0     0     0     0     0     0 \n",
       "  163   166   171   172   175   185   189   192   195   197   200   205   206 \n",
       "    0     0     0     0     0     0     0     0     0     0     0     0     0 \n",
       "  208   211   212   213   217   219   220   221   222   226   229   238   242 \n",
       "    0     0     0     0     0     0     0     0     0     0     0     0     0 \n",
       "  253   254   255   259   261   269   277   278   280   281   282   285   288 \n",
       "    0     0     0     0     0     0     0     0     0     0     0     0     0 \n",
       "  292   294   299   300   302   305   323   328   333   334   336   341   347 \n",
       "    0     0     0     0     0     0     0     0     0     0     0     0     0 \n",
       "  354   355   356   357   359   364   366   371   372   376   380   383   385 \n",
       "    0     0     0     0     0     0     0     0     0     0     0     0     0 \n",
       "  393   397   399   400   401   408   409   418   420   429   430   433   438 \n",
       "    0     0     0     0     0     0     0     0     0     0     0     0     0 \n",
       "  440   445   447   449   450   460   474   475   481   484   487   489   490 \n",
       "    0     0     0     0     0     0     0     0     0     0     0     0     0 \n",
       "  499   507   508   511   517   518   519   521   523   527   528   532   537 \n",
       "    0     0     0     0     0     0     0     0     0     0     0     0     0 \n",
       "  538   551   554   564   571   573   575   579   582   590   594   597   602 \n",
       "    0     0     0     0     0     0     0     0     0     0     0     0     0 \n",
       "  608   614   615   616   619   621   624   637   640   641   646   648   650 \n",
       "    0     0     0     0     0     0     0     0     0     0     0     0     0 \n",
       "  655   656   659   660   664   675   677   680   683   688   692   693   694 \n",
       "    0     0     0     0     0     0     0     0     0     0     0     0     0 \n",
       "  707   709   710   715   717   720   722   723   725   726   729   730   733 \n",
       "    0     0     0     0     0     0     0     0     0     0     0     0     0 \n",
       "  737   739   744   749   754   755   758   759   763   767   769   770   772 \n",
       "    0     0     0     0     0     0     0     0     0     0     0     0     0 \n",
       "  779   781   786   789   791   792   794   795   802   805   808   811   815 \n",
       "    0     0     0     0     0     0     0     0     0     0     0     0     0 \n",
       "  816   817   820   825   827   828   829   831   837   839   843   846   848 \n",
       "    0     0     0     0     0     0     0     0     0     0     0     0     0 \n",
       "  850   855   859   860   862   866   867   868   874   879   887   892   901 \n",
       "    0     0     0     0     0     0     0     0     0     0     0     0     0 \n",
       "  913   923   926   930   932   935   939   944   946   952   953   957   958 \n",
       "    0     0     0     0     0     0     0     0     0     0     0     0     0 \n",
       "  962   966   967   974   977   983   984   985   989   990   991   993  1000 \n",
       "    0     0     0     0     0     0     0     0     0     0     0     0     0 \n",
       " 1001  1002  1004  1006  1007  1009  1013  1018  1032  1035  1036  1045  1047 \n",
       "    0     0     0     0     0     0     0     0     0     0     0     0     0 \n",
       " 1048  1052  1053  1055  1056  1059  1061  1063  1067  1069  1076  1084  1085 \n",
       "    0     0     0     0     0     0     0     0     0     0     0     0     0 \n",
       " 1088  1100  1101  1105  1110  1113  1115  1121  1122  1126  1133  1135  1136 \n",
       "    0     0     0     0     0     0     0     0     0     0     0     0     0 \n",
       " 1137  1141  1142  1144  1152  1159  1162  1163  1164  1166  1170  1175  1178 \n",
       "    0     0     0     0     0     0     0     0     0     0     0     0     0 \n",
       " 1181  1182  1190  1198  1206  1212  1216  1217  1222  1232  1233  1235  1239 \n",
       "    0     0     0     0     0     0     0     0     0     0     0     0     0 \n",
       " 1243  1244  1246  1249  1250  1253  1256  1257  1259  1260  1264  1266  1268 \n",
       "    0     0     0     0     0     0     0     0     0     0     0     0     0 \n",
       " 1272  1279  1282  1283  1290  1293  1295  1296  1304  1310  1311  1312  1314 \n",
       "    0     0     0     0     0     0     0     0     0     0     0     0     0 \n",
       " 1316  1319  1320  1322  1325  1326  1327  1330  1333  1334  1335  1338  1340 \n",
       "    0     0     0     0     0     0     0     0     0     0     0     0     0 \n",
       " 1344  1347  1350  1355  1356  1361  1364  1365  1367  1372  1374  1375  1382 \n",
       "    0     0     0     0     0     0     0     0     0     0     0     0     0 \n",
       " 1385  1387  1393  1403  1415  1416  1425  1429  1435  1439  1441  1446  1447 \n",
       "    0     0     0     0     0     0     0     0     0     0     0     0     0 \n",
       " 1449  1450  1454  1459  1460  1463  1464  1465  1467  1471  1476  1477  1478 \n",
       "    0     0     0     0     0     0     0     0     0     0     0     0     0 \n",
       " 1482  1484  1496  1498  1506  1507  1509  1512  1517  1519  1520  1521  1522 \n",
       "    0     0     0     0     0     0     0     0     0     0     0     0     0 \n",
       " 1529  1534  1535  1537  1541  1543  1544  1546  1553  1554  1555  1557  1559 \n",
       "    0     0     0     0     0     0     0     0     0     0     0     0     0 \n",
       " 1562  1567  1576  1577  1580  1581  1583  1584  1590  1595  1606  1609  1611 \n",
       "    0     0     0     0     0     0     0     0     0     0     0     0     0 \n",
       " 1612  1613  1618  1619  1621  1622  1624  1626  1628  1630  1632  1634  1635 \n",
       "    0     0     0     0     0     0     0     0     0     0     0     0     0 \n",
       " 1640  1653  1657  1658  1660  1667  1672  1674  1675  1682  1684  1685  1687 \n",
       "    0     0     0     0     0     0     0     0     0     0     0     0     0 \n",
       " 1688  1690  1693  1696  1698  1702  1710  1712  1713  1714  1717  1722  1724 \n",
       "    0     0     0     0     0     0     0     0     0     0     0     0     0 \n",
       " 1727  1732  1740  1742  1749  1751  1758  1763  1775  1787  1794  1797  1802 \n",
       "    0     0     0     0     0     0     0     0     0     0     0     0     0 \n",
       " 1803  1804  1805  1810  1813  1818  1819  1822  1823  1824  1826  1827  1833 \n",
       "    0     0     0     0     0     0     0     0     0     0     0     0     0 \n",
       " 1835  1836  1837  1841  1843  1845  1855  1857  1859  1862  1864  1866  1869 \n",
       "    0     0     0     0     0     0     0     0     0     0     0     0     0 \n",
       " 1875  1878  1879  1881  1882  1885  1886  1892  1893  1896  1898  1899  1901 \n",
       "    0     0     0     0     0     0     0     0     0     0     0     0     0 \n",
       " 1912  1918  1919  1925  1928  1930  1936  1939  1951  1955  1958  1961  1962 \n",
       "    0     0     0     0     0     0     0     0     0     0     0     0     0 \n",
       " 1964  1966  1970  1971  1979  1982  1985  1986  1988  1993  1994  1995  1997 \n",
       "    0     0     0     0     0     0     0     0     0     0     0     0     0 \n",
       " 2000  2010  2015  2023  2024  2025  2026  2033  2041  2045  2052  2054  2055 \n",
       "    0     0     0     0     0     0     0     0     0     0     0     0     0 \n",
       " 2060  2062  2064  2065  2076  2083  2086  2088  2089  2093  2094  2095  2097 \n",
       "    0     0     0     0     0     0     0     0     0     0     0     0     0 \n",
       " 2098  2103  2105  2108  2117  2120  2128  2129  2140  2142  2144  2150  2152 \n",
       "    0     0     0     0     0     0     0     0     0     0     0     0     0 \n",
       " 2155  2156  2157  2159  2173  2175  2176  2182  2184  2187  2190  2192  2195 \n",
       "    0     0     0     0     0     0     0     0     0     0     0     0     0 \n",
       " 2196  2200  2204  2206  2208  2212  2215  2218  2222  2223  2224  2229  2230 \n",
       "    0     0     0     0     0     0     0     0     0     0     0     0     0 \n",
       " 2237  2239  2245  2249  2251  2260  2262  2263  2264  2265  2267  2271  2281 \n",
       "    0     0     0     0     0     0     0     0     0     0     0     0     0 \n",
       " 2285  2287  2289  2291  2295  2296  2297  2298  2299  2302  2304  2306  2308 \n",
       "    0     0     0     0     0     0     0     0     0     0     0     0     0 \n",
       " 2310  2316  2326  2327  2330  2333  2335  2336  2337  2343  2344  2345  2348 \n",
       "    0     0     0     0     0     0     0     0     0     0     0     0     0 \n",
       " 2354  2355  2359  2360  2361  2362  2363  2369  2376  2377  2383  2384  2385 \n",
       "    0     0     0     0     0     0     0     0     0     0     0     0     0 \n",
       " 2386  2398  2399  2403  2405  2407  2408  2416  2418  2422  2428  2429  2433 \n",
       "    0     0     0     0     0     0     0     0     0     0     0     0     0 \n",
       " 2434  2439  2440  2445  2447  2449  2451  2455  2461  2468  2470  2476  2479 \n",
       "    0     0     0     0     0     0     0     0     0     0     0     0     0 \n",
       " 2480  2481  2482  2483  2485  2487  2490  2493  2497  2507  2508  2509  2516 \n",
       "    0     0     0     0     0     0     0     0     0     0     0     0     0 \n",
       " 2519  2520  2523  2524  2529  2533  2534  2543  2545  2548  2553  2563  2564 \n",
       "    0     0     0     0     0     0     0     0     0     0     0     0     0 \n",
       " 2566  2571  2581  2587  2588  2589  2591  2594  2598  2606  2615  2620  2622 \n",
       "    0     0     0     0     0     0     0     0     0     0     0     0     0 \n",
       " 2623  2624  2626  2627  2629  2631  2632  2635  2637  2640  2642  2647  2648 \n",
       "    0     0     0     0     0     0     0     0     0     0     0     0     0 \n",
       " 2649  2652  2653  2654  2658  2667  2677  2681  2682  2683  2688  2691  2705 \n",
       "    0     0     0     0     0     0     0     0     0     0     0     0     0 \n",
       " 2711  2714  2715  2716  2718  2719  2720  2723  2727  2733  2734  2735  2736 \n",
       "    0     0     0     0     0     0     0     0     0     0     0     0     0 \n",
       " 2744  2749  2751  2753  2754  2757  2760  2762  2766  2767  2771  2779  2780 \n",
       "    0     0     0     0     0     0     0     0     0     0     0     0     0 \n",
       " 2781  2785  2787  2794  2804  2806  2809  2813  2814  2821  2822  2825  2826 \n",
       "    0     0     0     0     0     0     0     0     0     0     0     0     0 \n",
       " 2828  2834  2835  2843  2847  2850  2856  2857  2861  2862  2864  2865  2866 \n",
       "    0     0     0     0     0     0     0     0     0     0     0     0     0 \n",
       " 2872  2876  2878  2881  2885  2887  2888  2894  2895  2900  2901  2904  2907 \n",
       "    0     0     0     0     0     0     0     0     0     0     0     0     0 \n",
       " 2908  2915  2919  2928  2929  2930  2936  2939  2942  2947  2951  2953  2955 \n",
       "    0     0     0     0     0     0     0     0     0     0     0     0     0 \n",
       " 2958  2960  2962  2966  2970  2972  2973  2977  2978  2979  2980  2986  2993 \n",
       "    0     0     0     0     0     0     0     0     0     0     0     0     0 \n",
       " 2994  2998  3001  3002  3003  3004  3007  3008  3010  3011  3012  3013  3016 \n",
       "    0     0     0     0     0     0     0     0     0     0     0     0     0 \n",
       " 3017  3018  3021  3025  3026  3027  3029  3034  3035  3036  3040  3042  3044 \n",
       "    0     0     0     0     0     0     0     0     0     0     0     0     0 \n",
       " 3045  3048  3054  3056  3060  3061  3064  3074  3079  3088  3092  3101  3102 \n",
       "    0     0     0     0     0     0     0     0     0     0     0     0     0 \n",
       " 3103  3105  3107  3110  3112  3113  3120  3121  3122  3127  3128  3134  3137 \n",
       "    0     0     0     0     0     0     0     0     0     0     0     0     0 \n",
       " 3139  3141  3142  3147  3150  3153  3155  3156  3157  3158  3160  3161  3163 \n",
       "    0     0     0     0     0     0     0     0     0     0     0     0     0 \n",
       " 3165  3166  3177  3178  3180  3183  3188  3192  3193  3196  3197  3202  3206 \n",
       "    0     0     0     0     0     0     0     0     0     0     0     0     0 \n",
       " 3215  3223  3224  3227  3230  3239  3240  3241  3243  3245  3246  3247  3248 \n",
       "    0     0     0     0     0     0     0     0     0     0     0     0     0 \n",
       " 3251  3253  3254  3256  3257  3260  3263  3266  3271  3278  3279  3280  3282 \n",
       "    0     0     0     0     0     0     0     0     0     0     0     0     0 \n",
       " 3285  3286  3287  3295  3297  3299  3301  3303  3310  3311  3312  3313  3317 \n",
       "    0     0     0     0     0     0     0     0     0     0     0     0     0 \n",
       " 3320  3322  3329  3332  3334  3341  3342  3343  3344  3345  3347  3348  3349 \n",
       "    0     0     0     0     0     0     0     0     0     0     0     0     0 \n",
       " 3350  3351  3357  3360  3361  3366  3367  3369  3370  3374  3375  3376  3379 \n",
       "    0     0     0     0     0     0     0     0     0     0     0     0     0 \n",
       " 3386  3388  3394  3396  3397  3398  3399  3401  3408  3410  3412  3414  3415 \n",
       "    0     0     0     0     0     0     0     0     0     0     0     0     0 \n",
       " 3416  3423  3424  3426  3428  3429  3431  3433  3446  3448  3450  3451  3452 \n",
       "    0     0     0     0     0     0     0     0     0     0     0     0     0 \n",
       " 3454  3458  3460  3461  3466  3469  3473  3477  3483  3484  3487  3488  3489 \n",
       "    0     0     0     0     0     0     0     0     0     0     0     0     0 \n",
       " 3490  3491  3494  3496  3500  3502  3504  3511  3512  3517  3521  3525  3527 \n",
       "    0     0     0     0     0     0     0     0     0     0     0     0     0 \n",
       " 3539  3543  3544  3552  3558  3559  3561  3563  3568  3570  3572  3577  3579 \n",
       "    0     0     0     0     0     0     0     0     0     0     0     0     0 \n",
       " 3582  3583  3591  3599  3600  3604  3610  3612  3617  3618  3621  3624  3634 \n",
       "    0     0     0     0     0     0     0     0     0     0     0     0     0 \n",
       " 3635  3636  3638  3649  3652  3656  3660  3666  3675  3679  3683  3684  3686 \n",
       "    0     0     0     0     0     0     0     0     0     0     0     0     0 \n",
       " 3687  3689  3696  3699  3704  3709  3713  3714  3717  3721  3725  3727  3728 \n",
       "    0     0     0     0     0     0     0     0     0     0     0     0     0 \n",
       " 3729  3734  3735  3739  3740  3744  3746  3749  3751  3754  3773  3776  3780 \n",
       "    0     0     0     0     0     0     0     0     0     0     0     0     0 \n",
       " 3782  3783  3786  3791  3794  3800  3806  3807  3811  3814  3815  3816  3817 \n",
       "    0     0     0     0     0     0     0     0     0     0     0     0     0 \n",
       " 3819  3820  3822  3823  3827  3829  3830  3831  3834  3841  3844  3848  3854 \n",
       "    0     0     0     0     0     0     0     0     0     0     0     0     0 \n",
       " 3856  3859  3861  3863  3866  3869  3871  3880  3883  3888  3889  3894  3898 \n",
       "    0     0     0     0     0     0     0     0     0     0     0     0     0 \n",
       " 3904  3905  3908  3911  3914  3920  3921  3922  3924  3925  3929  3930  3934 \n",
       "    0     0     0     0     0     0     0     0     0     0     0     0     0 \n",
       " 3937  3938  3944  3945  3947  3953  3956  3957  3958  3959  3961  3965  3975 \n",
       "    0     0     0     0     0     0     0     0     0     0     0     0     0 \n",
       " 3979  3983  3986  3987  3996  3999  4000  4001  4005  4014  4017  4023  4031 \n",
       "    0     0     0     0     0     0     0     0     0     0     0     0     0 \n",
       " 4035  4037  4047  4050  4052  4054  4055  4057  4065  4066  4072  4073  4078 \n",
       "    0     0     0     0     0     0     0     0     0     0     0     0     0 \n",
       " 4085  4090  4095  4098  4100  4102  4104  4106  4111  4113  4116  4119  4120 \n",
       "    0     0     0     0     0     0     0     0     0     0     0     0     0 \n",
       " 4125  4126  4127  4128  4129  4131  4137  4138  4141  4143  4144  4145  4148 \n",
       "    0     0     0     0     0     0     0     0     0     0     0     0     0 \n",
       " 4152  4158  4164  4171  4174  4178  4183  4185  4187  4190  4191  4193  4194 \n",
       "    0     0     0     0     0     0     0     0     0     0     0     0     0 \n",
       " 4195  4209  4215  4219  4224  4233  4236  4241  4243  4247  4248  4249  4261 \n",
       "    0     0     0     0     0     0     0     0     0     0     0     0     0 \n",
       " 4266  4277  4283  4290  4291  4295  4296  4300  4301  4303  4309  4312  4314 \n",
       "    0     0     0     0     0     0     0     0     0     0     0     0     0 \n",
       " 4315  4320  4321  4325  4330  4342  4345  4353  4355  4356  4358  4365  4370 \n",
       "    0     0     0     0     0     0     0     0     0     0     0     0     0 \n",
       " 4374  4379  4381  4382  4390  4394  4403  4405  4407  4414  4417  4419  4428 \n",
       "    0     0     0     0     0     0     0     0     0     0     0     0     0 \n",
       " 4437  4439  4440  4447  4451  4452  4453  4454  4455  4456  4458  4459  4461 \n",
       "    0     0     0     0     0     0     0     0     0     0     0     0     0 \n",
       " 4465  4469  4478  4481  4482  4485  4487  4488  4490  4491  4492  4496  4503 \n",
       "    0     0     0     0     0     0     0     0     0     0     0     0     0 \n",
       " 4504  4509  4510  4512  4515  4520  4522  4528  4529  4533  4534  4536  4538 \n",
       "    0     0     0     0     0     0     0     0     0     0     0     0     0 \n",
       " 4545  4546  4547  4548  4552  4553  4555  4563  4565  4566  4570  4571  4572 \n",
       "    0     0     0     0     0     0     0     0     0     0     0     0     0 \n",
       " 4576  4579  4581  4583  4586  4589  4590  4592  4599  4607  4612  4616  4618 \n",
       "    0     0     0     0     0     0     0     0     0     0     0     0     0 \n",
       " 4619  4620  4627  4628  4630  4632  4636  4641  4652  4655  4662  4665  4667 \n",
       "    0     0     0     0     0     0     0     0     0     0     0     0     0 \n",
       " 4670  4674  4679  4680  4697  4703  4705  4708  4709  4713  4716  4717  4729 \n",
       "    0     0     0     0     0     0     0     0     0     0     0     0     0 \n",
       " 4730  4731  4737  4739  4740  4741  4742  4744  4748  4750  4758  4760  4768 \n",
       "    0     0     0     0     0     0     0     0     0     0     0     0     0 \n",
       " 4772  4774  4775  4776  4777  4778  4780  4782  4783  4784  4788  4796  4797 \n",
       "    0     0     0     0     0     0     0     0     0     0     0     0     0 \n",
       " 4798  4803  4804  4814  4815  4817  4824  4826  4828  4830  4838  4841  4843 \n",
       "    0     0     0     0     0     0     0     0     0     0     0     0     0 \n",
       " 4849  4850  4853  4857  4858  4864  4868  4869  4871  4876  4877  4878  4881 \n",
       "    0     0     0     0     0     0     0     0     0     0     0     0     0 \n",
       " 4883  4887  4889  4894  4896  4898  4903  4913  4915  4921  4926  4934  4936 \n",
       "    0     0     0     0     0     0     0     0     0     0     0     0     0 \n",
       " 4937  4939  4942  4943  4946  4947  4949  4953  4955  4959  4963  4964  4965 \n",
       "    0     0     0     0     0     0     0     0     0     0     0     0     0 \n",
       " 4967  4968  4979  4984  4986  4988  4990  4992  4994  5007  5008  5021  5027 \n",
       "    0     0     0     0     0     0     0     0     0     0     0     0     0 \n",
       " 5030  5032  5034  5038  5039  5040  5044  5045  5047  5051  5052  5058  5061 \n",
       "    0     0     0     0     0     0     0     0     0     0     0     0     0 \n",
       " 5062  5073  5075  5078  5080  5088  5090  5091  5093  5099  5104  5105  5107 \n",
       "    0     0     0     0     0     0     0     0     0     0     0     0     0 \n",
       " 5108  5109  5110  5115  5118  5126  5127  5130  5131  5132  5134  5136  5137 \n",
       "    0     0     0     0     0     0     0     0     0     0     0     0     0 \n",
       " 5138  5140  5150  5157  5163  5168  5183  5184  5198  5204  5205  5215  5217 \n",
       "    0     0     0     0     0     0     0     0     0     0     0     0     0 \n",
       " 5221  5227  5229  5235  5238  5239  5241  5243  5244  5249  5254  5264  5270 \n",
       "    0     0     0     0     0     0     0     0     0     0     0     0     0 \n",
       " 5272  5274  5275  5289  5293  5294  5301  5302  5305  5306  5307  5308  5310 \n",
       "    0     0     0     0     0     0     0     0     0     0     0     0     0 \n",
       " 5311  5312  5313  5319  5322  5324  5326  5327  5335  5345  5349  5354  5357 \n",
       "    0     0     0     0     0     0     0     0     0     0     0     0     0 \n",
       " 5361  5362  5363  5364  5368  5370  5373  5382  5383  5384  5385  5388  5389 \n",
       "    0     0     0     0     0     0     0     0     0     0     0     0     0 \n",
       " 5391  5395  5401  5407  5408  5409  5414  5417  5418  5424  5425  5432  5437 \n",
       "    0     0     0     0     0     0     0     0     0     0     0     0     0 \n",
       " 5439  5442  5446  5448  5450  5452  5460  5461  5463  5464  5466  5467  5471 \n",
       "    0     0     0     0     0     0     0     0     0     0     0     0     0 \n",
       " 5472  5476  5477  5480  5482  5483  5485  5486  5488  5493  5499  5500  5501 \n",
       "    0     0     0     0     0     0     0     0     0     0     0     0     0 \n",
       " 5503  5510  5519  5523  5524  5525  5527  5533  5537  5546  5547  5551  5552 \n",
       "    0     0     0     0     0     0     0     0     0     0     0     0     0 \n",
       " 5553  5557  5559  5561  5563  5565  5575  5576  5580  5581  5583  5587  5593 \n",
       "    0     0     0     0     0     0     0     0     0     0     0     0     0 \n",
       " 5595  5597  5599  5603  5608  5618  5619  5620  5622  5625  5629  5630  5631 \n",
       "    0     0     0     0     0     0     0     0     0     0     0     0     0 \n",
       " 5632  5634  5635  5637  5638  5639  5641  5642  5648  5662  5664  5667  5669 \n",
       "    0     0     0     0     0     0     0     0     0     0     0     0     0 \n",
       " 5672  5675  5677  5678  5679  5680  5682  5685  5688  5691  5696  5697  5698 \n",
       "    0     0     0     0     0     0     0     0     0     0     0     0     0 \n",
       " 5701  5702  5705  5709  5712  5716  5717  5720  5724  5730  5734  5739  5745 \n",
       "    0     0     0     0     0     0     0     0     0     0     0     0     0 \n",
       " 5752  5756  5758  5760  5764  5767  5773  5774  5779  5780  5782  5787  5789 \n",
       "    0     0     0     0     0     0     0     0     0     0     0     0     0 \n",
       " 5792  5794  5796  5799  5800  5802  5803  5807  5809  5811  5814  5818  5821 \n",
       "    0     0     0     0     0     0     0     0     0     0     0     0     0 \n",
       " 5827  5829  5831  5834  5837  5851  5856  5857  5863  5874  5875  5876  5878 \n",
       "    0     0     0     0     0     0     0     0     0     0     0     0     0 \n",
       " 5883  5884  5888  5892  5893  5896  5900  5903  5904  5906  5907  5910  5911 \n",
       "    0     0     0     0     0     0     0     0     0     0     0     0     0 \n",
       " 5917  5921  5924  5932  5939  5940  5955  5956  5960  5962  5963  5964  5966 \n",
       "    0     0     0     0     0     0     0     0     0     0     0     0     0 \n",
       " 5971  5977  5979  5980  5981  5983  5987  5989  5995  5996  6003  6004  6006 \n",
       "    0     0     0     0     0     0     0     0     0     0     0     0     0 \n",
       " 6010  6011  6012  6013  6016  6021  6022  6023  6024  6025  6027  6031  6035 \n",
       "    0     0     0     0     0     0     0     0     0     0     0     0     0 \n",
       " 6036  6040  6042  6043  6044  6045  6048  6049  6050  6051  6052  6059  6064 \n",
       "    0     0     0     0     0     0     0     0     0     0     0     0     0 \n",
       " 6077  6078  6079  6082  6084  6088  6090  6092  6097  6105  6110  6120  6123 \n",
       "    0     0     0     0     0     0     0     0     0     0     0     0     0 \n",
       " 6130  6132  6135  6137  6147  6149  6154  6155  6158  6159  6160  6161  6162 \n",
       "    0     0     0     0     0     0     0     0     0     0     0     0     0 \n",
       " 6168  6170  6172  6178  6179  6181  6183  6191  6192  6194  6195  6197  6199 \n",
       "    0     0     0     0     0     0     0     0     0     0     0     0     0 \n",
       " 6210  6213  6214  6217  6222  6225  6232  6234  6235  6236  6238  6245  6246 \n",
       "    0     0     0     0     0     0     0     0     0     0     0     0     0 \n",
       " 6247  6250  6251  6255  6257  6264  6269  6270  6272  6274  6275  6278  6284 \n",
       "    0     0     0     0     0     0     0     0     0     0     0     0     0 \n",
       " 6285  6289  6290  6296  6299  6303  6309  6312  6316  6318  6329  6333  6334 \n",
       "    0     0     0     0     0     0     0     0     0     0     0     0     0 \n",
       " 6338  6343  6348  6351  6352  6360  6361  6362  6363  6366  6368  6375  6379 \n",
       "    0     0     0     0     0     0     0     0     0     0     0     0     0 \n",
       " 6387  6390  6396  6401  6402  6408  6410  6411  6415  6417  6419  6420  6422 \n",
       "    0     0     0     0     0     0     0     0     0     0     0     0     0 \n",
       " 6423  6429  6433  6436  6438  6439  6442  6443  6453  6468  6476  6478  6479 \n",
       "    0     0     0     0     0     0     0     0     0     0     0     0     0 \n",
       " 6483  6485  6489  6490  6493  6499  6501  6503  6505  6508  6513  6515  6521 \n",
       "    0     0     0     0     0     0     0     0     0     0     0     0     0 \n",
       " 6530  6532  6534  6543  6544  6554  6557  6565  6569  6570  6575  6580  6581 \n",
       "    0     0     0     0     0     0     0     0     0     0     0     0     0 \n",
       " 6584  6585  6587  6588  6589  6595  6597  6598  6600  6604  6611  6614  6619 \n",
       "    0     0     0     0     0     0     0     0     0     0     0     0     0 \n",
       " 6630  6635  6642  6647  6648  6650  6651  6654  6657  6659  6660  6662  6666 \n",
       "    0     0     0     0     0     0     0     0     0     0     0     0     0 \n",
       " 6673  6679  6680  6684  6691  6695  6708  6709  6713  6714  6716  6725  6726 \n",
       "    0     0     0     0     0     0     0     0     0     0     0     0     0 \n",
       " 6727  6732  6733  6738  6741  6743  6744  6745  6746  6747  6748  6749  6760 \n",
       "    0     0     0     0     0     0     0     0     0     0     0     0     0 \n",
       " 6765  6768  6773  6775  6780  6785  6792  6793  6796  6798  6803  6806  6811 \n",
       "    0     0     0     0     0     0     0     0     0     0     0     0     0 \n",
       " 6813  6815  6816  6817  6820  6821  6823  6828  6832  6835  6836  6844  6853 \n",
       "    0     0     0     0     0     0     0     0     0     0     0     0     0 \n",
       " 6861  6862  6865  6867  6875  6878  6881  6885  6897  6898  6902  6904  6908 \n",
       "    0     0     0     0     0     0     0     0     0     0     0     0     0 \n",
       " 6911  6913  6917  6919  6924  6927  6936  6943  6945  6947  6949  6950  6951 \n",
       "    0     0     0     0     0     0     0     0     0     0     0     0     0 \n",
       " 6954  6958  6962  6976  6979  6984  6985  6990  6994  6995  6996  6999  7001 \n",
       "    0     0     0     0     0     0     0     0     0     0     0     0     0 \n",
       " 7005  7011  7013  7015  7018  7022  7023  7026  7031  7032  7036  7041  7044 \n",
       "    0     0     0     0     0     0     0     0     0     0     0     0     0 \n",
       " 7045  7050  7052  7053  7054  7063  7066  7074  7080  7081  7082  7083  7085 \n",
       "    0     0     0     0     0     0     0     0     0     0     0     0     0 \n",
       " 7088  7089  7092  7096  7097  7103  7104  7108  7109  7113  7117  7119  7123 \n",
       "    0     0     0     0     0     0     0     0     0     0     0     0     0 \n",
       " 7125  7130  7133  7135  7138  7145  7147  7150  7155  7157  7158  7159  7162 \n",
       "    0     0     0     0     0     0     0     0     0     0     0     0     0 \n",
       " 7165  7167  7170  7175  7180  7182  7189  7191  7193  7199  7212  7219  7223 \n",
       "    0     0     0     0     0     0     0     0     0     0     0     0     0 \n",
       " 7228  7235  7237  7244  7251  7252  7263  7265  7268  7270  7275  7276  7277 \n",
       "    0     0     0     0     0     0     0     0     0     0     0     0     0 \n",
       " 7281  7282  7283  7286  7288  7297  7298  7305  7306  7309  7318  7319  7324 \n",
       "    0     0     0     0     0     0     0     0     0     0     0     0     0 \n",
       " 7328  7330  7333  7336  7339  7343  7345  7349  7351  7357  7359  7365  7366 \n",
       "    0     0     0     0     0     0     0     0     0     0     0     0     0 \n",
       " 7372  7374  7376  7378  7384  7387  7388  7390  7393  7396  7397  7402  7404 \n",
       "    0     0     0     0     0     0     0     0     0     0     0     0     0 \n",
       " 7405  7406  7409  7410  7411  7421  7425  7428  7433  7442  7452  7453  7454 \n",
       "    0     0     0     0     0     0     0     0     0     0     0     0     0 \n",
       " 7456  7458  7461  7462  7465  7468  7472  7473  7479  7482  7487  7491  7493 \n",
       "    0     0     0     0     0     0     0     0     0     0     0     0     0 \n",
       " 7495  7496  7498  7503  7506  7508  7512  7514  7519  7521  7525  7538  7549 \n",
       "    0     0     0     0     0     0     0     0     0     0     0     0     0 \n",
       " 7551  7553  7555  7558  7559  7562  7571  7583  7585  7586  7588  7601  7603 \n",
       "    0     0     0     0     0     0     0     0     0     0     0     0     0 \n",
       " 7604  7615  7619  7621  7622  7631  7632  7635  7636  7638  7640  7646  7650 \n",
       "    0     0     0     0     0     0     0     0     0     0     0     0     0 \n",
       " 7653  7654  7655  7656  7659  7660  7662  7664  7665  7667  7679  7684  7685 \n",
       "    0     0     0     0     0     0     0     0     0     0     0     0     0 \n",
       " 7689  7693  7695  7701  7702  7705  7706  7710  7713  7715  7716  7717  7721 \n",
       "    0     0     0     0     0     0     0     0     0     0     0     0     0 \n",
       " 7734  7736  7737  7740  7743  7744  7745  7747  7749  7754  7756  7759  7761 \n",
       "    0     0     0     0     0     0     0     0     0     0     0     0     0 \n",
       " 7762  7766  7768  7770  7772  7774  7779  7788  7789  7802  7805  7808  7809 \n",
       "    0     0     0     0     0     0     0     0     0     0     0     0     0 \n",
       " 7810  7816  7822  7824  7833  7834  7836  7839  7840  7841  7849  7861  7863 \n",
       "    0     0     0     0     0     0     0     0     0     0     0     0     0 \n",
       " 7864  7867  7878  7879  7882  7883  7885  7887  7888  7891  7901  7906  7907 \n",
       "    0     0     0     0     0     0     0     0     0     0     0     0     0 \n",
       " 7908  7915  7919  7921  7925  7927  7929  7933  7937  7938  7940  7941  7944 \n",
       "    0     0     0     0     0     0     0     0     0     0     0     0     0 \n",
       " 7945  7946  7955  7959  7960  7963  7968  7971  7972  7976  7978  7980  7982 \n",
       "    0     0     0     0     0     0     0     0     0     0     0     0     0 \n",
       " 7992  7994  8007  8008  8010  8012  8017  8018  8029  8031  8035  8041  8042 \n",
       "    0     0     0     0     0     0     0     0     0     0     0     0     0 \n",
       " 8044  8051  8053  8057  8058  8066  8072  8073  8076  8080  8088  8090  8092 \n",
       "    0     0     0     0     0     0     0     0     0     0     0     0     0 \n",
       " 8093  8101  8104  8107  8110  8111  8114  8120  8121  8123  8125  8128  8133 \n",
       "    0     0     0     0     0     0     0     0     0     0     0     0     0 \n",
       " 8138  8141  8142  8145  8146  8151  8152  8155  8160  8165  8166  8167  8168 \n",
       "    0     0     0     0     0     0     0     0     0     0     0     0     0 \n",
       " 8169  8170  8171  8173  8174  8176  8177  8180  8181  8184  8186  8198  8199 \n",
       "    0     0     0     0     0     0     0     0     0     0     0     0     0 \n",
       " 8201  8202  8204  8206  8209  8210  8212  8214  8218  8220  8224  8236  8238 \n",
       "    0     0     0     0     0     0     0     0     0     0     0     0     0 \n",
       " 8245  8246  8248  8249  8250  8253  8255  8256  8257  8260  8263  8266  8267 \n",
       "    0     0     0     0     0     0     0     0     0     0     0     0     0 \n",
       " 8268  8270  8271  8272  8273  8276  8278  8279  8288  8289  8291  8295  8296 \n",
       "    0     0     0     0     0     0     0     0     0     0     0     0     0 \n",
       " 8299  8306  8309  8314  8318  8321  8324  8325  8328  8333  8340  8341  8343 \n",
       "    0     0     0     0     0     0     0     0     0     0     0     0     0 \n",
       " 8346  8348  8355  8357  8358  8367  8369  8370  8372  8375  8378  8380  8386 \n",
       "    0     0     0     0     0     0     0     0     0     0     0     0     0 \n",
       " 8389  8390  8391  8398  8400  8404  8405  8410  8413  8416  8417  8418  8420 \n",
       "    0     0     0     0     0     0     0     0     0     0     0     0     0 \n",
       " 8428  8439  8442  8443  8447  8448  8449  8451  8452  8459  8461  8472  8473 \n",
       "    0     0     0     0     0     0     0     0     0     0     0     0     0 \n",
       " 8476  8477  8481  8484  8485  8488  8490  8493  8494  8495  8501  8510  8512 \n",
       "    0     0     0     0     0     0     0     0     0     0     0     0     0 \n",
       " 8517  8520  8521  8522  8528  8531  8538  8545  8549  8554  8555  8559  8560 \n",
       "    0     0     0     0     0     0     0     0     0     0     0     0     0 \n",
       " 8565  8568  8570  8572  8575  8579  8583  8584  8586  8588  8589  8591  8592 \n",
       "    0     0     0     0     0     0     0     0     0     0     0     0     0 \n",
       " 8595  8596  8597  8598  8599  8604  8609  8610  8613  8615  8617  8621  8622 \n",
       "    0     0     0     0     0     0     0     0     0     0     0     0     0 \n",
       " 8626  8630  8634  8637  8642  8646  8647  8649  8650  8655  8657  8662  8663 \n",
       "    0     0     0     0     0     0     0     0     0     0     0     0     0 \n",
       " 8666  8671  8674  8675  8676  8679  8680  8681  8684  8686  8689  8694  8702 \n",
       "    0     0     0     0     0     0     0     0     0     0     0     0     0 \n",
       " 8706  8719  8726  8728  8731  8733  8734  8737  8740  8741  8742  8748  8750 \n",
       "    0     0     0     0     0     0     0     0     0     0     0     0     0 \n",
       " 8755  8756  8760  8774  8777  8778  8781  8782  8783  8786  8788  8789  8790 \n",
       "    0     0     0     0     0     0     0     0     0     0     0     0     0 \n",
       " 8792  8794  8797  8809  8810  8813  8824  8829  8835  8843  8847  8849  8851 \n",
       "    0     0     0     0     0     0     0     0     0     0     0     0     0 \n",
       " 8856  8863  8864  8866  8873  8874  8880  8882  8889  8893  8894  8895  8897 \n",
       "    0     0     0     0     0     0     0     0     0     0     0     0     0 \n",
       " 8901  8903  8905  8913  8916  8918  8920  8925  8926  8927  8941  8944  8947 \n",
       "    0     0     0     0     0     0     0     0     0     0     0     0     0 \n",
       " 8952  8956  8961  8964  8965  8966  8967  8968  8970  8972  8973  8975  8976 \n",
       "    0     0     0     0     0     0     0     0     0     0     0     0     0 \n",
       " 8978  8988  8990  8993  8995  9000  9007  9010  9030  9032  9033  9035  9036 \n",
       "    0     0     0     0     0     0     0     0     0     0     0     0     0 \n",
       " 9038  9039  9040  9042  9044  9046  9048  9049  9051  9054  9055  9056  9057 \n",
       "    0     0     0     0     0     0     0     0     0     0     0     0     0 \n",
       " 9061  9064  9065  9067  9069  9075  9076  9077  9079  9085  9089  9092  9093 \n",
       "    0     0     0     0     0     0     0     0     0     0     0     0     0 \n",
       " 9095  9099  9101  9102  9103  9104  9108  9110  9112  9118  9119  9121  9122 \n",
       "    0     0     0     0     0     0     0     0     0     0     0     0     0 \n",
       " 9123  9126  9127  9142  9148  9154  9159  9164  9175  9177  9187  9190  9191 \n",
       "    0     0     0     0     0     0     0     0     0     0     0     0     0 \n",
       " 9192  9193  9194  9197  9198  9202  9203  9215  9217  9218  9220  9221  9223 \n",
       "    0     0     0     0     0     0     0     0     0     0     0     0     0 \n",
       " 9225  9227  9228  9231  9235  9239  9240  9241  9244  9247  9250  9252  9253 \n",
       "    0     0     0     0     0     0     0     0     0     0     0     0     0 \n",
       " 9255  9258  9260  9261  9265  9268  9269  9274  9279  9280  9282  9285  9287 \n",
       "    0     0     0     0     0     0     0     0     0     0     0     0     0 \n",
       " 9292  9295  9296  9297  9302  9303  9305  9307  9315  9324  9325  9326  9328 \n",
       "    0     0     0     0     0     0     0     0     0     0     0     0     0 \n",
       " 9330  9332  9335  9336  9338  9345  9351  9353  9355  9362  9367  9369  9372 \n",
       "    0     0     0     0     0     0     0     0     0     0     0     0     0 \n",
       " 9373  9375  9381  9387  9391  9401  9405  9406  9411  9413  9416  9420  9427 \n",
       "    0     0     0     0     0     0     0     0     0     0     0     0     0 \n",
       " 9433  9435  9438  9442  9446  9448  9452  9454  9456  9458  9460  9467  9472 \n",
       "    0     0     0     0     0     0     0     0     0     0     0     0     0 \n",
       " 9473  9476  9478  9480  9482  9486  9489  9491  9492  9494  9495  9498  9499 \n",
       "    0     0     0     0     0     0     0     0     0     0     0     0     0 \n",
       " 9501  9502  9505  9515  9521  9522  9523  9528  9529  9543  9545  9548  9549 \n",
       "    0     0     0     0     0     0     0     0     0     0     0     0     0 \n",
       " 9566  9568  9574  9575  9577  9579  9584  9587  9594  9595  9597  9600  9601 \n",
       "    0     0     0     0     0     0     0     0     0     0     0     0     0 \n",
       " 9602  9605  9607  9612  9617  9619  9626  9631  9632  9636  9641  9648  9653 \n",
       "    0     0     0     0     0     0     0     0     0     0     0     0     0 \n",
       " 9657  9661  9665  9666  9676  9677  9678  9685  9686  9696  9698  9703  9720 \n",
       "    0     0     0     0     0     0     0     0     0     0     0     0     0 \n",
       " 9721  9723  9726  9730  9733  9737  9738  9740  9743  9744  9747  9753  9755 \n",
       "    0     0     0     0     0     0     0     0     0     0     0     0     0 \n",
       " 9756  9757  9758  9759  9761  9772  9773  9778  9780  9784  9786  9788  9789 \n",
       "    0     0     0     0     0     0     0     0     0     0     0     0     0 \n",
       " 9793  9795  9798  9801  9802  9803  9809  9811  9814  9815  9816  9826  9834 \n",
       "    0     0     0     0     0     0     0     0     0     0     0     0     0 \n",
       " 9839  9854  9855  9858  9861  9864  9865  9870  9874  9875  9878  9879  9883 \n",
       "    0     0     0     0     0     0     0     0     0     0     0     0     0 \n",
       " 9885  9888  9892  9896  9900  9902  9905  9906  9907  9915  9918  9921  9922 \n",
       "    0     0     0     0     0     0     0     0     0     0     0     0     0 \n",
       " 9932  9934  9938  9941  9942  9947  9950  9953  9954  9956  9959  9960  9968 \n",
       "    0     0     0     0     0     0     0     0     0     0     0     0     0 \n",
       " 9969  9971  9974  9981  9983  9984  9985  9988  9997 10006 10012 10017 10021 \n",
       "    0     0     0     0     0     0     0     0     0     0     0     0     0 \n",
       "10027 10029 10030 10031 10032 10034 10039 10041 10042 10044 10047 10048 10052 \n",
       "    0     0     0     0     0     0     0     0     0     0     0     0     0 \n",
       "10055 10056 10057 10058 10064 10065 10070 10073 10076 10078 10100 10105 10107 \n",
       "    0     0     0     0     0     0     0     0     0     0     0     0     0 \n",
       "10109 10110 10113 10118 10120 10122 10124 10127 10132 10134 10139 10140 10142 \n",
       "    0     0     0     0     0     0     0     0     0     0     0     0     0 \n",
       "10145 10148 10153 10155 10157 10161 10164 10165 10167 10176 10177 10181 10185 \n",
       "    0     0     0     0     0     0     0     0     0     0     0     0     0 \n",
       "10187 10188 10190 10191 10196 10197 10198 10204 10209 10210 10212 10213 10217 \n",
       "    0     0     0     0     0     0     0     0     0     0     0     0     0 \n",
       "10220 10223 10228 10236 10240 10243 10245 10257 10262 10263 10271 10275 10283 \n",
       "    0     0     0     0     0     0     0     0     0     0     0     0     0 \n",
       "10286 10288 10289 10292 10296 10303 10307 10308 10317 10318 10320 10322 10324 \n",
       "    0     0     0     0     0     0     0     0     0     0     0     0     0 \n",
       "10327 10334 10337 10338 10343 10344 10346 10347 10355 10356 10357 10360 10363 \n",
       "    0     0     0     0     0     0     0     0     0     0     0     0     0 \n",
       "10366 10369 10372 10377 10379 10382 10384 10385 10386 10388 10390 10392 10394 \n",
       "    0     0     0     0     0     0     0     0     0     0     0     0     0 \n",
       "10399 10403 10405 10406 10408 10414 10419 10427 10433 10434 10437 10440 10441 \n",
       "    0     0     0     0     0     0     0     0     0     0     0     0     0 \n",
       "10443 10447 10449 10455 10456 10459 10461 10463 10466 10470 10471 10472 10473 \n",
       "    0     0     0     0     0     0     0     0     0     0     0     0     0 \n",
       "10479 10482 10489 10491 10493 10494 10495 10496 10504 10507 10515 10525 10534 \n",
       "    0     0     0     0     0     0     0     0     0     0     0     0     0 \n",
       "10536 10547 10549 10554 10557 10565 10567 10570 10572 10583 10588 10591 10592 \n",
       "    0     0     0     0     0     0     0     0     0     0     0     0     0 \n",
       "10596 10598 10602 10603 10606 10608 10611 10612 10613 10615 10628 10633 10635 \n",
       "    0     0     0     0     0     0     0     0     0     0     0     0     0 \n",
       "10639 10640 10644 10647 10649 10655 10661 10663 10671 10673 10675 10678 10679 \n",
       "    0     0     0     0     0     0     0     0     0     0     0     0     0 \n",
       "10680 10682 10683 10690 10692 10694 10697 10698 10701 10702 10705 10714 10715 \n",
       "    0     0     0     0     0     0     0     0     0     0     0     0     0 \n",
       "10717 10720 10722 10725 10728 10731 10732 10733 10734 10736 10737 10741 10747 \n",
       "    0     0     0     0     0     0     0     0     0     0     0     0     0 \n",
       "10748 10750 10755 10757 10759 10760 10776 10777 10780 10781 10784 10788 10789 \n",
       "    0     0     0     0     0     0     0     0     0     0     0     0     0 \n",
       "10790 10791 10792 10794 10795 10798 10799 10803 10806 10810 10814 10815 10821 \n",
       "    0     0     0     0     0     0     0     0     0     0     0     0     0 \n",
       "10825 10828 10829 10837 10838 10840 10849 10851 10856 10876 10891 10892 10896 \n",
       "    0     0     0     0     0     0     0     0     0     0     0     0     0 \n",
       "10897 10898 10900 10901 10908 10911 10913 10923 10924 10936 10942 10943 10946 \n",
       "    0     0     0     0     0     0     0     0     0     0     0     0     0 \n",
       "10948 10952 10953 10954 10958 10959 10966 10969 10978 10979 10986 10989 10994 \n",
       "    0     0     0     0     0     0     0     0     0     0     0     0     0 \n",
       "10997 11002 11005 11006 11010 11011 11015 11017 11019 11025 11027 11033 11035 \n",
       "    0     0     0     0     0     0     0     0     0     0     0     0     0 \n",
       "11039 11051 11053 11062 11065 11066 11071 11074 11081 11084 11085 11087 11089 \n",
       "    0     0     0     0     0     0     0     0     0     0     0     0     0 \n",
       "11090 11101 11103 11107 11108 11110 11114 11115 11116 11121 11122 11124 11127 \n",
       "    0     0     0     0     0     0     0     0     0     0     0     0     0 \n",
       "11128 11131 11135 11143 11153 11155 11156 11159 11165 11167 11169 11170 11171 \n",
       "    0     0     0     0     0     0     0     0     0     0     0     0     0 \n",
       "11175 11176 11181 11185 11188 11191 11192 11194 11199 11200 11201 11202 11206 \n",
       "    0     0     0     0     0     0     0     0     0     0     0     0     0 \n",
       "11214 11217 11218 11221 11222 11224 11229 11231 11232 11233 11239 11241 11243 \n",
       "    0     0     0     0     0     0     0     0     0     0     0     0     0 \n",
       "11248 11256 11262 11266 11267 11270 11271 11275 11280 11285 11289 11291 11295 \n",
       "    0     0     0     0     0     0     0     0     0     0     0     0     0 \n",
       "11296 11298 11303 11307 11308 11309 11315 11317 11320 11321 11327 11328 11330 \n",
       "    0     0     0     0     0     0     0     0     0     0     0     0     0 \n",
       "11333 11334 11335 11337 11340 11344 11345 11347 11348 11353 11359 11362 11364 \n",
       "    0     0     0     0     0     0     0     0     0     0     0     0     0 \n",
       "11366 11370 11375 11385 11392 11394 11395 11397 11398 11400 11409 11415 11418 \n",
       "    0     0     0     0     0     0     0     0     0     0     0     0     0 \n",
       "11421 11428 11435 11437 11442 11443 11444 11447 11449 11453 11454 11461 11463 \n",
       "    0     0     0     0     0     0     0     0     0     0     0     0     0 \n",
       "11465 11468 11469 11472 11474 11475 11481 11485 11487 11492 11499 11506 11510 \n",
       "    0     0     0     0     0     0     0     0     0     0     0     0     0 \n",
       "11512 11513 11514 11516 11523 11531 11535 11536 11537 11539 11549 11550 11565 \n",
       "    0     0     0     0     0     0     0     0     0     0     0     0     0 \n",
       "11566 11567 11568 11569 11573 11580 11581 11584 11585 11591 11592 11594 11595 \n",
       "    0     0     0     0     0     0     0     0     0     0     0     0     0 \n",
       "11599 11600 11602 11605 11606 11608 11611 11612 11615 11623 11624 11625 11626 \n",
       "    0     0     0     0     0     0     0     0     0     0     0     0     0 \n",
       "11627 11629 11631 11635 11639 11640 11641 11642 11643 11649 11651 11658 11661 \n",
       "    0     0     0     0     0     0     0     0     0     0     0     0     0 \n",
       "11668 11669 11670 11671 11673 11674 11677 11678 11679 11680 11686 11688 11692 \n",
       "    0     0     0     0     0     0     0     0     0     0     0     0     0 \n",
       "11699 11700 11701 11703 11706 11708 11709 11712 11714 11721 11722 11724 11732 \n",
       "    0     0     0     0     0     0     0     0     0     0     0     0     0 \n",
       "11734 11736 11740 11743 11744 11745 11753 11755 11757 11760 11763 11764 11772 \n",
       "    0     0     0     0     0     0     0     0     0     0     0     0     0 \n",
       "11775 11783 11789 11790 11795 11798 11800 11804 11805 11808 11815 11820 11822 \n",
       "    0     0     0     0     0     0     0     0     0     0     0     0     0 \n",
       "11823 11825 11827 11829 11830 11833 11843 11847 11848 11849 11857 11862 11864 \n",
       "    0     0     0     0     0     0     0     0     0     0     0     0     0 \n",
       "11865 11868 11876 11881 11887 11888 11892 11893 11898 11904 11918 11926 11927 \n",
       "    0     0     0     0     0     0     0     0     0     0     0     0     0 \n",
       "11930 11931 11933 11935 11937 11938 11947 11958 11962 11964 11968 11970 11974 \n",
       "    0     0     0     0     0     0     0     0     0     0     0     0     0 \n",
       "11977 11978 11979 11982 11986 11988 11993 11996 12000 12001 12003 12009 12016 \n",
       "    0     0     0     0     0     0     0     0     0     0     0     0     0 \n",
       "12021 12022 12025 12029 12032 12034 12035 12040 12041 12044 12045 12046 12050 \n",
       "    0     0     0     0     0     0     0     0     0     0     0     0     0 \n",
       "12055 12056 12057 12062 12064 12068 12071 12078 12081 12087 12088 12097 12098 \n",
       "    0     0     0     0     0     0     0     0     0     0     0     0     0 \n",
       "12101 12114 12115 12118 12123 12124 12130 12134 12136 12137 12140 12142 12145 \n",
       "    0     0     0     0     0     0     0     0     0     0     0     0     0 \n",
       "12146 12152 12153 12155 12156 12158 12159 12162 12164 12176 12180 12184 12186 \n",
       "    0     0     0     0     0     0     0     0     0     0     0     0     0 \n",
       "12188 12192 12195 12198 12202 12203 12212 12213 12215 12216 12218 12226 12227 \n",
       "    0     0     0     0     0     0     0     0     0     0     0     0     0 \n",
       "12234 12235 12236 12245 12247 12250 12252 12257 12258 12262 12269 12271 12276 \n",
       "    0     0     0     0     0     0     0     0     0     0     0     0     0 \n",
       "12277 12283 12288 12292 12298 12302 12304 12305 12313 12317 12323 12326 12327 \n",
       "    0     0     0     0     0     0     0     0     0     0     0     0     0 \n",
       "12328 12329 12330 12332 12335 12339 12344 12346 12348 12351 12355 12361 12366 \n",
       "    0     0     0     0     0     0     0     0     0     0     0     0     0 \n",
       "12368 12370 12371 12373 12382 12384 12387 12388 12392 12396 12398 12399 12400 \n",
       "    0     0     0     0     0     0     0     0     0     0     0     0     0 \n",
       "12404 12406 12409 12411 12414 12417 12423 12430 12433 12442 12447 12448 12452 \n",
       "    0     0     0     0     0     0     0     0     0     0     0     0     0 \n",
       "12470 12472 12474 12477 12480 12481 12486 12490 12491 12494 12498 12499 12500 \n",
       "    0     0     0     0     0     0     0     0     0     0     0     0     0 \n",
       "12501 12510 12517 12523 12525 12526 12529 12532 12533 12538 12541 12547 12551 \n",
       "    0     0     0     0     0     0     0     0     0     0     0     0     0 \n",
       "12553 12557 12561 12565 12567 12569 12576 12577 12580 12584 12586 12590 12597 \n",
       "    0     0     0     0     0     0     0     0     0     0     0     0     0 \n",
       "12598 12601 12602 12603 12605 12607 12610 12616 12619 12620 12624 12628 12630 \n",
       "    0     0     0     0     0     0     0     0     0     0     0     0     0 \n",
       "12631 12633 12639 12643 12645 12646 12647 12648 12649 12655 12656 12658 12660 \n",
       "    0     0     0     0     0     0     0     0     0     0     0     0     0 \n",
       "12666 12667 12671 12676 12677 12678 12682 12687 12688 12689 12690 12694 12695 \n",
       "    0     0     0     0     0     0     0     0     0     0     0     0     0 \n",
       "12696 12697 12701 12702 12705 12717 12718 12721 12722 12725 12727 12737 12738 \n",
       "    0     0     0     0     0     0     0     0     0     0     0     0     0 \n",
       "12744 12746 12747 12748 12751 12752 12759 12761 12763 12764 12774 12776 12778 \n",
       "    0     0     0     0     0     0     0     0     0     0     0     0     0 \n",
       "12780 12784 12790 12793 12805 12814 12817 12818 12820 12821 12823 12832 12835 \n",
       "    0     0     0     0     0     0     0     0     0     0     0     0     0 \n",
       "12836 12839 12841 12842 12846 12853 12854 12856 12861 12866 12871 12872 12875 \n",
       "    0     0     0     0     0     0     0     0     0     0     0     0     0 \n",
       "12880 12883 12884 12885 12890 12891 12892 12893 12895 12897 12898 12899 12900 \n",
       "    0     0     0     0     0     0     0     0     0     0     0     0     0 \n",
       "12906 12908 12909 12911 12916 12918 12922 12926 12927 12931 12932 12936 12937 \n",
       "    0     0     0     0     0     0     0     0     0     0     0     0     0 \n",
       "12947 12951 12953 12957 12959 12966 12974 12975 12976 12977 12979 12980 12981 \n",
       "    0     0     0     0     0     0     0     0     0     0     0     0     0 \n",
       "12986 12991 12992 12994 12999 13001 13006 13007 13008 13009 13013 13022 13023 \n",
       "    0     0     0     0     0     0     0     0     0     0     0     0     0 \n",
       "13025 13036 13037 13045 13051 13053 13054 13060 13061 13063 13067 13068 13071 \n",
       "    0     0     0     0     0     0     0     0     0     0     0     0     0 \n",
       "13072 13073 13077 13088 13090 13098 13100 13101 13107 13108 13110 13112 13113 \n",
       "    0     0     0     0     0     0     0     0     0     0     0     0     0 \n",
       "13116 13120 13121 13122 13124 13126 13131 13139 13140 13141 13142 13144 13147 \n",
       "    0     0     0     0     0     0     0     0     0     0     0     0     0 \n",
       "13150 13153 13156 13158 13159 13160 13170 13177 13179 13185 13192 13199 13204 \n",
       "    0     0     0     0     0     0     0     0     0     0     0     0     0 \n",
       "13206 13209 13211 13213 13215 13217 13221 13225 13227 13228 13231 13234 13235 \n",
       "    0     0     0     0     0     0     0     0     0     0     0     0     0 \n",
       "13241 13242 13244 13246 13250 13251 13258 13260 13268 13269 13271 13272 13274 \n",
       "    0     0     0     0     0     0     0     0     0     0     0     0     0 \n",
       "13275 13277 13279 13281 13287 13289 13296 13300 13302 13306 13308 13312 13313 \n",
       "    0     0     0     0     0     0     0     0     0     0     0     0     0 \n",
       "13318 13319 13320 13323 13329 13331 13339 13342 13343 13346 13352 13353 13356 \n",
       "    0     0     0     0     0     0     0     0     0     0     0     0     0 \n",
       "13358 13359 13365 13367 13370 13372 13374 13376 13378 13388 13402 13403 13411 \n",
       "    0     0     0     0     0     0     0     0     0     0     0     0     0 \n",
       "13416 13420 13422 13424 13429 13432 13433 13434 13435 13438 13439 13442 13443 \n",
       "    0     0     0     0     0     0     0     0     0     0     0     0     0 \n",
       "13453 13457 13458 13461 13465 13466 13470 13474 13476 13477 13478 13484 13486 \n",
       "    0     0     0     0     0     0     0     0     0     0     0     0     0 \n",
       "13491 13493 13495 13498 13500 13501 13503 13505 13509 13510 13512 13517 13518 \n",
       "    0     0     0     0     0     0     0     0     0     0     0     0     0 \n",
       "13520 13526 13528 13529 13530 13536 13541 13551 13553 13554 13556 13568 13570 \n",
       "    0     0     0     0     0     0     0     0     0     0     0     0     0 \n",
       "13571 13572 13574 13577 13581 13582 13584 13587 13589 13590 13594 13597 13604 \n",
       "    0     0     0     0     0     0     0     0     0     0     0     0     0 \n",
       "13605 13608 13609 13610 13614 13616 13618 13619 13620 13627 13628 13632 13635 \n",
       "    0     0     0     0     0     0     0     0     0     0     0     0     0 \n",
       "13636 13639 13643 13644 13649 13650 13652 13654 13656 13659 13666 13671 13673 \n",
       "    0     0     0     0     0     0     0     0     0     0     0     0     0 \n",
       "13676 13677 13681 13682 13685 13690 13692 13694 13695 13696 13697 13698 13705 \n",
       "    0     0     0     0     0     0     0     0     0     0     0     0     0 \n",
       "13706 13708 13710 13715 13716 13717 13725 13726 13730 13738 13739 13741 13746 \n",
       "    0     0     0     0     0     0     0     0     0     0     0     0     0 \n",
       "13748 13749 13753 13754 13757 13758 13761 13763 13765 13772 13777 13781 13786 \n",
       "    0     0     0     0     0     0     0     0     0     0     0     0     0 \n",
       "13788 13789 13794 13800 13801 13803 13804 13809 13811 13814 13820 13823 13826 \n",
       "    0     0     0     0     0     0     0     0     0     0     0     0     0 \n",
       "13829 13836 13840 13841 13842 13844 13846 13851 13852 13853 13855 13858 13861 \n",
       "    0     0     0     0     0     0     0     0     0     0     0     0     0 \n",
       "13862 13865 13867 13868 13877 13878 13880 13881 13883 13884 13898 13902 13913 \n",
       "    0     0     0     0     0     0     0     0     0     0     0     0     0 \n",
       "13921 13922 13923 13924 13931 13935 13939 13945 13946 13951 13956 13963 13964 \n",
       "    0     0     0     0     0     0     0     0     0     0     0     0     0 \n",
       "13965 13967 13969 13971 13972 13974 13975 13977 13983 13984 13985 13992 13993 \n",
       "    0     0     0     0     0     0     0     0     0     0     0     0     0 \n",
       "13997 13998 14001 14002 14004 14005 14008 14013 14019 14027 14030 14035 14039 \n",
       "    0     0     0     0     0     0     0     0     0     0     0     0     0 \n",
       "14040 14048 14049 14053 14054 14058 14061 14064 14065 14066 14067 14070 14072 \n",
       "    0     0     0     0     0     0     0     0     0     0     0     0     0 \n",
       "14075 14080 14083 14088 14090 14095 14098 14101 14105 14110 14111 14114 14119 \n",
       "    0     0     0     0     0     0     0     0     0     0     0     0     0 \n",
       "14125 14126 14130 14132 14133 14135 14136 14147 14154 14160 14163 14169 14178 \n",
       "    0     0     0     0     0     0     0     0     0     0     0     0     0 \n",
       "14180 14181 14184 14191 14193 14194 14201 14202 14205 14206 14211 14217 14222 \n",
       "    0     0     0     0     0     0     0     0     0     0     0     0     0 \n",
       "14224 14228 14232 14236 14238 14239 14241 14248 14249 14253 14254 14255 14257 \n",
       "    0     0     0     0     0     0     0     0     0     0     0     0     0 \n",
       "14261 14272 14276 14277 14280 14283 14285 14286 14287 14292 14295 14297 14299 \n",
       "    0     0     0     0     0     0     0     0     0     0     0     0     0 \n",
       "14303 14305 14309 14315 14318 14327 14331 14339 14340 14341 14351 14356 14360 \n",
       "    0     0     0     0     0     0     0     0     0     0     0     0     0 \n",
       "14361 14363 14364 14384 14390 14393 14394 14395 14398 14399 14408 14411 14418 \n",
       "    0     0     0     0     0     0     0     0     0     0     0     0     0 \n",
       "14419 14425 14426 14427 14432 14438 14439 14440 14442 14443 14444 14445 14446 \n",
       "    0     0     0     0     0     0     0     0     0     0     0     0     0 \n",
       "14450 14453 14459 14460 14463 14465 14467 14472 14476 14477 14483 14484 14487 \n",
       "    0     0     0     0     0     0     0     0     0     0     0     0     0 \n",
       "14495 14498 14502 14507 14510 14511 14512 14513 14514 14518 14522 14524 14525 \n",
       "    0     0     0     0     0     0     0     0     0     0     0     0     0 \n",
       "14526 14527 14535 14544 14546 14548 14549 14556 14560 14564 14565 14570 14571 \n",
       "    0     0     0     0     0     0     0     0     0     0     0     0     0 \n",
       "14579 14583 14584 14586 14591 14593 14613 14618 14620 14623 14624 14625 14633 \n",
       "    0     0     0     0     0     0     0     0     0     0     0     0     0 \n",
       "14638 14644 14648 14650 14653 14655 14659 14662 14663 14669 14673 14678 14680 \n",
       "    0     0     0     0     0     0     0     0     0     0     0     0     0 \n",
       "14682 14684 14690 14692 14693 14695 14698 14702 14703 14714 14721 14722 14724 \n",
       "    0     0     0     0     0     0     0     0     0     0     0     0     0 \n",
       "14726 14731 14732 14733 14737 14738 14743 14750 14754 14758 14759 14770 14771 \n",
       "    0     0     0     0     0     0     0     0     0     0     0     0     0 \n",
       "14781 14782 14790 14791 14803 14817 14819 14835 14841 14842 14847 14848 14849 \n",
       "    0     0     0     0     0     0     0     0     0     0     0     0     0 \n",
       "14860 14861 14865 14872 14873 14879 14881 14882 14884 14886 14887 14888 14889 \n",
       "    0     0     0     0     0     0     0     0     0     0     0     0     0 \n",
       "14890 14891 14892 14894 14895 14899 14903 14905 14907 14911 14912 14913 14918 \n",
       "    0     0     0     0     0     0     0     0     0     0     0     0     0 \n",
       "14920 14925 14927 14938 14943 14945 14946 14948 14951 14954 14955 14957 14958 \n",
       "    0     0     0     0     0     0     0     0     0     0     0     0     0 \n",
       "14961 14965 14971 14974 14975 14993 15002 15005 15007 15008 15021 15025 15026 \n",
       "    0     0     0     0     0     0     0     0     0     0     0     0     0 \n",
       "15029 15041 15044 15046 15054 15055 15063 15068 15070 15073 15075 15076 15078 \n",
       "    0     0     0     0     0     0     0     0     0     0     0     0     0 \n",
       "15082 15084 15093 15095 15099 15105 15107 15108 15124 15127 15136 15137 15142 \n",
       "    0     0     0     0     0     0     0     0     0     0     0     0     0 \n",
       "15143 15150 15153 15156 15158 15161 15163 15167 15169 15173 15183 15191 15198 \n",
       "    0     0     0     0     0     0     0     0     0     0     0     0     0 \n",
       "15199 15202 15203 15206 15209 15210 15214 15215 15218 15220 15221 15228 15230 \n",
       "    0     0     0     0     0     0     0     0     0     0     0     0     0 \n",
       "15234 15235 15237 15239 15242 15244 15246 15249 15251 15256 15258 15260 15264 \n",
       "    0     0     0     0     0     0     0     0     0     0     0     0     0 \n",
       "15268 15272 15275 15278 15279 15280 15282 15283 15285 15286 15288 15295 15301 \n",
       "    0     0     0     0     0     0     0     0     0     0     0     0     0 \n",
       "15304 15307 15309 15310 15312 \n",
       "    0     0     0     0     0 "
      ]
     },
     "metadata": {},
     "output_type": "display_data"
    }
   ],
   "source": [
    "lr_pred_cancel <- ifelse(lr_pred_cancel > 0.001, 1, 0)\n",
    "lr_pred_cancel"
   ]
  },
  {
   "cell_type": "code",
   "execution_count": 144,
   "id": "ffd9e6f7-8556-43f0-9359-c5fee0ef5827",
   "metadata": {},
   "outputs": [
    {
     "ename": "ERROR",
     "evalue": "Error in !all.equal(nrow(data), ncol(data)): invalid argument type\n",
     "output_type": "error",
     "traceback": [
      "Error in !all.equal(nrow(data), ncol(data)): invalid argument type\nTraceback:\n",
      "1. confusionMatrix(table(lr_pred_cancel, data_test$Canceled2018))",
      "2. confusionMatrix.table(table(lr_pred_cancel, data_test$Canceled2018))"
     ]
    }
   ],
   "source": [
    "lr_pred_cancel <- ifelse(lr_pred_cancel > 0.5, 1, 0)\n",
    "confusionMatrix(table(lr_pred_cancel, data_test$Canceled2018))\n"
   ]
  },
  {
   "cell_type": "markdown",
   "id": "c903665d-7e11-4553-8ba5-ac26719695b7",
   "metadata": {},
   "source": [
    "\n",
    "Make train/test split\n",
    "- LM predict CLV (report MSE)\n",
    "- use stepAIC to reduce your model\n",
    "- GLM logit: predict \"Canceled\" (report ROC) DOES NOT WORK\n",
    "- Decision Tree: predict \"Canceled\" (report ROC)\n",
    "- XGBoost: predict \"Canceled\" (report ROC)\n",
    "\n"
   ]
  },
  {
   "cell_type": "code",
   "execution_count": null,
   "id": "c54eaeec-8e25-4f04-804f-181af59e23a9",
   "metadata": {},
   "outputs": [],
   "source": []
  }
 ],
 "metadata": {
  "kernelspec": {
   "display_name": "R",
   "language": "R",
   "name": "ir"
  },
  "language_info": {
   "codemirror_mode": "r",
   "file_extension": ".r",
   "mimetype": "text/x-r-source",
   "name": "R",
   "pygments_lexer": "r",
   "version": "4.3.1"
  }
 },
 "nbformat": 4,
 "nbformat_minor": 5
}
