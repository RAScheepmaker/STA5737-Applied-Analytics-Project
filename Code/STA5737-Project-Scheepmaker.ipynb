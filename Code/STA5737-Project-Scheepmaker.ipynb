{
 "cells": [
  {
   "cell_type": "markdown",
   "id": "2f63227f-3713-48b6-bdcf-42c7b14e2c1f",
   "metadata": {},
   "source": [
    "# STA5737 Applied Analytics for Businesss - Individual Project\n",
    "\n",
    "## Kaggle Dataset \"Airline Loyalty Campaign Program Impact on Flights\"\n",
    "https://www.kaggle.com/datasets/agungpambudi/airline-loyalty-campaign-program-impact-on-flights/  \n",
    "\n",
    "This dataset contains customer demographics and flight booking activity between 2017-2018 from Canadian members of an airline loyalty program. The dataset consists of two separate csv files, the demographics file (\"CustomerLoyaltyHistory.csv\") contains information on customer's location, sex, marital status, education, salary, and loyalty status with the airline (type of status, customer lifetime value, enrollment and cancellation dates and whether they enrolled as part of a 2018 promotion). The flights booking file (\"CustomerFlightActivity.csv\") contains monthly information on the number and distances of flights booked, either for themselves or with a companions, and about the number of points earned and redeemed. \n",
    "\n",
    "The original goal of this dataset was to study the impact of the Airline Loyalty Campaign. For example, how did the bookings of customers who enrolled as part of the promotional campaign differ from regular loyal customers? \n",
    "\n"
   ]
  },
  {
   "cell_type": "code",
   "execution_count": 70,
   "id": "beb2c692-8c83-4e12-b2f7-fd43d3e556be",
   "metadata": {},
   "outputs": [],
   "source": [
    "# Clear workspace.\n",
    "rm(list=ls(all=TRUE))\n",
    "\n",
    "# install.packages('sqldf')\n",
    "library(sqldf)"
   ]
  },
  {
   "cell_type": "code",
   "execution_count": 71,
   "id": "5cf912e4-6698-4cb8-b74d-6eab94673ed1",
   "metadata": {},
   "outputs": [
    {
     "data": {
      "text/html": [
       "<style>\n",
       ".list-inline {list-style: none; margin:0; padding: 0}\n",
       ".list-inline>li {display: inline-block}\n",
       ".list-inline>li:not(:last-child)::after {content: \"\\00b7\"; padding: 0 .5ex}\n",
       "</style>\n",
       "<ol class=list-inline><li>405624</li><li>10</li></ol>\n"
      ],
      "text/latex": [
       "\\begin{enumerate*}\n",
       "\\item 405624\n",
       "\\item 10\n",
       "\\end{enumerate*}\n"
      ],
      "text/markdown": [
       "1. 405624\n",
       "2. 10\n",
       "\n",
       "\n"
      ],
      "text/plain": [
       "[1] 405624     10"
      ]
     },
     "metadata": {},
     "output_type": "display_data"
    },
    {
     "data": {
      "text/html": [
       "0"
      ],
      "text/latex": [
       "0"
      ],
      "text/markdown": [
       "0"
      ],
      "text/plain": [
       "[1] 0"
      ]
     },
     "metadata": {},
     "output_type": "display_data"
    }
   ],
   "source": [
    "# Load the flights data into a dataframe\n",
    "flights <- read.csv('../Data/CustomerFlightActivity.csv', header=TRUE)\n",
    "dim(flights)\n",
    "\n",
    "# Print the total amount of 'NA's in the data\n",
    "sum(is.na(flights))"
   ]
  },
  {
   "cell_type": "code",
   "execution_count": 72,
   "id": "f15390a3-4aae-4733-a089-7d6e67ec8638",
   "metadata": {},
   "outputs": [
    {
     "data": {
      "text/html": [
       "<table class=\"dataframe\">\n",
       "<caption>A data.frame: 6 × 10</caption>\n",
       "<thead>\n",
       "\t<tr><th></th><th scope=col>Loyalty.Number</th><th scope=col>Year</th><th scope=col>Month</th><th scope=col>Flights.Booked</th><th scope=col>Flights.with.Companions</th><th scope=col>Total.Flights</th><th scope=col>Distance</th><th scope=col>Points.Accumulated</th><th scope=col>Points.Redeemed</th><th scope=col>Dollar.Cost.Points.Redeemed</th></tr>\n",
       "\t<tr><th></th><th scope=col>&lt;int&gt;</th><th scope=col>&lt;int&gt;</th><th scope=col>&lt;int&gt;</th><th scope=col>&lt;int&gt;</th><th scope=col>&lt;int&gt;</th><th scope=col>&lt;int&gt;</th><th scope=col>&lt;int&gt;</th><th scope=col>&lt;dbl&gt;</th><th scope=col>&lt;int&gt;</th><th scope=col>&lt;int&gt;</th></tr>\n",
       "</thead>\n",
       "<tbody>\n",
       "\t<tr><th scope=row>1</th><td>100018</td><td>2017</td><td>1</td><td> 3</td><td>0</td><td> 3</td><td>1521</td><td>152</td><td>0</td><td>0</td></tr>\n",
       "\t<tr><th scope=row>2</th><td>100102</td><td>2017</td><td>1</td><td>10</td><td>4</td><td>14</td><td>2030</td><td>203</td><td>0</td><td>0</td></tr>\n",
       "\t<tr><th scope=row>3</th><td>100140</td><td>2017</td><td>1</td><td> 6</td><td>0</td><td> 6</td><td>1200</td><td>120</td><td>0</td><td>0</td></tr>\n",
       "\t<tr><th scope=row>4</th><td>100214</td><td>2017</td><td>1</td><td> 0</td><td>0</td><td> 0</td><td>   0</td><td>  0</td><td>0</td><td>0</td></tr>\n",
       "\t<tr><th scope=row>5</th><td>100272</td><td>2017</td><td>1</td><td> 0</td><td>0</td><td> 0</td><td>   0</td><td>  0</td><td>0</td><td>0</td></tr>\n",
       "\t<tr><th scope=row>6</th><td>100301</td><td>2017</td><td>1</td><td> 0</td><td>0</td><td> 0</td><td>   0</td><td>  0</td><td>0</td><td>0</td></tr>\n",
       "</tbody>\n",
       "</table>\n"
      ],
      "text/latex": [
       "A data.frame: 6 × 10\n",
       "\\begin{tabular}{r|llllllllll}\n",
       "  & Loyalty.Number & Year & Month & Flights.Booked & Flights.with.Companions & Total.Flights & Distance & Points.Accumulated & Points.Redeemed & Dollar.Cost.Points.Redeemed\\\\\n",
       "  & <int> & <int> & <int> & <int> & <int> & <int> & <int> & <dbl> & <int> & <int>\\\\\n",
       "\\hline\n",
       "\t1 & 100018 & 2017 & 1 &  3 & 0 &  3 & 1521 & 152 & 0 & 0\\\\\n",
       "\t2 & 100102 & 2017 & 1 & 10 & 4 & 14 & 2030 & 203 & 0 & 0\\\\\n",
       "\t3 & 100140 & 2017 & 1 &  6 & 0 &  6 & 1200 & 120 & 0 & 0\\\\\n",
       "\t4 & 100214 & 2017 & 1 &  0 & 0 &  0 &    0 &   0 & 0 & 0\\\\\n",
       "\t5 & 100272 & 2017 & 1 &  0 & 0 &  0 &    0 &   0 & 0 & 0\\\\\n",
       "\t6 & 100301 & 2017 & 1 &  0 & 0 &  0 &    0 &   0 & 0 & 0\\\\\n",
       "\\end{tabular}\n"
      ],
      "text/markdown": [
       "\n",
       "A data.frame: 6 × 10\n",
       "\n",
       "| <!--/--> | Loyalty.Number &lt;int&gt; | Year &lt;int&gt; | Month &lt;int&gt; | Flights.Booked &lt;int&gt; | Flights.with.Companions &lt;int&gt; | Total.Flights &lt;int&gt; | Distance &lt;int&gt; | Points.Accumulated &lt;dbl&gt; | Points.Redeemed &lt;int&gt; | Dollar.Cost.Points.Redeemed &lt;int&gt; |\n",
       "|---|---|---|---|---|---|---|---|---|---|---|\n",
       "| 1 | 100018 | 2017 | 1 |  3 | 0 |  3 | 1521 | 152 | 0 | 0 |\n",
       "| 2 | 100102 | 2017 | 1 | 10 | 4 | 14 | 2030 | 203 | 0 | 0 |\n",
       "| 3 | 100140 | 2017 | 1 |  6 | 0 |  6 | 1200 | 120 | 0 | 0 |\n",
       "| 4 | 100214 | 2017 | 1 |  0 | 0 |  0 |    0 |   0 | 0 | 0 |\n",
       "| 5 | 100272 | 2017 | 1 |  0 | 0 |  0 |    0 |   0 | 0 | 0 |\n",
       "| 6 | 100301 | 2017 | 1 |  0 | 0 |  0 |    0 |   0 | 0 | 0 |\n",
       "\n"
      ],
      "text/plain": [
       "  Loyalty.Number Year Month Flights.Booked Flights.with.Companions\n",
       "1 100018         2017 1      3             0                      \n",
       "2 100102         2017 1     10             4                      \n",
       "3 100140         2017 1      6             0                      \n",
       "4 100214         2017 1      0             0                      \n",
       "5 100272         2017 1      0             0                      \n",
       "6 100301         2017 1      0             0                      \n",
       "  Total.Flights Distance Points.Accumulated Points.Redeemed\n",
       "1  3            1521     152                0              \n",
       "2 14            2030     203                0              \n",
       "3  6            1200     120                0              \n",
       "4  0               0       0                0              \n",
       "5  0               0       0                0              \n",
       "6  0               0       0                0              \n",
       "  Dollar.Cost.Points.Redeemed\n",
       "1 0                          \n",
       "2 0                          \n",
       "3 0                          \n",
       "4 0                          \n",
       "5 0                          \n",
       "6 0                          "
      ]
     },
     "metadata": {},
     "output_type": "display_data"
    },
    {
     "name": "stdout",
     "output_type": "stream",
     "text": [
      "'data.frame':\t405624 obs. of  10 variables:\n",
      " $ Loyalty.Number             : int  100018 100102 100140 100214 100272 100301 100364 100380 100428 100504 ...\n",
      " $ Year                       : int  2017 2017 2017 2017 2017 2017 2017 2017 2017 2017 ...\n",
      " $ Month                      : int  1 1 1 1 1 1 1 1 1 1 ...\n",
      " $ Flights.Booked             : int  3 10 6 0 0 0 0 0 6 0 ...\n",
      " $ Flights.with.Companions    : int  0 4 0 0 0 0 0 0 0 0 ...\n",
      " $ Total.Flights              : int  3 14 6 0 0 0 0 0 6 0 ...\n",
      " $ Distance                   : int  1521 2030 1200 0 0 0 0 0 606 0 ...\n",
      " $ Points.Accumulated         : num  152 203 120 0 0 0 0 0 60 0 ...\n",
      " $ Points.Redeemed            : int  0 0 0 0 0 0 0 0 0 0 ...\n",
      " $ Dollar.Cost.Points.Redeemed: int  0 0 0 0 0 0 0 0 0 0 ...\n"
     ]
    }
   ],
   "source": [
    "head(flights)\n",
    "str(flights)"
   ]
  },
  {
   "cell_type": "code",
   "execution_count": 59,
   "id": "10fe0db0-3bed-4b98-a329-e396cf356d98",
   "metadata": {},
   "outputs": [
    {
     "data": {
      "text/html": [
       "<table class=\"dataframe\">\n",
       "<caption>A data.frame: 6 × 10</caption>\n",
       "<thead>\n",
       "\t<tr><th></th><th scope=col>Loyalty.Number</th><th scope=col>Year</th><th scope=col>Month</th><th scope=col>Flights.Booked</th><th scope=col>Flights.with.Companions</th><th scope=col>Total.Flights</th><th scope=col>Distance</th><th scope=col>Points.Accumulated</th><th scope=col>Points.Redeemed</th><th scope=col>Dollar.Cost.Points.Redeemed</th></tr>\n",
       "\t<tr><th></th><th scope=col>&lt;int&gt;</th><th scope=col>&lt;int&gt;</th><th scope=col>&lt;int&gt;</th><th scope=col>&lt;int&gt;</th><th scope=col>&lt;int&gt;</th><th scope=col>&lt;int&gt;</th><th scope=col>&lt;int&gt;</th><th scope=col>&lt;dbl&gt;</th><th scope=col>&lt;int&gt;</th><th scope=col>&lt;int&gt;</th></tr>\n",
       "</thead>\n",
       "<tbody>\n",
       "\t<tr><th scope=row>405619</th><td>999891</td><td>2018</td><td>12</td><td>0</td><td>0</td><td>0</td><td>   0</td><td>  0</td><td>0</td><td>0</td></tr>\n",
       "\t<tr><th scope=row>405620</th><td>999902</td><td>2018</td><td>12</td><td>0</td><td>0</td><td>0</td><td>   0</td><td>  0</td><td>0</td><td>0</td></tr>\n",
       "\t<tr><th scope=row>405621</th><td>999911</td><td>2018</td><td>12</td><td>0</td><td>0</td><td>0</td><td>   0</td><td>  0</td><td>0</td><td>0</td></tr>\n",
       "\t<tr><th scope=row>405622</th><td>999940</td><td>2018</td><td>12</td><td>3</td><td>0</td><td>3</td><td>1233</td><td>123</td><td>0</td><td>0</td></tr>\n",
       "\t<tr><th scope=row>405623</th><td>999982</td><td>2018</td><td>12</td><td>0</td><td>0</td><td>0</td><td>   0</td><td>  0</td><td>0</td><td>0</td></tr>\n",
       "\t<tr><th scope=row>405624</th><td>999986</td><td>2018</td><td>12</td><td>0</td><td>0</td><td>0</td><td>   0</td><td>  0</td><td>0</td><td>0</td></tr>\n",
       "</tbody>\n",
       "</table>\n"
      ],
      "text/latex": [
       "A data.frame: 6 × 10\n",
       "\\begin{tabular}{r|llllllllll}\n",
       "  & Loyalty.Number & Year & Month & Flights.Booked & Flights.with.Companions & Total.Flights & Distance & Points.Accumulated & Points.Redeemed & Dollar.Cost.Points.Redeemed\\\\\n",
       "  & <int> & <int> & <int> & <int> & <int> & <int> & <int> & <dbl> & <int> & <int>\\\\\n",
       "\\hline\n",
       "\t405619 & 999891 & 2018 & 12 & 0 & 0 & 0 &    0 &   0 & 0 & 0\\\\\n",
       "\t405620 & 999902 & 2018 & 12 & 0 & 0 & 0 &    0 &   0 & 0 & 0\\\\\n",
       "\t405621 & 999911 & 2018 & 12 & 0 & 0 & 0 &    0 &   0 & 0 & 0\\\\\n",
       "\t405622 & 999940 & 2018 & 12 & 3 & 0 & 3 & 1233 & 123 & 0 & 0\\\\\n",
       "\t405623 & 999982 & 2018 & 12 & 0 & 0 & 0 &    0 &   0 & 0 & 0\\\\\n",
       "\t405624 & 999986 & 2018 & 12 & 0 & 0 & 0 &    0 &   0 & 0 & 0\\\\\n",
       "\\end{tabular}\n"
      ],
      "text/markdown": [
       "\n",
       "A data.frame: 6 × 10\n",
       "\n",
       "| <!--/--> | Loyalty.Number &lt;int&gt; | Year &lt;int&gt; | Month &lt;int&gt; | Flights.Booked &lt;int&gt; | Flights.with.Companions &lt;int&gt; | Total.Flights &lt;int&gt; | Distance &lt;int&gt; | Points.Accumulated &lt;dbl&gt; | Points.Redeemed &lt;int&gt; | Dollar.Cost.Points.Redeemed &lt;int&gt; |\n",
       "|---|---|---|---|---|---|---|---|---|---|---|\n",
       "| 405619 | 999891 | 2018 | 12 | 0 | 0 | 0 |    0 |   0 | 0 | 0 |\n",
       "| 405620 | 999902 | 2018 | 12 | 0 | 0 | 0 |    0 |   0 | 0 | 0 |\n",
       "| 405621 | 999911 | 2018 | 12 | 0 | 0 | 0 |    0 |   0 | 0 | 0 |\n",
       "| 405622 | 999940 | 2018 | 12 | 3 | 0 | 3 | 1233 | 123 | 0 | 0 |\n",
       "| 405623 | 999982 | 2018 | 12 | 0 | 0 | 0 |    0 |   0 | 0 | 0 |\n",
       "| 405624 | 999986 | 2018 | 12 | 0 | 0 | 0 |    0 |   0 | 0 | 0 |\n",
       "\n"
      ],
      "text/plain": [
       "       Loyalty.Number Year Month Flights.Booked Flights.with.Companions\n",
       "405619 999891         2018 12    0              0                      \n",
       "405620 999902         2018 12    0              0                      \n",
       "405621 999911         2018 12    0              0                      \n",
       "405622 999940         2018 12    3              0                      \n",
       "405623 999982         2018 12    0              0                      \n",
       "405624 999986         2018 12    0              0                      \n",
       "       Total.Flights Distance Points.Accumulated Points.Redeemed\n",
       "405619 0                0       0                0              \n",
       "405620 0                0       0                0              \n",
       "405621 0                0       0                0              \n",
       "405622 3             1233     123                0              \n",
       "405623 0                0       0                0              \n",
       "405624 0                0       0                0              \n",
       "       Dollar.Cost.Points.Redeemed\n",
       "405619 0                          \n",
       "405620 0                          \n",
       "405621 0                          \n",
       "405622 0                          \n",
       "405623 0                          \n",
       "405624 0                          "
      ]
     },
     "metadata": {},
     "output_type": "display_data"
    }
   ],
   "source": [
    "tail(flights)"
   ]
  },
  {
   "cell_type": "markdown",
   "id": "c7f61ae2-8c4a-48d5-b3bb-f7e65150655b",
   "metadata": {},
   "source": [
    "The flights data contains monthly booking data for every customer between January 2017 and December 2012, without any NAs. I will later aggregate this data into total numbers for each customer and then join those totals to the Customer Loyalty dataset. "
   ]
  },
  {
   "cell_type": "code",
   "execution_count": 73,
   "id": "e23dc7f4-50c2-46d7-bc88-edc18c8cdec0",
   "metadata": {},
   "outputs": [
    {
     "data": {
      "text/html": [
       "<style>\n",
       ".list-inline {list-style: none; margin:0; padding: 0}\n",
       ".list-inline>li {display: inline-block}\n",
       ".list-inline>li:not(:last-child)::after {content: \"\\00b7\"; padding: 0 .5ex}\n",
       "</style>\n",
       "<ol class=list-inline><li>16737</li><li>16</li></ol>\n"
      ],
      "text/latex": [
       "\\begin{enumerate*}\n",
       "\\item 16737\n",
       "\\item 16\n",
       "\\end{enumerate*}\n"
      ],
      "text/markdown": [
       "1. 16737\n",
       "2. 16\n",
       "\n",
       "\n"
      ],
      "text/plain": [
       "[1] 16737    16"
      ]
     },
     "metadata": {},
     "output_type": "display_data"
    },
    {
     "data": {
      "text/html": [
       "33578"
      ],
      "text/latex": [
       "33578"
      ],
      "text/markdown": [
       "33578"
      ],
      "text/plain": [
       "[1] 33578"
      ]
     },
     "metadata": {},
     "output_type": "display_data"
    }
   ],
   "source": [
    "loyalty <- read.csv('../Data/CustomerLoyaltyHistory.csv', header=TRUE)\n",
    "dim(loyalty)\n",
    "sum(is.na(loyalty))"
   ]
  },
  {
   "cell_type": "code",
   "execution_count": 74,
   "id": "ceba8eb2-4161-4956-9235-a06f98b544f2",
   "metadata": {},
   "outputs": [
    {
     "data": {
      "text/html": [
       "<table class=\"dataframe\">\n",
       "<caption>A data.frame: 6 × 16</caption>\n",
       "<thead>\n",
       "\t<tr><th></th><th scope=col>Loyalty.Number</th><th scope=col>Country</th><th scope=col>Province</th><th scope=col>City</th><th scope=col>Postal.Code</th><th scope=col>Gender</th><th scope=col>Education</th><th scope=col>Salary</th><th scope=col>Marital.Status</th><th scope=col>Loyalty.Card</th><th scope=col>CLV</th><th scope=col>Enrollment.Type</th><th scope=col>Enrollment.Year</th><th scope=col>Enrollment.Month</th><th scope=col>Cancellation.Year</th><th scope=col>Cancellation.Month</th></tr>\n",
       "\t<tr><th></th><th scope=col>&lt;int&gt;</th><th scope=col>&lt;chr&gt;</th><th scope=col>&lt;chr&gt;</th><th scope=col>&lt;chr&gt;</th><th scope=col>&lt;chr&gt;</th><th scope=col>&lt;chr&gt;</th><th scope=col>&lt;chr&gt;</th><th scope=col>&lt;int&gt;</th><th scope=col>&lt;chr&gt;</th><th scope=col>&lt;chr&gt;</th><th scope=col>&lt;dbl&gt;</th><th scope=col>&lt;chr&gt;</th><th scope=col>&lt;int&gt;</th><th scope=col>&lt;int&gt;</th><th scope=col>&lt;int&gt;</th><th scope=col>&lt;int&gt;</th></tr>\n",
       "</thead>\n",
       "<tbody>\n",
       "\t<tr><th scope=row>1</th><td>480934</td><td>Canada</td><td>Ontario         </td><td>Toronto   </td><td>M2Z 4K1</td><td>Female</td><td>Bachelor</td><td> 83236</td><td>Married </td><td>Star</td><td>3839.14</td><td>Standard</td><td>2016</td><td> 2</td><td>  NA</td><td>NA</td></tr>\n",
       "\t<tr><th scope=row>2</th><td>549612</td><td>Canada</td><td>Alberta         </td><td>Edmonton  </td><td>T3G 6Y6</td><td>Male  </td><td>College </td><td>    NA</td><td>Divorced</td><td>Star</td><td>3839.61</td><td>Standard</td><td>2016</td><td> 3</td><td>  NA</td><td>NA</td></tr>\n",
       "\t<tr><th scope=row>3</th><td>429460</td><td>Canada</td><td>British Columbia</td><td>Vancouver </td><td>V6E 3D9</td><td>Male  </td><td>College </td><td>    NA</td><td>Single  </td><td>Star</td><td>3839.75</td><td>Standard</td><td>2014</td><td> 7</td><td>2018</td><td> 1</td></tr>\n",
       "\t<tr><th scope=row>4</th><td>608370</td><td>Canada</td><td>Ontario         </td><td>Toronto   </td><td>P1W 1K4</td><td>Male  </td><td>College </td><td>    NA</td><td>Single  </td><td>Star</td><td>3839.75</td><td>Standard</td><td>2013</td><td> 2</td><td>  NA</td><td>NA</td></tr>\n",
       "\t<tr><th scope=row>5</th><td>530508</td><td>Canada</td><td>Quebec          </td><td>Hull      </td><td>J8Y 3Z5</td><td>Male  </td><td>Bachelor</td><td>103495</td><td>Married </td><td>Star</td><td>3842.79</td><td>Standard</td><td>2014</td><td>10</td><td>  NA</td><td>NA</td></tr>\n",
       "\t<tr><th scope=row>6</th><td>193662</td><td>Canada</td><td>Yukon           </td><td>Whitehorse</td><td>Y2K 6R0</td><td>Male  </td><td>Bachelor</td><td> 51124</td><td>Married </td><td>Star</td><td>3844.57</td><td>Standard</td><td>2012</td><td> 5</td><td>  NA</td><td>NA</td></tr>\n",
       "</tbody>\n",
       "</table>\n"
      ],
      "text/latex": [
       "A data.frame: 6 × 16\n",
       "\\begin{tabular}{r|llllllllllllllll}\n",
       "  & Loyalty.Number & Country & Province & City & Postal.Code & Gender & Education & Salary & Marital.Status & Loyalty.Card & CLV & Enrollment.Type & Enrollment.Year & Enrollment.Month & Cancellation.Year & Cancellation.Month\\\\\n",
       "  & <int> & <chr> & <chr> & <chr> & <chr> & <chr> & <chr> & <int> & <chr> & <chr> & <dbl> & <chr> & <int> & <int> & <int> & <int>\\\\\n",
       "\\hline\n",
       "\t1 & 480934 & Canada & Ontario          & Toronto    & M2Z 4K1 & Female & Bachelor &  83236 & Married  & Star & 3839.14 & Standard & 2016 &  2 &   NA & NA\\\\\n",
       "\t2 & 549612 & Canada & Alberta          & Edmonton   & T3G 6Y6 & Male   & College  &     NA & Divorced & Star & 3839.61 & Standard & 2016 &  3 &   NA & NA\\\\\n",
       "\t3 & 429460 & Canada & British Columbia & Vancouver  & V6E 3D9 & Male   & College  &     NA & Single   & Star & 3839.75 & Standard & 2014 &  7 & 2018 &  1\\\\\n",
       "\t4 & 608370 & Canada & Ontario          & Toronto    & P1W 1K4 & Male   & College  &     NA & Single   & Star & 3839.75 & Standard & 2013 &  2 &   NA & NA\\\\\n",
       "\t5 & 530508 & Canada & Quebec           & Hull       & J8Y 3Z5 & Male   & Bachelor & 103495 & Married  & Star & 3842.79 & Standard & 2014 & 10 &   NA & NA\\\\\n",
       "\t6 & 193662 & Canada & Yukon            & Whitehorse & Y2K 6R0 & Male   & Bachelor &  51124 & Married  & Star & 3844.57 & Standard & 2012 &  5 &   NA & NA\\\\\n",
       "\\end{tabular}\n"
      ],
      "text/markdown": [
       "\n",
       "A data.frame: 6 × 16\n",
       "\n",
       "| <!--/--> | Loyalty.Number &lt;int&gt; | Country &lt;chr&gt; | Province &lt;chr&gt; | City &lt;chr&gt; | Postal.Code &lt;chr&gt; | Gender &lt;chr&gt; | Education &lt;chr&gt; | Salary &lt;int&gt; | Marital.Status &lt;chr&gt; | Loyalty.Card &lt;chr&gt; | CLV &lt;dbl&gt; | Enrollment.Type &lt;chr&gt; | Enrollment.Year &lt;int&gt; | Enrollment.Month &lt;int&gt; | Cancellation.Year &lt;int&gt; | Cancellation.Month &lt;int&gt; |\n",
       "|---|---|---|---|---|---|---|---|---|---|---|---|---|---|---|---|---|\n",
       "| 1 | 480934 | Canada | Ontario          | Toronto    | M2Z 4K1 | Female | Bachelor |  83236 | Married  | Star | 3839.14 | Standard | 2016 |  2 |   NA | NA |\n",
       "| 2 | 549612 | Canada | Alberta          | Edmonton   | T3G 6Y6 | Male   | College  |     NA | Divorced | Star | 3839.61 | Standard | 2016 |  3 |   NA | NA |\n",
       "| 3 | 429460 | Canada | British Columbia | Vancouver  | V6E 3D9 | Male   | College  |     NA | Single   | Star | 3839.75 | Standard | 2014 |  7 | 2018 |  1 |\n",
       "| 4 | 608370 | Canada | Ontario          | Toronto    | P1W 1K4 | Male   | College  |     NA | Single   | Star | 3839.75 | Standard | 2013 |  2 |   NA | NA |\n",
       "| 5 | 530508 | Canada | Quebec           | Hull       | J8Y 3Z5 | Male   | Bachelor | 103495 | Married  | Star | 3842.79 | Standard | 2014 | 10 |   NA | NA |\n",
       "| 6 | 193662 | Canada | Yukon            | Whitehorse | Y2K 6R0 | Male   | Bachelor |  51124 | Married  | Star | 3844.57 | Standard | 2012 |  5 |   NA | NA |\n",
       "\n"
      ],
      "text/plain": [
       "  Loyalty.Number Country Province         City       Postal.Code Gender\n",
       "1 480934         Canada  Ontario          Toronto    M2Z 4K1     Female\n",
       "2 549612         Canada  Alberta          Edmonton   T3G 6Y6     Male  \n",
       "3 429460         Canada  British Columbia Vancouver  V6E 3D9     Male  \n",
       "4 608370         Canada  Ontario          Toronto    P1W 1K4     Male  \n",
       "5 530508         Canada  Quebec           Hull       J8Y 3Z5     Male  \n",
       "6 193662         Canada  Yukon            Whitehorse Y2K 6R0     Male  \n",
       "  Education Salary Marital.Status Loyalty.Card CLV     Enrollment.Type\n",
       "1 Bachelor   83236 Married        Star         3839.14 Standard       \n",
       "2 College       NA Divorced       Star         3839.61 Standard       \n",
       "3 College       NA Single         Star         3839.75 Standard       \n",
       "4 College       NA Single         Star         3839.75 Standard       \n",
       "5 Bachelor  103495 Married        Star         3842.79 Standard       \n",
       "6 Bachelor   51124 Married        Star         3844.57 Standard       \n",
       "  Enrollment.Year Enrollment.Month Cancellation.Year Cancellation.Month\n",
       "1 2016             2                 NA              NA                \n",
       "2 2016             3                 NA              NA                \n",
       "3 2014             7               2018               1                \n",
       "4 2013             2                 NA              NA                \n",
       "5 2014            10                 NA              NA                \n",
       "6 2012             5                 NA              NA                "
      ]
     },
     "metadata": {},
     "output_type": "display_data"
    },
    {
     "name": "stdout",
     "output_type": "stream",
     "text": [
      "'data.frame':\t16737 obs. of  16 variables:\n",
      " $ Loyalty.Number    : int  480934 549612 429460 608370 530508 193662 927943 188893 852392 866307 ...\n",
      " $ Country           : chr  \"Canada\" \"Canada\" \"Canada\" \"Canada\" ...\n",
      " $ Province          : chr  \"Ontario\" \"Alberta\" \"British Columbia\" \"Ontario\" ...\n",
      " $ City              : chr  \"Toronto\" \"Edmonton\" \"Vancouver\" \"Toronto\" ...\n",
      " $ Postal.Code       : chr  \"M2Z 4K1\" \"T3G 6Y6\" \"V6E 3D9\" \"P1W 1K4\" ...\n",
      " $ Gender            : chr  \"Female\" \"Male\" \"Male\" \"Male\" ...\n",
      " $ Education         : chr  \"Bachelor\" \"College\" \"College\" \"College\" ...\n",
      " $ Salary            : int  83236 NA NA NA 103495 51124 NA 100159 100159 100159 ...\n",
      " $ Marital.Status    : chr  \"Married\" \"Divorced\" \"Single\" \"Single\" ...\n",
      " $ Loyalty.Card      : chr  \"Star\" \"Star\" \"Star\" \"Star\" ...\n",
      " $ CLV               : num  3839 3840 3840 3840 3843 ...\n",
      " $ Enrollment.Type   : chr  \"Standard\" \"Standard\" \"Standard\" \"Standard\" ...\n",
      " $ Enrollment.Year   : int  2016 2016 2014 2013 2014 2012 2014 2016 2015 2016 ...\n",
      " $ Enrollment.Month  : int  2 3 7 2 10 5 6 12 5 10 ...\n",
      " $ Cancellation.Year : int  NA NA 2018 NA NA NA NA NA NA NA ...\n",
      " $ Cancellation.Month: int  NA NA 1 NA NA NA NA NA NA NA ...\n"
     ]
    }
   ],
   "source": [
    "head(loyalty)\n",
    "str(loyalty)"
   ]
  },
  {
   "cell_type": "markdown",
   "id": "c5f0133a-444d-4862-b1eb-702faedb1336",
   "metadata": {},
   "source": [
    "This Customer Loyalty data contains more NAs, specifically for Salary and when the customer did not cancel yet. This cancelation data is important though, so we cannot just remove NAs. I might look into NAs later in more detail. I also notice that some column names include a period \".\" in the name, which will give problems, so let's first rename all column names and then merge the two files into a single dataframe."
   ]
  },
  {
   "cell_type": "code",
   "execution_count": 75,
   "id": "57ec0228-2a9f-4a37-89f7-b39ec47ee3a7",
   "metadata": {},
   "outputs": [
    {
     "data": {
      "text/html": [
       "<style>\n",
       ".list-inline {list-style: none; margin:0; padding: 0}\n",
       ".list-inline>li {display: inline-block}\n",
       ".list-inline>li:not(:last-child)::after {content: \"\\00b7\"; padding: 0 .5ex}\n",
       "</style>\n",
       "<ol class=list-inline><li>'Loyalty.Number'</li><li>'Year'</li><li>'Month'</li><li>'Flights.Booked'</li><li>'Flights.with.Companions'</li><li>'Total.Flights'</li><li>'Distance'</li><li>'Points.Accumulated'</li><li>'Points.Redeemed'</li><li>'Dollar.Cost.Points.Redeemed'</li></ol>\n"
      ],
      "text/latex": [
       "\\begin{enumerate*}\n",
       "\\item 'Loyalty.Number'\n",
       "\\item 'Year'\n",
       "\\item 'Month'\n",
       "\\item 'Flights.Booked'\n",
       "\\item 'Flights.with.Companions'\n",
       "\\item 'Total.Flights'\n",
       "\\item 'Distance'\n",
       "\\item 'Points.Accumulated'\n",
       "\\item 'Points.Redeemed'\n",
       "\\item 'Dollar.Cost.Points.Redeemed'\n",
       "\\end{enumerate*}\n"
      ],
      "text/markdown": [
       "1. 'Loyalty.Number'\n",
       "2. 'Year'\n",
       "3. 'Month'\n",
       "4. 'Flights.Booked'\n",
       "5. 'Flights.with.Companions'\n",
       "6. 'Total.Flights'\n",
       "7. 'Distance'\n",
       "8. 'Points.Accumulated'\n",
       "9. 'Points.Redeemed'\n",
       "10. 'Dollar.Cost.Points.Redeemed'\n",
       "\n",
       "\n"
      ],
      "text/plain": [
       " [1] \"Loyalty.Number\"              \"Year\"                       \n",
       " [3] \"Month\"                       \"Flights.Booked\"             \n",
       " [5] \"Flights.with.Companions\"     \"Total.Flights\"              \n",
       " [7] \"Distance\"                    \"Points.Accumulated\"         \n",
       " [9] \"Points.Redeemed\"             \"Dollar.Cost.Points.Redeemed\""
      ]
     },
     "metadata": {},
     "output_type": "display_data"
    },
    {
     "data": {
      "text/html": [
       "<style>\n",
       ".list-inline {list-style: none; margin:0; padding: 0}\n",
       ".list-inline>li {display: inline-block}\n",
       ".list-inline>li:not(:last-child)::after {content: \"\\00b7\"; padding: 0 .5ex}\n",
       "</style>\n",
       "<ol class=list-inline><li>'Loyalty.Number'</li><li>'Country'</li><li>'Province'</li><li>'City'</li><li>'Postal.Code'</li><li>'Gender'</li><li>'Education'</li><li>'Salary'</li><li>'Marital.Status'</li><li>'Loyalty.Card'</li><li>'CLV'</li><li>'Enrollment.Type'</li><li>'Enrollment.Year'</li><li>'Enrollment.Month'</li><li>'Cancellation.Year'</li><li>'Cancellation.Month'</li></ol>\n"
      ],
      "text/latex": [
       "\\begin{enumerate*}\n",
       "\\item 'Loyalty.Number'\n",
       "\\item 'Country'\n",
       "\\item 'Province'\n",
       "\\item 'City'\n",
       "\\item 'Postal.Code'\n",
       "\\item 'Gender'\n",
       "\\item 'Education'\n",
       "\\item 'Salary'\n",
       "\\item 'Marital.Status'\n",
       "\\item 'Loyalty.Card'\n",
       "\\item 'CLV'\n",
       "\\item 'Enrollment.Type'\n",
       "\\item 'Enrollment.Year'\n",
       "\\item 'Enrollment.Month'\n",
       "\\item 'Cancellation.Year'\n",
       "\\item 'Cancellation.Month'\n",
       "\\end{enumerate*}\n"
      ],
      "text/markdown": [
       "1. 'Loyalty.Number'\n",
       "2. 'Country'\n",
       "3. 'Province'\n",
       "4. 'City'\n",
       "5. 'Postal.Code'\n",
       "6. 'Gender'\n",
       "7. 'Education'\n",
       "8. 'Salary'\n",
       "9. 'Marital.Status'\n",
       "10. 'Loyalty.Card'\n",
       "11. 'CLV'\n",
       "12. 'Enrollment.Type'\n",
       "13. 'Enrollment.Year'\n",
       "14. 'Enrollment.Month'\n",
       "15. 'Cancellation.Year'\n",
       "16. 'Cancellation.Month'\n",
       "\n",
       "\n"
      ],
      "text/plain": [
       " [1] \"Loyalty.Number\"     \"Country\"            \"Province\"          \n",
       " [4] \"City\"               \"Postal.Code\"        \"Gender\"            \n",
       " [7] \"Education\"          \"Salary\"             \"Marital.Status\"    \n",
       "[10] \"Loyalty.Card\"       \"CLV\"                \"Enrollment.Type\"   \n",
       "[13] \"Enrollment.Year\"    \"Enrollment.Month\"   \"Cancellation.Year\" \n",
       "[16] \"Cancellation.Month\""
      ]
     },
     "metadata": {},
     "output_type": "display_data"
    }
   ],
   "source": [
    "# Original Names\n",
    "colnames(flights)\n",
    "colnames(loyalty)"
   ]
  },
  {
   "cell_type": "code",
   "execution_count": 76,
   "id": "f8d6e758-9721-45b6-b8b4-03318a253e88",
   "metadata": {},
   "outputs": [],
   "source": [
    "# Remove the \".\" from all column names\n",
    "colnames(flights) <- c(\"LoyaltyNumber\", \"Year\", \"Month\", \"FlightsBooked\",\"FlightsWithCompanions\",\"TotalFlights\",\"Distance\",\"PointsAccumulated\",\"PointsRedeemed\",\"DollarCostPointsRedeemed\")\n",
    "colnames(loyalty) <- c(\"LoyaltyNumber\",\"Country\",\"Province\",\"City\",\"PostalCode\",\"Gender\",\"Education\",\"Salary\",\"MaritalStatus\",\"LoyaltyCard\",\"CLV\",\"EnrollmentType\",\"EnrollmentYear\",\"EnrollmentMonth\",\"CancellationYear\",\"CancellationMonth\")"
   ]
  },
  {
   "cell_type": "code",
   "execution_count": 81,
   "id": "eb618024-eaf4-4f4a-9f6d-ff5d66d7f85e",
   "metadata": {},
   "outputs": [
    {
     "data": {
      "text/html": [
       "<style>\n",
       ".list-inline {list-style: none; margin:0; padding: 0}\n",
       ".list-inline>li {display: inline-block}\n",
       ".list-inline>li:not(:last-child)::after {content: \"\\00b7\"; padding: 0 .5ex}\n",
       "</style>\n",
       "<ol class=list-inline><li>'LoyaltyNumber'</li><li>'Year'</li><li>'Month'</li><li>'FlightsBooked'</li><li>'FlightsWithCompanions'</li><li>'TotalFlights'</li><li>'Distance'</li><li>'PointsAccumulated'</li><li>'PointsRedeemed'</li><li>'DollarCostPointsRedeemed'</li></ol>\n"
      ],
      "text/latex": [
       "\\begin{enumerate*}\n",
       "\\item 'LoyaltyNumber'\n",
       "\\item 'Year'\n",
       "\\item 'Month'\n",
       "\\item 'FlightsBooked'\n",
       "\\item 'FlightsWithCompanions'\n",
       "\\item 'TotalFlights'\n",
       "\\item 'Distance'\n",
       "\\item 'PointsAccumulated'\n",
       "\\item 'PointsRedeemed'\n",
       "\\item 'DollarCostPointsRedeemed'\n",
       "\\end{enumerate*}\n"
      ],
      "text/markdown": [
       "1. 'LoyaltyNumber'\n",
       "2. 'Year'\n",
       "3. 'Month'\n",
       "4. 'FlightsBooked'\n",
       "5. 'FlightsWithCompanions'\n",
       "6. 'TotalFlights'\n",
       "7. 'Distance'\n",
       "8. 'PointsAccumulated'\n",
       "9. 'PointsRedeemed'\n",
       "10. 'DollarCostPointsRedeemed'\n",
       "\n",
       "\n"
      ],
      "text/plain": [
       " [1] \"LoyaltyNumber\"            \"Year\"                    \n",
       " [3] \"Month\"                    \"FlightsBooked\"           \n",
       " [5] \"FlightsWithCompanions\"    \"TotalFlights\"            \n",
       " [7] \"Distance\"                 \"PointsAccumulated\"       \n",
       " [9] \"PointsRedeemed\"           \"DollarCostPointsRedeemed\""
      ]
     },
     "metadata": {},
     "output_type": "display_data"
    },
    {
     "data": {
      "text/html": [
       "<style>\n",
       ".list-inline {list-style: none; margin:0; padding: 0}\n",
       ".list-inline>li {display: inline-block}\n",
       ".list-inline>li:not(:last-child)::after {content: \"\\00b7\"; padding: 0 .5ex}\n",
       "</style>\n",
       "<ol class=list-inline><li>'LoyaltyNumber'</li><li>'Country'</li><li>'Province'</li><li>'City'</li><li>'PostalCode'</li><li>'Gender'</li><li>'Education'</li><li>'Salary'</li><li>'MaritalStatus'</li><li>'LoyaltyCard'</li><li>'CLV'</li><li>'EnrollmentType'</li><li>'EnrollmentYear'</li><li>'EnrollmentMonth'</li><li>'CancellationYear'</li><li>'CancellationMonth'</li></ol>\n"
      ],
      "text/latex": [
       "\\begin{enumerate*}\n",
       "\\item 'LoyaltyNumber'\n",
       "\\item 'Country'\n",
       "\\item 'Province'\n",
       "\\item 'City'\n",
       "\\item 'PostalCode'\n",
       "\\item 'Gender'\n",
       "\\item 'Education'\n",
       "\\item 'Salary'\n",
       "\\item 'MaritalStatus'\n",
       "\\item 'LoyaltyCard'\n",
       "\\item 'CLV'\n",
       "\\item 'EnrollmentType'\n",
       "\\item 'EnrollmentYear'\n",
       "\\item 'EnrollmentMonth'\n",
       "\\item 'CancellationYear'\n",
       "\\item 'CancellationMonth'\n",
       "\\end{enumerate*}\n"
      ],
      "text/markdown": [
       "1. 'LoyaltyNumber'\n",
       "2. 'Country'\n",
       "3. 'Province'\n",
       "4. 'City'\n",
       "5. 'PostalCode'\n",
       "6. 'Gender'\n",
       "7. 'Education'\n",
       "8. 'Salary'\n",
       "9. 'MaritalStatus'\n",
       "10. 'LoyaltyCard'\n",
       "11. 'CLV'\n",
       "12. 'EnrollmentType'\n",
       "13. 'EnrollmentYear'\n",
       "14. 'EnrollmentMonth'\n",
       "15. 'CancellationYear'\n",
       "16. 'CancellationMonth'\n",
       "\n",
       "\n"
      ],
      "text/plain": [
       " [1] \"LoyaltyNumber\"     \"Country\"           \"Province\"         \n",
       " [4] \"City\"              \"PostalCode\"        \"Gender\"           \n",
       " [7] \"Education\"         \"Salary\"            \"MaritalStatus\"    \n",
       "[10] \"LoyaltyCard\"       \"CLV\"               \"EnrollmentType\"   \n",
       "[13] \"EnrollmentYear\"    \"EnrollmentMonth\"   \"CancellationYear\" \n",
       "[16] \"CancellationMonth\""
      ]
     },
     "metadata": {},
     "output_type": "display_data"
    }
   ],
   "source": [
    "# Checking the result\n",
    "colnames(flights)\n",
    "colnames(loyalty)"
   ]
  },
  {
   "cell_type": "code",
   "execution_count": 84,
   "id": "39e6e65f-0ca6-442f-a34b-8a1ab6c21e60",
   "metadata": {},
   "outputs": [
    {
     "data": {
      "text/html": [
       "16737"
      ],
      "text/latex": [
       "16737"
      ],
      "text/markdown": [
       "16737"
      ],
      "text/plain": [
       "[1] 16737"
      ]
     },
     "metadata": {},
     "output_type": "display_data"
    },
    {
     "data": {
      "text/html": [
       "16737"
      ],
      "text/latex": [
       "16737"
      ],
      "text/markdown": [
       "16737"
      ],
      "text/plain": [
       "[1] 16737"
      ]
     },
     "metadata": {},
     "output_type": "display_data"
    }
   ],
   "source": [
    "length(unique(flights$LoyaltyNumber))\n",
    "length(unique(loyalty$LoyaltyNumber))"
   ]
  },
  {
   "cell_type": "markdown",
   "id": "849bef53-24e8-4134-a063-541c8f3c87e2",
   "metadata": {},
   "source": [
    "Both files have 16737 unique Loyalty Numbers. \n",
    "\n",
    "To limit the amount of data and make our analysis a bit simpler, let's join only aggregate data from the Flights data with the Loyalty data using an SQL inner join. We will also remove some columns we will not use, such as \"Country\" (which is Canada for all customers) and \"PostalCode\"."
   ]
  },
  {
   "cell_type": "code",
   "execution_count": 99,
   "id": "b9dbbeaf-ce62-49d5-9061-80e2c942d461",
   "metadata": {},
   "outputs": [],
   "source": []
  },
  {
   "cell_type": "code",
   "execution_count": 105,
   "id": "792aaf2d-ca63-4cff-98a5-e9fc4011938e",
   "metadata": {},
   "outputs": [],
   "source": [
    "data <- sqldf('\n",
    "SELECT \n",
    "  loyalty.LoyaltyNumber as Customer,\n",
    "  loyalty.Province as Province,\n",
    "  loyalty.City as City,\n",
    "  loyalty.Gender as Gender,\n",
    "  loyalty.Education as Education,\n",
    "  loyalty.Salary as Salary,\n",
    "  loyalty.MaritalStatus as MaritalStatus,\n",
    "  loyalty.LoyaltyCard as LoyaltyCard,\n",
    "  loyalty.CLV as CLV,\n",
    "  loyalty.EnrollmentType as EnrollmentType,\n",
    "  loyalty.EnrollmentYear as EnrollmentYear,\n",
    "  loyalty.EnrollmentMonth as EnrollmentMonth,\n",
    "  loyalty.CancellationYear as CancellationYear,\n",
    "  loyalty.CancellationMonth as CancellationMonth,\n",
    "  SUM(flights.FlightsBooked) as TotalSoloFlights,\n",
    "  SUM(flights.FlightsWithCompanions) as TotalCompanionFlights,\n",
    "  SUM(flights.TotalFlights) as TotalFlights,\n",
    "  SUM(flights.Distance) as TotalDistance,\n",
    "  SUM(flights.PointsAccumulated) as TotalPointsAccumulated,\n",
    "  SUM(flights.PointsRedeemed) as TotalPointsRedeemed,\n",
    "  SUM(flights.DollarCostPointsRedeemed) as TotalDollarCostPointsRedeemed\n",
    "FROM \n",
    "  flights\n",
    "INNER JOIN \n",
    "  loyalty\n",
    "ON \n",
    "  loyalty.LoyaltyNumber = flights.LoyaltyNumber\n",
    "GROUP BY\n",
    "  Customer\n",
    ";')\n",
    "\n",
    "# In case you need a full join:\n",
    "#\n",
    "# all_df <- sqldf('\n",
    "# SELECT \n",
    "#   * \n",
    "# FROM \n",
    "#   flights\n",
    "# INNER JOIN \n",
    "#   loyalty\n",
    "# ON \n",
    "#   flights.LoyaltyNumber = loyalty.LoyaltyNumber\n",
    "# ;')\n",
    "#\n",
    "# Write the resulting dataframe to output .csv file\n",
    "# write.csv(head(all_df, n=100), file = '../Data/All_Output_Sample.csv')"
   ]
  },
  {
   "cell_type": "code",
   "execution_count": 110,
   "id": "6331cfb0-34e8-41d8-8044-8ff7f29dec6d",
   "metadata": {},
   "outputs": [
    {
     "name": "stdout",
     "output_type": "stream",
     "text": [
      "'data.frame':\t16737 obs. of  21 variables:\n",
      " $ Customer                     : int  100018 100102 100140 100214 100272 100301 100364 100380 100428 100504 ...\n",
      " $ Province                     : chr  \"Alberta\" \"Ontario\" \"British Columbia\" \"British Columbia\" ...\n",
      " $ City                         : chr  \"Edmonton\" \"Toronto\" \"Dawson Creek\" \"Vancouver\" ...\n",
      " $ Gender                       : chr  \"Female\" \"Male\" \"Female\" \"Male\" ...\n",
      " $ Education                    : chr  \"Bachelor\" \"College\" \"College\" \"Bachelor\" ...\n",
      " $ Salary                       : int  92552 NA NA 63253 91163 70323 76849 69695 63478 75638 ...\n",
      " $ MaritalStatus                : chr  \"Married\" \"Single\" \"Divorced\" \"Married\" ...\n",
      " $ LoyaltyCard                  : chr  \"Aurora\" \"Nova\" \"Nova\" \"Star\" ...\n",
      " $ CLV                          : num  7919 2888 2838 4171 6622 ...\n",
      " $ EnrollmentType               : chr  \"Standard\" \"Standard\" \"Standard\" \"Standard\" ...\n",
      " $ EnrollmentYear               : int  2016 2013 2016 2015 2014 2013 2015 2012 2012 2017 ...\n",
      " $ EnrollmentMonth              : int  8 3 7 8 1 9 5 10 8 7 ...\n",
      " $ CancellationYear             : int  NA NA NA NA NA NA NA NA NA 2018 ...\n",
      " $ CancellationMonth            : int  NA NA NA NA NA NA NA NA NA 3 ...\n",
      " $ TotalSoloFlights             : int  157 173 152 79 127 145 111 116 121 67 ...\n",
      " $ TotalCompanionFlights        : int  35 42 38 17 36 46 28 43 22 6 ...\n",
      " $ TotalFlights                 : int  192 215 190 96 163 191 139 159 143 73 ...\n",
      " $ TotalDistance                : int  50682 40222 41252 33982 40872 42594 32211 35812 34495 15911 ...\n",
      " $ TotalPointsAccumulated       : num  5376 4115 4184 3426 4108 ...\n",
      " $ TotalPointsRedeemed          : int  1513 1195 593 861 1007 1381 559 1142 1658 0 ...\n",
      " $ TotalDollarCostPointsRedeemed: int  123 96 48 70 82 112 45 92 134 0 ...\n"
     ]
    }
   ],
   "source": [
    "str(data)"
   ]
  },
  {
   "cell_type": "code",
   "execution_count": 119,
   "id": "2c1d8622-6c92-40ad-923e-094bf5ca4d51",
   "metadata": {},
   "outputs": [
    {
     "name": "stdout",
     "output_type": "stream",
     "text": [
      "[1] \"Customer 0\"\n",
      "[1] \"Province 0\"\n",
      "[1] \"City 0\"\n",
      "[1] \"Gender 0\"\n",
      "[1] \"Education 0\"\n",
      "[1] \"Salary 4238\"\n",
      "[1] \"MaritalStatus 0\"\n",
      "[1] \"LoyaltyCard 0\"\n",
      "[1] \"CLV 0\"\n",
      "[1] \"EnrollmentType 0\"\n",
      "[1] \"EnrollmentYear 0\"\n",
      "[1] \"EnrollmentMonth 0\"\n",
      "[1] \"CancellationYear 14670\"\n",
      "[1] \"CancellationMonth 14670\"\n",
      "[1] \"TotalSoloFlights 0\"\n",
      "[1] \"TotalCompanionFlights 0\"\n",
      "[1] \"TotalFlights 0\"\n",
      "[1] \"TotalDistance 0\"\n",
      "[1] \"TotalPointsAccumulated 0\"\n",
      "[1] \"TotalPointsRedeemed 0\"\n",
      "[1] \"TotalDollarCostPointsRedeemed 0\"\n"
     ]
    }
   ],
   "source": [
    "# Checking if there are more columns with NAs\n",
    "for (name in colnames(data)){\n",
    "        print(paste(name,sum(is.na(data[name]))))\n",
    "    }"
   ]
  },
  {
   "cell_type": "markdown",
   "id": "4e259bb2-92f1-4a14-8dfc-f7edca4f31bd",
   "metadata": {},
   "source": [
    "Only Salary, CancellationYear and CancellationMonth contain NAs. For now I'm replacing the Salary NAs with 0. "
   ]
  },
  {
   "cell_type": "code",
   "execution_count": 127,
   "id": "d9fe21f9-b688-45c2-96e5-acde198525b5",
   "metadata": {},
   "outputs": [],
   "source": [
    "data$Salary[which(is.na(data$Salary))] = 0"
   ]
  },
  {
   "cell_type": "code",
   "execution_count": 132,
   "id": "44626d7b-aaaf-46f4-b294-b48b299508e5",
   "metadata": {},
   "outputs": [
    {
     "name": "stdout",
     "output_type": "stream",
     "text": [
      "'data.frame':\t16737 obs. of  21 variables:\n",
      " $ Customer                     : int  100018 100102 100140 100214 100272 100301 100364 100380 100428 100504 ...\n",
      " $ Province                     : chr  \"Alberta\" \"Ontario\" \"British Columbia\" \"British Columbia\" ...\n",
      " $ City                         : chr  \"Edmonton\" \"Toronto\" \"Dawson Creek\" \"Vancouver\" ...\n",
      " $ Gender                       : chr  \"Female\" \"Male\" \"Female\" \"Male\" ...\n",
      " $ Education                    : chr  \"Bachelor\" \"College\" \"College\" \"Bachelor\" ...\n",
      " $ Salary                       : num  92552 0 0 63253 91163 ...\n",
      " $ MaritalStatus                : chr  \"Married\" \"Single\" \"Divorced\" \"Married\" ...\n",
      " $ LoyaltyCard                  : Factor w/ 3 levels \"Aurora\",\"Nova\",..: 1 2 2 3 3 2 2 3 1 2 ...\n",
      " $ CLV                          : num  7919 2888 2838 4171 6622 ...\n",
      " $ EnrollmentType               : chr  \"Standard\" \"Standard\" \"Standard\" \"Standard\" ...\n",
      " $ EnrollmentYear               : int  2016 2013 2016 2015 2014 2013 2015 2012 2012 2017 ...\n",
      " $ EnrollmentMonth              : int  8 3 7 8 1 9 5 10 8 7 ...\n",
      " $ CancellationYear             : int  NA NA NA NA NA NA NA NA NA 2018 ...\n",
      " $ CancellationMonth            : int  NA NA NA NA NA NA NA NA NA 3 ...\n",
      " $ TotalSoloFlights             : int  157 173 152 79 127 145 111 116 121 67 ...\n",
      " $ TotalCompanionFlights        : int  35 42 38 17 36 46 28 43 22 6 ...\n",
      " $ TotalFlights                 : int  192 215 190 96 163 191 139 159 143 73 ...\n",
      " $ TotalDistance                : int  50682 40222 41252 33982 40872 42594 32211 35812 34495 15911 ...\n",
      " $ TotalPointsAccumulated       : num  5376 4115 4184 3426 4108 ...\n",
      " $ TotalPointsRedeemed          : int  1513 1195 593 861 1007 1381 559 1142 1658 0 ...\n",
      " $ TotalDollarCostPointsRedeemed: int  123 96 48 70 82 112 45 92 134 0 ...\n"
     ]
    }
   ],
   "source": [
    "str(data)"
   ]
  },
  {
   "cell_type": "code",
   "execution_count": 133,
   "id": "3b49dcd8-0c7b-43a4-8636-323628ab552e",
   "metadata": {},
   "outputs": [],
   "source": [
    "data$Gender = as.factor(data$Gender)\n",
    "data$Education = as.factor(data$Education)\n",
    "data$MaritalStatus = as.factor(data$MaritalStatus)\n",
    "data$LoyaltyCard = as.factor(data$LoyaltyCard)\n",
    "data$EnrollmentType = as.factor(data$EnrollmentType)"
   ]
  },
  {
   "cell_type": "code",
   "execution_count": 135,
   "id": "61672128-664f-4cc3-9709-77ddf759ae3f",
   "metadata": {},
   "outputs": [
    {
     "data": {
      "text/plain": [
       "    Customer        Province             City              Gender    \n",
       " Min.   :100018   Length:16737       Length:16737       Female:8410  \n",
       " 1st Qu.:326603   Class :character   Class :character   Male  :8327  \n",
       " Median :550434   Mode  :character   Mode  :character                \n",
       " Mean   :549736                                                      \n",
       " 3rd Qu.:772019                                                      \n",
       " Max.   :999986                                                      \n",
       "                                                                     \n",
       "                Education         Salary        MaritalStatus  LoyaltyCard  \n",
       " Bachelor            :10475   Min.   :-58486   Divorced:2518   Aurora:3429  \n",
       " College             : 4238   1st Qu.:     0   Married :9735   Nova  :5671  \n",
       " Doctor              :  734   Median : 63654   Single  :4484   Star  :7637  \n",
       " High School or Below:  782   Mean   : 59180                                \n",
       " Master              :  508   3rd Qu.: 82940                                \n",
       "                              Max.   :407228                                \n",
       "                                                                            \n",
       "      CLV               EnrollmentType  EnrollmentYear EnrollmentMonth \n",
       " Min.   : 1898   2018 Promotion:  971   Min.   :2012   Min.   : 1.000  \n",
       " 1st Qu.: 3981   Standard      :15766   1st Qu.:2014   1st Qu.: 4.000  \n",
       " Median : 5780                          Median :2015   Median : 7.000  \n",
       " Mean   : 7989                          Mean   :2015   Mean   : 6.669  \n",
       " 3rd Qu.: 8941                          3rd Qu.:2017   3rd Qu.:10.000  \n",
       " Max.   :83325                          Max.   :2018   Max.   :12.000  \n",
       "                                                                       \n",
       " CancellationYear CancellationMonth TotalSoloFlights TotalCompanionFlights\n",
       " Min.   :2013     Min.   : 1.000    Min.   :  0.00   Min.   :  0.00       \n",
       " 1st Qu.:2016     1st Qu.: 4.000    1st Qu.: 60.00   1st Qu.: 13.00       \n",
       " Median :2017     Median : 7.000    Median :113.00   Median : 26.00       \n",
       " Mean   :2017     Mean   : 6.963    Mean   : 99.73   Mean   : 25.01       \n",
       " 3rd Qu.:2018     3rd Qu.:10.000    3rd Qu.:139.00   3rd Qu.: 36.00       \n",
       " Max.   :2018     Max.   :12.000    Max.   :354.00   Max.   :103.00       \n",
       " NA's   :14670    NA's   :14670                                           \n",
       "  TotalFlights   TotalDistance    TotalPointsAccumulated TotalPointsRedeemed\n",
       " Min.   :  0.0   Min.   :     0   Min.   :    0          Min.   :   0.0     \n",
       " 1st Qu.: 75.0   1st Qu.: 17722   1st Qu.: 1822          1st Qu.:   0.0     \n",
       " Median :142.0   Median : 33815   Median : 3454          Median : 576.0     \n",
       " Mean   :124.7   Mean   : 29297   Mean   : 2998          Mean   : 743.9     \n",
       " 3rd Qu.:174.0   3rd Qu.: 40809   3rd Qu.: 4181          3rd Qu.:1182.0     \n",
       " Max.   :448.0   Max.   :101959   Max.   :10588          Max.   :4479.0     \n",
       "                                                                            \n",
       " TotalDollarCostPointsRedeemed\n",
       " Min.   :  0.00               \n",
       " 1st Qu.:  0.00               \n",
       " Median : 47.00               \n",
       " Mean   : 60.21               \n",
       " 3rd Qu.: 96.00               \n",
       " Max.   :363.00               \n",
       "                              "
      ]
     },
     "metadata": {},
     "output_type": "display_data"
    }
   ],
   "source": [
    "summary(data)"
   ]
  },
  {
   "cell_type": "code",
   "execution_count": 140,
   "id": "16d8327a-e143-4572-87d6-a6289b0ffbb6",
   "metadata": {},
   "outputs": [
    {
     "data": {
      "text/html": [],
      "text/latex": [],
      "text/markdown": [],
      "text/plain": [
       "numeric(0)"
      ]
     },
     "metadata": {},
     "output_type": "display_data"
    }
   ],
   "source": [
    "# Set negative Salary to zero\n",
    "data$Salary[data$Salary < 0] = 0"
   ]
  },
  {
   "cell_type": "code",
   "execution_count": 141,
   "id": "8762996e-3667-4770-b481-47192593f2ee",
   "metadata": {},
   "outputs": [
    {
     "data": {
      "image/png": "[encoded data removed]",
      "text/plain": [
       "Plot with title “Total Points Redeemed”"
      ]
     },
     "metadata": {
      "image/png": {
       "height": 420,
       "width": 420
      }
     },
     "output_type": "display_data"
    }
   ],
   "source": [
    "opar <- par(no.readonly=TRUE)\n",
    "par(mfrow=c(2,2))\n",
    "hist(data$Salary, col='lightblue', main='Salary')\n",
    "hist(data$CLV, col='lightblue', main='CLV')\n",
    "hist(data$TotalFlights, col='lightblue', main='Total Flights')\n",
    "hist(data$TotalDistance, col='lightblue', main='Total Distance')\n",
    "hist(data$TotalPointsAccumulated, col='lightblue', main='Total Points Accumulated')\n",
    "hist(data$TotalPointsRedeemed, col='lightblue', main='Total Points Redeemed')\n",
    "par(opar)"
   ]
  },
  {
   "cell_type": "code",
   "execution_count": null,
   "id": "c582a76b-3e8d-4016-aae4-920ed668d7e7",
   "metadata": {},
   "outputs": [],
   "source": []
  }
 ],
 "metadata": {
  "kernelspec": {
   "display_name": "R",
   "language": "R",
   "name": "ir"
  },
  "language_info": {
   "codemirror_mode": "r",
   "file_extension": ".r",
   "mimetype": "text/x-r-source",
   "name": "R",
   "pygments_lexer": "r",
   "version": "4.3.1"
  }
 },
 "nbformat": 4,
 "nbformat_minor": 5
}
